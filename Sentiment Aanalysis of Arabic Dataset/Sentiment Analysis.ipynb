{
  "nbformat": 4,
  "nbformat_minor": 0,
  "metadata": {
    "colab": {
      "provenance": []
    },
    "kernelspec": {
      "name": "python3",
      "display_name": "Python 3"
    },
    "language_info": {
      "name": "python"
    },
    "accelerator": "TPU",
    "gpuClass": "standard"
  },
  "cells": [
    {
      "cell_type": "markdown",
      "source": [
        "Mount the Drive First"
      ],
      "metadata": {
        "id": "tjHRAJ4TbK5v"
      }
    },
    {
      "cell_type": "code",
      "source": [
        "from google.colab import drive\n",
        "drive.mount('/content/drive')"
      ],
      "metadata": {
        "colab": {
          "base_uri": "https://localhost:8080/"
        },
        "id": "uwrth_dNSfdh",
        "outputId": "744fac3d-ee1c-40cd-8881-a2c7626a816d"
      },
      "execution_count": null,
      "outputs": [
        {
          "output_type": "stream",
          "name": "stdout",
          "text": [
            "Mounted at /content/drive\n"
          ]
        }
      ]
    },
    {
      "cell_type": "markdown",
      "source": [
        "Import the libraries"
      ],
      "metadata": {
        "id": "vQHv7HQgbUNi"
      }
    },
    {
      "cell_type": "code",
      "source": [
        "import pandas as pd\n",
        "import numpy as np "
      ],
      "metadata": {
        "id": "7pxCKNAZSogO"
      },
      "execution_count": null,
      "outputs": []
    },
    {
      "cell_type": "markdown",
      "source": [
        "Read the Comments"
      ],
      "metadata": {
        "id": "ChU5yeSmbXls"
      }
    },
    {
      "cell_type": "code",
      "source": [
        "df1_Comment=pd.read_csv('/content/drive/MyDrive/Sentiment Project datset/Sentiment Dataset/comments_art-et-culture.csv',nrows=100)\n",
        "df2_Comment=pd.read_csv('/content/drive/MyDrive/Sentiment Project datset/Sentiment Dataset/comments_economie.csv',nrows=100)\n",
        "df3_Comment=pd.read_csv('/content/drive/MyDrive/Sentiment Project datset/Sentiment Dataset/comments_faits-divers.csv',nrows=100)\n",
        "df4_Comment=pd.read_csv('/content/drive/MyDrive/Sentiment Project datset/Sentiment Dataset/comments_marocains-du-monde.csv',nrows=100)\n",
        "df5_Comment=pd.read_csv('/content/drive/MyDrive/Sentiment Project datset/Sentiment Dataset/comments_medias.csv',nrows=100)\n",
        "df6_Comment=pd.read_csv('/content/drive/MyDrive/Sentiment Project datset/Sentiment Dataset/comments_orbites.csv',nrows=100)\n",
        "df7_Comment=pd.read_csv('/content/drive/MyDrive/Sentiment Project datset/Sentiment Dataset/comments_politique.csv',nrows=100)\n",
        "df8_Comment=pd.read_csv('/content/drive/MyDrive/Sentiment Project datset/Sentiment Dataset/comments_regions.csv',nrows=100)\n",
        "df9_Comment=pd.read_csv('/content/drive/MyDrive/Sentiment Project datset/Sentiment Dataset/comments_societe.csv',nrows=100)\n",
        "df10_Comment=pd.read_csv('/content/drive/MyDrive/Sentiment Project datset/Sentiment Dataset/comments_sport.csv',nrows=100)\n",
        "df11_Comment=pd.read_csv('/content/drive/MyDrive/Sentiment Project datset/Sentiment Dataset/comments_tamazight.csv',nrows=100)\n",
        "df1_Stories=pd.read_csv('/content/drive/MyDrive/Sentiment Project datset/Sentiment Dataset/stories_art-et-culture.csv',nrows=100)\n",
        "df2_Stories=pd.read_csv('/content/drive/MyDrive/Sentiment Project datset/Sentiment Dataset/stories_economie.csv',nrows=100)\n",
        "df3_Stories=pd.read_csv('/content/drive/MyDrive/Sentiment Project datset/Sentiment Dataset/stories_faits-divers.csv',nrows=100)\n",
        "df4_Stories=pd.read_csv('/content/drive/MyDrive/Sentiment Project datset/Sentiment Dataset/stories_marocains-du-monde.csv',nrows=100)\n",
        "df5_Stories=pd.read_csv('/content/drive/MyDrive/Sentiment Project datset/Sentiment Dataset/stories_medias.csv',nrows=100)\n",
        "df6_Stories=pd.read_csv('/content/drive/MyDrive/Sentiment Project datset/Sentiment Dataset/stories_orbites.csv',nrows=100)\n",
        "df7_Stories=pd.read_csv('/content/drive/MyDrive/Sentiment Project datset/Sentiment Dataset/stories_politique.csv',nrows=100)\n",
        "df8_Stories=pd.read_csv('/content/drive/MyDrive/Sentiment Project datset/Sentiment Dataset/stories_regions.csv',nrows=100)\n",
        "df9_Stories=pd.read_csv('/content/drive/MyDrive/Sentiment Project datset/Sentiment Dataset/comments_societe.csv',nrows=100)\n",
        "df10_Stories=pd.read_csv('/content/drive/MyDrive/Sentiment Project datset/Sentiment Dataset/comments_sport.csv',nrows=100)\n",
        "df11_Stories=pd.read_csv('/content/drive/MyDrive/Sentiment Project datset/Sentiment Dataset/comments_tamazight.csv',nrows=100)"
      ],
      "metadata": {
        "id": "YH3CFXRlZ9E9"
      },
      "execution_count": null,
      "outputs": []
    },
    {
      "cell_type": "markdown",
      "source": [
        "We only Need Comment and Stories Section to calculate the Sentiments of the text and draw a dashboard based on that data "
      ],
      "metadata": {
        "id": "wdQomkJybbym"
      }
    },
    {
      "cell_type": "markdown",
      "source": [
        "Applying Concatination"
      ],
      "metadata": {
        "id": "DlRoEvTgbpj8"
      }
    },
    {
      "cell_type": "code",
      "source": [
        "Concat_Comments= pd.concat([df1_Comment,df2_Comment,df3_Comment,df4_Comment,df5_Comment,\n",
        "                                             df6_Comment,df7_Comment,df8_Comment,df9_Comment,df10_Comment,\n",
        "                                             df11_Comment], axis=0)\n",
        "Concat_Stories= pd.concat([df1_Stories,df2_Stories,df3_Stories,df4_Stories,df5_Stories,\n",
        "                                             df6_Stories,df7_Stories,df8_Stories,df9_Stories,df10_Stories,\n",
        "                                             df11_Stories], axis=0)\n"
      ],
      "metadata": {
        "id": "zgMep9iJapMW"
      },
      "execution_count": null,
      "outputs": []
    },
    {
      "cell_type": "markdown",
      "source": [
        "Comment,Sentiment and topic is the important one to calculate sentiment analysis"
      ],
      "metadata": {
        "id": "wA8fYYIWU2HM"
      }
    },
    {
      "cell_type": "code",
      "source": [
        "Concat_Comments=Concat_Comments[['comment','topic']]\n",
        "Concat_Stories=Concat_Stories[['story','topic']]"
      ],
      "metadata": {
        "id": "Y_PxYHI1dA7C"
      },
      "execution_count": null,
      "outputs": []
    },
    {
      "cell_type": "markdown",
      "source": [
        "Renaming  the columns "
      ],
      "metadata": {
        "id": "Bba5xRk3VADd"
      }
    },
    {
      "cell_type": "code",
      "source": [
        "Concat_Comments.rename(columns={\"comment\": \"Sentence\"}, inplace=True)\n",
        "Concat_Stories.rename(columns={\"story\": \"Sentence\"}, inplace=True)"
      ],
      "metadata": {
        "id": "y5oZqdrXnJzu"
      },
      "execution_count": null,
      "outputs": []
    },
    {
      "cell_type": "markdown",
      "source": [
        "Concatinating Comments and Stories"
      ],
      "metadata": {
        "id": "Dy5pe6R0VD2k"
      }
    },
    {
      "cell_type": "code",
      "source": [
        "Sentiment_data=pd.concat([Concat_Comments,Concat_Stories],axis=0)"
      ],
      "metadata": {
        "id": "eWus0pdbqoep"
      },
      "execution_count": null,
      "outputs": []
    },
    {
      "cell_type": "code",
      "source": [
        "Sentiment_data.head(2)"
      ],
      "metadata": {
        "colab": {
          "base_uri": "https://localhost:8080/",
          "height": 112
        },
        "id": "68a5rbpOq3yW",
        "outputId": "7ed22506-4291-4835-e4fa-be0d3347f9e8"
      },
      "execution_count": null,
      "outputs": [
        {
          "output_type": "execute_result",
          "data": {
            "text/plain": [
              "                                            Sentence           topic\n",
              "0  علينا الاهتمام ببيت الابحاث العلمية و المختبرا...  art-et-culture\n",
              "1  بيت الشعر في المغرب يحظى بالتقدير داخل وخارج أ...  art-et-culture"
            ],
            "text/html": [
              "\n",
              "  <div id=\"df-e03c2d75-04e8-417e-b907-94be9ef70bc4\">\n",
              "    <div class=\"colab-df-container\">\n",
              "      <div>\n",
              "<style scoped>\n",
              "    .dataframe tbody tr th:only-of-type {\n",
              "        vertical-align: middle;\n",
              "    }\n",
              "\n",
              "    .dataframe tbody tr th {\n",
              "        vertical-align: top;\n",
              "    }\n",
              "\n",
              "    .dataframe thead th {\n",
              "        text-align: right;\n",
              "    }\n",
              "</style>\n",
              "<table border=\"1\" class=\"dataframe\">\n",
              "  <thead>\n",
              "    <tr style=\"text-align: right;\">\n",
              "      <th></th>\n",
              "      <th>Sentence</th>\n",
              "      <th>topic</th>\n",
              "    </tr>\n",
              "  </thead>\n",
              "  <tbody>\n",
              "    <tr>\n",
              "      <th>0</th>\n",
              "      <td>علينا الاهتمام ببيت الابحاث العلمية و المختبرا...</td>\n",
              "      <td>art-et-culture</td>\n",
              "    </tr>\n",
              "    <tr>\n",
              "      <th>1</th>\n",
              "      <td>بيت الشعر في المغرب يحظى بالتقدير داخل وخارج أ...</td>\n",
              "      <td>art-et-culture</td>\n",
              "    </tr>\n",
              "  </tbody>\n",
              "</table>\n",
              "</div>\n",
              "      <button class=\"colab-df-convert\" onclick=\"convertToInteractive('df-e03c2d75-04e8-417e-b907-94be9ef70bc4')\"\n",
              "              title=\"Convert this dataframe to an interactive table.\"\n",
              "              style=\"display:none;\">\n",
              "        \n",
              "  <svg xmlns=\"http://www.w3.org/2000/svg\" height=\"24px\"viewBox=\"0 0 24 24\"\n",
              "       width=\"24px\">\n",
              "    <path d=\"M0 0h24v24H0V0z\" fill=\"none\"/>\n",
              "    <path d=\"M18.56 5.44l.94 2.06.94-2.06 2.06-.94-2.06-.94-.94-2.06-.94 2.06-2.06.94zm-11 1L8.5 8.5l.94-2.06 2.06-.94-2.06-.94L8.5 2.5l-.94 2.06-2.06.94zm10 10l.94 2.06.94-2.06 2.06-.94-2.06-.94-.94-2.06-.94 2.06-2.06.94z\"/><path d=\"M17.41 7.96l-1.37-1.37c-.4-.4-.92-.59-1.43-.59-.52 0-1.04.2-1.43.59L10.3 9.45l-7.72 7.72c-.78.78-.78 2.05 0 2.83L4 21.41c.39.39.9.59 1.41.59.51 0 1.02-.2 1.41-.59l7.78-7.78 2.81-2.81c.8-.78.8-2.07 0-2.86zM5.41 20L4 18.59l7.72-7.72 1.47 1.35L5.41 20z\"/>\n",
              "  </svg>\n",
              "      </button>\n",
              "      \n",
              "  <style>\n",
              "    .colab-df-container {\n",
              "      display:flex;\n",
              "      flex-wrap:wrap;\n",
              "      gap: 12px;\n",
              "    }\n",
              "\n",
              "    .colab-df-convert {\n",
              "      background-color: #E8F0FE;\n",
              "      border: none;\n",
              "      border-radius: 50%;\n",
              "      cursor: pointer;\n",
              "      display: none;\n",
              "      fill: #1967D2;\n",
              "      height: 32px;\n",
              "      padding: 0 0 0 0;\n",
              "      width: 32px;\n",
              "    }\n",
              "\n",
              "    .colab-df-convert:hover {\n",
              "      background-color: #E2EBFA;\n",
              "      box-shadow: 0px 1px 2px rgba(60, 64, 67, 0.3), 0px 1px 3px 1px rgba(60, 64, 67, 0.15);\n",
              "      fill: #174EA6;\n",
              "    }\n",
              "\n",
              "    [theme=dark] .colab-df-convert {\n",
              "      background-color: #3B4455;\n",
              "      fill: #D2E3FC;\n",
              "    }\n",
              "\n",
              "    [theme=dark] .colab-df-convert:hover {\n",
              "      background-color: #434B5C;\n",
              "      box-shadow: 0px 1px 3px 1px rgba(0, 0, 0, 0.15);\n",
              "      filter: drop-shadow(0px 1px 2px rgba(0, 0, 0, 0.3));\n",
              "      fill: #FFFFFF;\n",
              "    }\n",
              "  </style>\n",
              "\n",
              "      <script>\n",
              "        const buttonEl =\n",
              "          document.querySelector('#df-e03c2d75-04e8-417e-b907-94be9ef70bc4 button.colab-df-convert');\n",
              "        buttonEl.style.display =\n",
              "          google.colab.kernel.accessAllowed ? 'block' : 'none';\n",
              "\n",
              "        async function convertToInteractive(key) {\n",
              "          const element = document.querySelector('#df-e03c2d75-04e8-417e-b907-94be9ef70bc4');\n",
              "          const dataTable =\n",
              "            await google.colab.kernel.invokeFunction('convertToInteractive',\n",
              "                                                     [key], {});\n",
              "          if (!dataTable) return;\n",
              "\n",
              "          const docLinkHtml = 'Like what you see? Visit the ' +\n",
              "            '<a target=\"_blank\" href=https://colab.research.google.com/notebooks/data_table.ipynb>data table notebook</a>'\n",
              "            + ' to learn more about interactive tables.';\n",
              "          element.innerHTML = '';\n",
              "          dataTable['output_type'] = 'display_data';\n",
              "          await google.colab.output.renderOutput(dataTable, element);\n",
              "          const docLink = document.createElement('div');\n",
              "          docLink.innerHTML = docLinkHtml;\n",
              "          element.appendChild(docLink);\n",
              "        }\n",
              "      </script>\n",
              "    </div>\n",
              "  </div>\n",
              "  "
            ]
          },
          "metadata": {},
          "execution_count": 26
        }
      ]
    },
    {
      "cell_type": "code",
      "source": [
        "!pip3 install googletrans==3.1.0a0"
      ],
      "metadata": {
        "colab": {
          "base_uri": "https://localhost:8080/"
        },
        "id": "ykTwW4trxq3W",
        "outputId": "ec2aafcd-40be-4a32-f07f-e1794b951ca2"
      },
      "execution_count": null,
      "outputs": [
        {
          "output_type": "stream",
          "name": "stdout",
          "text": [
            "Looking in indexes: https://pypi.org/simple, https://us-python.pkg.dev/colab-wheels/public/simple/\n",
            "Collecting googletrans==3.1.0a0\n",
            "  Downloading googletrans-3.1.0a0.tar.gz (19 kB)\n",
            "  Preparing metadata (setup.py) ... \u001b[?25l\u001b[?25hdone\n",
            "Collecting httpx==0.13.3\n",
            "  Downloading httpx-0.13.3-py3-none-any.whl (55 kB)\n",
            "\u001b[2K     \u001b[90m━━━━━━━━━━━━━━━━━━━━━━━━━━━━━━━━━━━━━━━━\u001b[0m \u001b[32m55.1/55.1 KB\u001b[0m \u001b[31m3.2 MB/s\u001b[0m eta \u001b[36m0:00:00\u001b[0m\n",
            "\u001b[?25hRequirement already satisfied: certifi in /usr/local/lib/python3.8/dist-packages (from httpx==0.13.3->googletrans==3.1.0a0) (2022.12.7)\n",
            "Collecting chardet==3.*\n",
            "  Downloading chardet-3.0.4-py2.py3-none-any.whl (133 kB)\n",
            "\u001b[2K     \u001b[90m━━━━━━━━━━━━━━━━━━━━━━━━━━━━━━━━━━━━━━━\u001b[0m \u001b[32m133.4/133.4 KB\u001b[0m \u001b[31m8.4 MB/s\u001b[0m eta \u001b[36m0:00:00\u001b[0m\n",
            "\u001b[?25hRequirement already satisfied: idna==2.* in /usr/local/lib/python3.8/dist-packages (from httpx==0.13.3->googletrans==3.1.0a0) (2.10)\n",
            "Collecting sniffio\n",
            "  Downloading sniffio-1.3.0-py3-none-any.whl (10 kB)\n",
            "Collecting hstspreload\n",
            "  Downloading hstspreload-2023.1.1-py3-none-any.whl (1.5 MB)\n",
            "\u001b[2K     \u001b[90m━━━━━━━━━━━━━━━━━━━━━━━━━━━━━━━━━━━━━━━━\u001b[0m \u001b[32m1.5/1.5 MB\u001b[0m \u001b[31m39.3 MB/s\u001b[0m eta \u001b[36m0:00:00\u001b[0m\n",
            "\u001b[?25hCollecting httpcore==0.9.*\n",
            "  Downloading httpcore-0.9.1-py3-none-any.whl (42 kB)\n",
            "\u001b[2K     \u001b[90m━━━━━━━━━━━━━━━━━━━━━━━━━━━━━━━━━━━━━━━━\u001b[0m \u001b[32m42.6/42.6 KB\u001b[0m \u001b[31m5.2 MB/s\u001b[0m eta \u001b[36m0:00:00\u001b[0m\n",
            "\u001b[?25hCollecting rfc3986<2,>=1.3\n",
            "  Downloading rfc3986-1.5.0-py2.py3-none-any.whl (31 kB)\n",
            "Collecting h2==3.*\n",
            "  Downloading h2-3.2.0-py2.py3-none-any.whl (65 kB)\n",
            "\u001b[2K     \u001b[90m━━━━━━━━━━━━━━━━━━━━━━━━━━━━━━━━━━━━━━━━\u001b[0m \u001b[32m65.0/65.0 KB\u001b[0m \u001b[31m8.1 MB/s\u001b[0m eta \u001b[36m0:00:00\u001b[0m\n",
            "\u001b[?25hCollecting h11<0.10,>=0.8\n",
            "  Downloading h11-0.9.0-py2.py3-none-any.whl (53 kB)\n",
            "\u001b[2K     \u001b[90m━━━━━━━━━━━━━━━━━━━━━━━━━━━━━━━━━━━━━━━━\u001b[0m \u001b[32m53.6/53.6 KB\u001b[0m \u001b[31m6.5 MB/s\u001b[0m eta \u001b[36m0:00:00\u001b[0m\n",
            "\u001b[?25hCollecting hpack<4,>=3.0\n",
            "  Downloading hpack-3.0.0-py2.py3-none-any.whl (38 kB)\n",
            "Collecting hyperframe<6,>=5.2.0\n",
            "  Downloading hyperframe-5.2.0-py2.py3-none-any.whl (12 kB)\n",
            "Building wheels for collected packages: googletrans\n",
            "  Building wheel for googletrans (setup.py) ... \u001b[?25l\u001b[?25hdone\n",
            "  Created wheel for googletrans: filename=googletrans-3.1.0a0-py3-none-any.whl size=16368 sha256=5ad49a917bcd91b5b546153ef6c003c5542bf0a1570534532677362054090b7a\n",
            "  Stored in directory: /root/.cache/pip/wheels/dd/59/af/8d6c96a719763990f1c548e36b17d9efdfb767f42f7ff39f53\n",
            "Successfully built googletrans\n",
            "Installing collected packages: rfc3986, hyperframe, hpack, h11, chardet, sniffio, hstspreload, h2, httpcore, httpx, googletrans\n",
            "  Attempting uninstall: chardet\n",
            "    Found existing installation: chardet 4.0.0\n",
            "    Uninstalling chardet-4.0.0:\n",
            "      Successfully uninstalled chardet-4.0.0\n",
            "Successfully installed chardet-3.0.4 googletrans-3.1.0a0 h11-0.9.0 h2-3.2.0 hpack-3.0.0 hstspreload-2023.1.1 httpcore-0.9.1 httpx-0.13.3 hyperframe-5.2.0 rfc3986-1.5.0 sniffio-1.3.0\n"
          ]
        }
      ]
    },
    {
      "cell_type": "code",
      "source": [
        "from googletrans import Translator, constants\n",
        "from pprint import pprint\n",
        "import re\n",
        "translator = Translator()"
      ],
      "metadata": {
        "id": "AraFNULcw9B5"
      },
      "execution_count": null,
      "outputs": []
    },
    {
      "cell_type": "code",
      "source": [
        "!pip install vaderSentiment"
      ],
      "metadata": {
        "colab": {
          "base_uri": "https://localhost:8080/"
        },
        "id": "wZ17jtTI2ih7",
        "outputId": "8b51640a-2c5b-466e-c8d0-0c125b28f368"
      },
      "execution_count": null,
      "outputs": [
        {
          "output_type": "stream",
          "name": "stdout",
          "text": [
            "Looking in indexes: https://pypi.org/simple, https://us-python.pkg.dev/colab-wheels/public/simple/\n",
            "Collecting vaderSentiment\n",
            "  Downloading vaderSentiment-3.3.2-py2.py3-none-any.whl (125 kB)\n",
            "\u001b[2K     \u001b[90m━━━━━━━━━━━━━━━━━━━━━━━━━━━━━━━━━━━━━━━\u001b[0m \u001b[32m126.0/126.0 KB\u001b[0m \u001b[31m4.0 MB/s\u001b[0m eta \u001b[36m0:00:00\u001b[0m\n",
            "\u001b[?25hRequirement already satisfied: requests in /usr/local/lib/python3.8/dist-packages (from vaderSentiment) (2.25.1)\n",
            "Requirement already satisfied: chardet<5,>=3.0.2 in /usr/local/lib/python3.8/dist-packages (from requests->vaderSentiment) (3.0.4)\n",
            "Requirement already satisfied: urllib3<1.27,>=1.21.1 in /usr/local/lib/python3.8/dist-packages (from requests->vaderSentiment) (1.24.3)\n",
            "Requirement already satisfied: idna<3,>=2.5 in /usr/local/lib/python3.8/dist-packages (from requests->vaderSentiment) (2.10)\n",
            "Requirement already satisfied: certifi>=2017.4.17 in /usr/local/lib/python3.8/dist-packages (from requests->vaderSentiment) (2022.12.7)\n",
            "Installing collected packages: vaderSentiment\n",
            "Successfully installed vaderSentiment-3.3.2\n"
          ]
        }
      ]
    },
    {
      "cell_type": "markdown",
      "source": [
        "Cleaning Text"
      ],
      "metadata": {
        "id": "jjFk1mMRVNhA"
      }
    },
    {
      "cell_type": "code",
      "source": [
        "def cleaning_text(sentence) :\n",
        "    sentence = sentence.lower()                    # lower text\n",
        "    sentence = re.sub('http\\S+\\s*', '', sentence)  # remove URLs\n",
        "    sentence = re.sub('\\W+', ' ', sentence)        # remove commas \n",
        "    sentence= re.sub('RT|cc', '', sentence)  # remove RT and cc\n",
        "    sentence = re.sub('#\\S+', '', sentence)  # remove hashtags\n",
        "    sentence = re.sub('@\\S+', '', sentence)  # remove mentions\n",
        "    sentence = re.sub('[%s]' % re.escape(\"\"\"!\"#$%&'()*+,-./:;<=>?@[\\]^_`{|}~\"\"\"), '',sentence)  # remove punctuations\n",
        "    sentence = re.sub('\\s+', ' ', sentence)  # remove extra whitespace\n",
        "    sentence = re.sub(r'[0-9]', '', sentence) # remove digits from text\n",
        "    return sentence\n",
        "    "
      ],
      "metadata": {
        "id": "EmERTWLA3mIu"
      },
      "execution_count": null,
      "outputs": []
    },
    {
      "cell_type": "code",
      "source": [
        "import nltk\n",
        "nltk.download('punkt')\n",
        "nltk.download('stopwords')\n",
        "nltk.download('wordnet')\n",
        "nltk.download('omw-1.4')"
      ],
      "metadata": {
        "colab": {
          "base_uri": "https://localhost:8080/"
        },
        "id": "C6hJM-2w6Ymu",
        "outputId": "90461bc9-264b-49ee-ac86-1c71e10348d9"
      },
      "execution_count": null,
      "outputs": [
        {
          "output_type": "stream",
          "name": "stderr",
          "text": [
            "[nltk_data] Downloading package punkt to /root/nltk_data...\n",
            "[nltk_data]   Package punkt is already up-to-date!\n",
            "[nltk_data] Downloading package stopwords to /root/nltk_data...\n",
            "[nltk_data]   Package stopwords is already up-to-date!\n",
            "[nltk_data] Downloading package wordnet to /root/nltk_data...\n",
            "[nltk_data]   Package wordnet is already up-to-date!\n",
            "[nltk_data] Downloading package omw-1.4 to /root/nltk_data...\n",
            "[nltk_data]   Package omw-1.4 is already up-to-date!\n"
          ]
        },
        {
          "output_type": "execute_result",
          "data": {
            "text/plain": [
              "True"
            ]
          },
          "metadata": {},
          "execution_count": 28
        }
      ]
    },
    {
      "cell_type": "code",
      "source": [
        "from nltk.tokenize import word_tokenize\n",
        "from nltk.corpus import stopwords\n",
        "from nltk.tokenize import word_tokenize\n",
        "from nltk.stem import WordNetLemmatizer"
      ],
      "metadata": {
        "id": "_wn5di_76nH5"
      },
      "execution_count": null,
      "outputs": []
    },
    {
      "cell_type": "code",
      "source": [
        "lemmatizer = WordNetLemmatizer()\n",
        "stop_words = set(stopwords.words('english'))"
      ],
      "metadata": {
        "id": "B3F3uXPl7mMa"
      },
      "execution_count": null,
      "outputs": []
    },
    {
      "cell_type": "markdown",
      "source": [
        "Find Root Word in the text data"
      ],
      "metadata": {
        "id": "RAAdiMZCVRYv"
      }
    },
    {
      "cell_type": "code",
      "source": [
        "def tokenization_lemmatize_stopwording(sentence):\n",
        "    sentence = word_tokenize(sentence)\n",
        "    sentence = [lemmatizer.lemmatize(i) for i in sentence if not i in stop_words]\n",
        "    sentence = ' '.join(sentence)\n",
        "    return sentence"
      ],
      "metadata": {
        "id": "vwZc2Slb5jiE"
      },
      "execution_count": null,
      "outputs": []
    },
    {
      "cell_type": "markdown",
      "source": [
        "Calculating Sentiment "
      ],
      "metadata": {
        "id": "1CAEBe4WVXoc"
      }
    },
    {
      "cell_type": "code",
      "source": [
        "# import SentimentIntensityAnalyzer class\n",
        "# from vaderSentiment.vaderSentiment module.\n",
        "from vaderSentiment.vaderSentiment import SentimentIntensityAnalyzer\n",
        " \n",
        "# function to print sentiments\n",
        "# of the sentence.\n",
        "def sentiment_scores(sentence):\n",
        "    translation = translator.translate(sentence)\n",
        "    sentence=translation.text\n",
        "    sentence=cleaning_text(sentence)\n",
        "    sentence=tokenization_lemmatize_stopwording(sentence)\n",
        "\n",
        "    # Create a SentimentIntensityAnalyzer object.\n",
        "    sid_obj = SentimentIntensityAnalyzer()\n",
        " \n",
        "    # polarity_scores method of SentimentIntensityAnalyzer\n",
        "    # object gives a sentiment dictionary.\n",
        "    # which contains pos, neg, neu, and compound scores.\n",
        "    sentiment_dict = sid_obj.polarity_scores(sentence)\n",
        " \n",
        "    # decide sentiment as positive, negative and neutral\n",
        "    if sentiment_dict['compound'] >= 0.05 :\n",
        "        return \"Positive\"\n",
        " \n",
        "    elif sentiment_dict['compound'] <= - 0.05 :\n",
        "        return \"Negative\"\n",
        " \n",
        "    else :\n",
        "        return \"Neutral\""
      ],
      "metadata": {
        "id": "SJCfOZsx2TQM"
      },
      "execution_count": null,
      "outputs": []
    },
    {
      "cell_type": "markdown",
      "source": [
        "Applying Function To Calculate Sentiment"
      ],
      "metadata": {
        "id": "TB5OPanHVbLv"
      }
    },
    {
      "cell_type": "code",
      "source": [
        "Sentiment_data['Sentiment']=Sentiment_data.Sentence.apply(sentiment_scores)"
      ],
      "metadata": {
        "id": "OvmxutEVz9Ea"
      },
      "execution_count": null,
      "outputs": []
    },
    {
      "cell_type": "code",
      "source": [
        "Sentiment_data.head(2)"
      ],
      "metadata": {
        "colab": {
          "base_uri": "https://localhost:8080/",
          "height": 112
        },
        "id": "Gbx_RgBNaqMQ",
        "outputId": "8bee2bb2-7b4d-4a1d-95fd-5a256dd53a7e"
      },
      "execution_count": null,
      "outputs": [
        {
          "output_type": "execute_result",
          "data": {
            "text/plain": [
              "                                            Sentence           topic Sentiment\n",
              "0  علينا الاهتمام ببيت الابحاث العلمية و المختبرا...  art-et-culture  Positive\n",
              "1  بيت الشعر في المغرب يحظى بالتقدير داخل وخارج أ...  art-et-culture  Positive"
            ],
            "text/html": [
              "\n",
              "  <div id=\"df-0dc023ff-970f-438e-b979-603455024daf\">\n",
              "    <div class=\"colab-df-container\">\n",
              "      <div>\n",
              "<style scoped>\n",
              "    .dataframe tbody tr th:only-of-type {\n",
              "        vertical-align: middle;\n",
              "    }\n",
              "\n",
              "    .dataframe tbody tr th {\n",
              "        vertical-align: top;\n",
              "    }\n",
              "\n",
              "    .dataframe thead th {\n",
              "        text-align: right;\n",
              "    }\n",
              "</style>\n",
              "<table border=\"1\" class=\"dataframe\">\n",
              "  <thead>\n",
              "    <tr style=\"text-align: right;\">\n",
              "      <th></th>\n",
              "      <th>Sentence</th>\n",
              "      <th>topic</th>\n",
              "      <th>Sentiment</th>\n",
              "    </tr>\n",
              "  </thead>\n",
              "  <tbody>\n",
              "    <tr>\n",
              "      <th>0</th>\n",
              "      <td>علينا الاهتمام ببيت الابحاث العلمية و المختبرا...</td>\n",
              "      <td>art-et-culture</td>\n",
              "      <td>Positive</td>\n",
              "    </tr>\n",
              "    <tr>\n",
              "      <th>1</th>\n",
              "      <td>بيت الشعر في المغرب يحظى بالتقدير داخل وخارج أ...</td>\n",
              "      <td>art-et-culture</td>\n",
              "      <td>Positive</td>\n",
              "    </tr>\n",
              "  </tbody>\n",
              "</table>\n",
              "</div>\n",
              "      <button class=\"colab-df-convert\" onclick=\"convertToInteractive('df-0dc023ff-970f-438e-b979-603455024daf')\"\n",
              "              title=\"Convert this dataframe to an interactive table.\"\n",
              "              style=\"display:none;\">\n",
              "        \n",
              "  <svg xmlns=\"http://www.w3.org/2000/svg\" height=\"24px\"viewBox=\"0 0 24 24\"\n",
              "       width=\"24px\">\n",
              "    <path d=\"M0 0h24v24H0V0z\" fill=\"none\"/>\n",
              "    <path d=\"M18.56 5.44l.94 2.06.94-2.06 2.06-.94-2.06-.94-.94-2.06-.94 2.06-2.06.94zm-11 1L8.5 8.5l.94-2.06 2.06-.94-2.06-.94L8.5 2.5l-.94 2.06-2.06.94zm10 10l.94 2.06.94-2.06 2.06-.94-2.06-.94-.94-2.06-.94 2.06-2.06.94z\"/><path d=\"M17.41 7.96l-1.37-1.37c-.4-.4-.92-.59-1.43-.59-.52 0-1.04.2-1.43.59L10.3 9.45l-7.72 7.72c-.78.78-.78 2.05 0 2.83L4 21.41c.39.39.9.59 1.41.59.51 0 1.02-.2 1.41-.59l7.78-7.78 2.81-2.81c.8-.78.8-2.07 0-2.86zM5.41 20L4 18.59l7.72-7.72 1.47 1.35L5.41 20z\"/>\n",
              "  </svg>\n",
              "      </button>\n",
              "      \n",
              "  <style>\n",
              "    .colab-df-container {\n",
              "      display:flex;\n",
              "      flex-wrap:wrap;\n",
              "      gap: 12px;\n",
              "    }\n",
              "\n",
              "    .colab-df-convert {\n",
              "      background-color: #E8F0FE;\n",
              "      border: none;\n",
              "      border-radius: 50%;\n",
              "      cursor: pointer;\n",
              "      display: none;\n",
              "      fill: #1967D2;\n",
              "      height: 32px;\n",
              "      padding: 0 0 0 0;\n",
              "      width: 32px;\n",
              "    }\n",
              "\n",
              "    .colab-df-convert:hover {\n",
              "      background-color: #E2EBFA;\n",
              "      box-shadow: 0px 1px 2px rgba(60, 64, 67, 0.3), 0px 1px 3px 1px rgba(60, 64, 67, 0.15);\n",
              "      fill: #174EA6;\n",
              "    }\n",
              "\n",
              "    [theme=dark] .colab-df-convert {\n",
              "      background-color: #3B4455;\n",
              "      fill: #D2E3FC;\n",
              "    }\n",
              "\n",
              "    [theme=dark] .colab-df-convert:hover {\n",
              "      background-color: #434B5C;\n",
              "      box-shadow: 0px 1px 3px 1px rgba(0, 0, 0, 0.15);\n",
              "      filter: drop-shadow(0px 1px 2px rgba(0, 0, 0, 0.3));\n",
              "      fill: #FFFFFF;\n",
              "    }\n",
              "  </style>\n",
              "\n",
              "      <script>\n",
              "        const buttonEl =\n",
              "          document.querySelector('#df-0dc023ff-970f-438e-b979-603455024daf button.colab-df-convert');\n",
              "        buttonEl.style.display =\n",
              "          google.colab.kernel.accessAllowed ? 'block' : 'none';\n",
              "\n",
              "        async function convertToInteractive(key) {\n",
              "          const element = document.querySelector('#df-0dc023ff-970f-438e-b979-603455024daf');\n",
              "          const dataTable =\n",
              "            await google.colab.kernel.invokeFunction('convertToInteractive',\n",
              "                                                     [key], {});\n",
              "          if (!dataTable) return;\n",
              "\n",
              "          const docLinkHtml = 'Like what you see? Visit the ' +\n",
              "            '<a target=\"_blank\" href=https://colab.research.google.com/notebooks/data_table.ipynb>data table notebook</a>'\n",
              "            + ' to learn more about interactive tables.';\n",
              "          element.innerHTML = '';\n",
              "          dataTable['output_type'] = 'display_data';\n",
              "          await google.colab.output.renderOutput(dataTable, element);\n",
              "          const docLink = document.createElement('div');\n",
              "          docLink.innerHTML = docLinkHtml;\n",
              "          element.appendChild(docLink);\n",
              "        }\n",
              "      </script>\n",
              "    </div>\n",
              "  </div>\n",
              "  "
            ]
          },
          "metadata": {},
          "execution_count": 34
        }
      ]
    },
    {
      "cell_type": "code",
      "source": [
        "Sentiment_data.to_csv('Sentiment File.csv',index=False)"
      ],
      "metadata": {
        "id": "J6YAwGM2Vi1t"
      },
      "execution_count": null,
      "outputs": []
    },
    {
      "cell_type": "markdown",
      "source": [
        "To Calculate the Sentiment Analysis you have to input text data on the function given below"
      ],
      "metadata": {
        "id": "6G98-Go7oJZK"
      }
    },
    {
      "cell_type": "code",
      "source": [
        "Sentiment=sentiment_scores('Hay I am Happy')\n",
        "print(Sentiment)"
      ],
      "metadata": {
        "colab": {
          "base_uri": "https://localhost:8080/"
        },
        "id": "DuLCPTzPoUNH",
        "outputId": "4bf3f63e-b063-486f-d219-7909e7eda9fa"
      },
      "execution_count": null,
      "outputs": [
        {
          "output_type": "stream",
          "name": "stdout",
          "text": [
            "Positive\n"
          ]
        }
      ]
    }
  ]
}