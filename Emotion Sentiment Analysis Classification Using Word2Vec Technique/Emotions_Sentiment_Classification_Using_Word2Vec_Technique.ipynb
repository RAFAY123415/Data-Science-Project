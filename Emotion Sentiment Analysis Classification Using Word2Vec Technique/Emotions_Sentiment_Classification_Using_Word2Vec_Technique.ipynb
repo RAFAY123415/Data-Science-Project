{
  "nbformat": 4,
  "nbformat_minor": 0,
  "metadata": {
    "colab": {
      "provenance": []
    },
    "kernelspec": {
      "name": "python3",
      "display_name": "Python 3"
    },
    "language_info": {
      "name": "python"
    }
  },
  "cells": [
    {
      "cell_type": "markdown",
      "source": [
        "https://spotintelligence.com/2023/02/15/word2vec-for-text-classification/#TF-IDF_vs_Word2Vec"
      ],
      "metadata": {
        "id": "_8wqtqmKsYdt"
      }
    },
    {
      "cell_type": "markdown",
      "source": [
        "# 1. Install the required packages\n",
        "You will need scikit-learn, Gensim, and NLTK packages. You can install them using pip as follows:"
      ],
      "metadata": {
        "id": "DEOs12iut6AA"
      }
    },
    {
      "cell_type": "code",
      "execution_count": 89,
      "metadata": {
        "colab": {
          "base_uri": "https://localhost:8080/"
        },
        "id": "ntOUCbeDqDao",
        "outputId": "e6471674-9d4a-4e97-8c4e-f62b747feb03"
      },
      "outputs": [
        {
          "output_type": "stream",
          "name": "stdout",
          "text": [
            "Requirement already satisfied: scikit-learn in /usr/local/lib/python3.10/dist-packages (1.2.2)\n",
            "Requirement already satisfied: gensim in /usr/local/lib/python3.10/dist-packages (4.3.2)\n",
            "Requirement already satisfied: nltk in /usr/local/lib/python3.10/dist-packages (3.8.1)\n",
            "Requirement already satisfied: numpy>=1.17.3 in /usr/local/lib/python3.10/dist-packages (from scikit-learn) (1.23.5)\n",
            "Requirement already satisfied: scipy>=1.3.2 in /usr/local/lib/python3.10/dist-packages (from scikit-learn) (1.11.4)\n",
            "Requirement already satisfied: joblib>=1.1.1 in /usr/local/lib/python3.10/dist-packages (from scikit-learn) (1.3.2)\n",
            "Requirement already satisfied: threadpoolctl>=2.0.0 in /usr/local/lib/python3.10/dist-packages (from scikit-learn) (3.2.0)\n",
            "Requirement already satisfied: smart-open>=1.8.1 in /usr/local/lib/python3.10/dist-packages (from gensim) (6.4.0)\n",
            "Requirement already satisfied: click in /usr/local/lib/python3.10/dist-packages (from nltk) (8.1.7)\n",
            "Requirement already satisfied: regex>=2021.8.3 in /usr/local/lib/python3.10/dist-packages (from nltk) (2023.6.3)\n",
            "Requirement already satisfied: tqdm in /usr/local/lib/python3.10/dist-packages (from nltk) (4.66.1)\n"
          ]
        }
      ],
      "source": [
        "!pip install scikit-learn gensim nltk"
      ]
    },
    {
      "cell_type": "markdown",
      "source": [
        "#2. Load the data\n",
        "Load the text data into Python, and split it into training and testing sets."
      ],
      "metadata": {
        "id": "bJxrOZEMuEjV"
      }
    },
    {
      "cell_type": "code",
      "source": [
        "import pandas as pd\n",
        "import nltk\n",
        "nltk.download('stopwords')\n",
        "from sklearn.model_selection import train_test_split"
      ],
      "metadata": {
        "colab": {
          "base_uri": "https://localhost:8080/"
        },
        "id": "uF1xJl78uDmZ",
        "outputId": "5fcb0b0e-2ec4-4f6c-c56b-9b917baa7066"
      },
      "execution_count": 90,
      "outputs": [
        {
          "output_type": "stream",
          "name": "stderr",
          "text": [
            "[nltk_data] Downloading package stopwords to /root/nltk_data...\n",
            "[nltk_data]   Package stopwords is already up-to-date!\n"
          ]
        }
      ]
    },
    {
      "cell_type": "code",
      "source": [
        "df = pd.read_csv('/content/test.csv', encoding='latin-1')"
      ],
      "metadata": {
        "id": "K_N_pRcjuU75"
      },
      "execution_count": 91,
      "outputs": []
    },
    {
      "cell_type": "code",
      "source": [
        "df.head(2)"
      ],
      "metadata": {
        "colab": {
          "base_uri": "https://localhost:8080/",
          "height": 182
        },
        "id": "8VGD2ZGEuecl",
        "outputId": "8f61f2dc-1a76-4eb3-b696-617ebd6688a5"
      },
      "execution_count": 92,
      "outputs": [
        {
          "output_type": "execute_result",
          "data": {
            "text/plain": [
              "       textID                                               text sentiment  \\\n",
              "0  f87dea47db  Last session of the day  http://twitpic.com/67ezh   neutral   \n",
              "1  96d74cb729   Shanghai is also really exciting (precisely -...  positive   \n",
              "\n",
              "  Time of Tweet Age of User      Country  Population -2020  Land Area (Km²)  \\\n",
              "0       morning        0-20  Afghanistan        38928346.0         652860.0   \n",
              "1          noon       21-30      Albania         2877797.0          27400.0   \n",
              "\n",
              "   Density (P/Km²)  \n",
              "0             60.0  \n",
              "1            105.0  "
            ],
            "text/html": [
              "\n",
              "  <div id=\"df-0cc20b50-f6d4-475e-960f-246f8916a07c\" class=\"colab-df-container\">\n",
              "    <div>\n",
              "<style scoped>\n",
              "    .dataframe tbody tr th:only-of-type {\n",
              "        vertical-align: middle;\n",
              "    }\n",
              "\n",
              "    .dataframe tbody tr th {\n",
              "        vertical-align: top;\n",
              "    }\n",
              "\n",
              "    .dataframe thead th {\n",
              "        text-align: right;\n",
              "    }\n",
              "</style>\n",
              "<table border=\"1\" class=\"dataframe\">\n",
              "  <thead>\n",
              "    <tr style=\"text-align: right;\">\n",
              "      <th></th>\n",
              "      <th>textID</th>\n",
              "      <th>text</th>\n",
              "      <th>sentiment</th>\n",
              "      <th>Time of Tweet</th>\n",
              "      <th>Age of User</th>\n",
              "      <th>Country</th>\n",
              "      <th>Population -2020</th>\n",
              "      <th>Land Area (Km²)</th>\n",
              "      <th>Density (P/Km²)</th>\n",
              "    </tr>\n",
              "  </thead>\n",
              "  <tbody>\n",
              "    <tr>\n",
              "      <th>0</th>\n",
              "      <td>f87dea47db</td>\n",
              "      <td>Last session of the day  http://twitpic.com/67ezh</td>\n",
              "      <td>neutral</td>\n",
              "      <td>morning</td>\n",
              "      <td>0-20</td>\n",
              "      <td>Afghanistan</td>\n",
              "      <td>38928346.0</td>\n",
              "      <td>652860.0</td>\n",
              "      <td>60.0</td>\n",
              "    </tr>\n",
              "    <tr>\n",
              "      <th>1</th>\n",
              "      <td>96d74cb729</td>\n",
              "      <td>Shanghai is also really exciting (precisely -...</td>\n",
              "      <td>positive</td>\n",
              "      <td>noon</td>\n",
              "      <td>21-30</td>\n",
              "      <td>Albania</td>\n",
              "      <td>2877797.0</td>\n",
              "      <td>27400.0</td>\n",
              "      <td>105.0</td>\n",
              "    </tr>\n",
              "  </tbody>\n",
              "</table>\n",
              "</div>\n",
              "    <div class=\"colab-df-buttons\">\n",
              "\n",
              "  <div class=\"colab-df-container\">\n",
              "    <button class=\"colab-df-convert\" onclick=\"convertToInteractive('df-0cc20b50-f6d4-475e-960f-246f8916a07c')\"\n",
              "            title=\"Convert this dataframe to an interactive table.\"\n",
              "            style=\"display:none;\">\n",
              "\n",
              "  <svg xmlns=\"http://www.w3.org/2000/svg\" height=\"24px\" viewBox=\"0 -960 960 960\">\n",
              "    <path d=\"M120-120v-720h720v720H120Zm60-500h600v-160H180v160Zm220 220h160v-160H400v160Zm0 220h160v-160H400v160ZM180-400h160v-160H180v160Zm440 0h160v-160H620v160ZM180-180h160v-160H180v160Zm440 0h160v-160H620v160Z\"/>\n",
              "  </svg>\n",
              "    </button>\n",
              "\n",
              "  <style>\n",
              "    .colab-df-container {\n",
              "      display:flex;\n",
              "      gap: 12px;\n",
              "    }\n",
              "\n",
              "    .colab-df-convert {\n",
              "      background-color: #E8F0FE;\n",
              "      border: none;\n",
              "      border-radius: 50%;\n",
              "      cursor: pointer;\n",
              "      display: none;\n",
              "      fill: #1967D2;\n",
              "      height: 32px;\n",
              "      padding: 0 0 0 0;\n",
              "      width: 32px;\n",
              "    }\n",
              "\n",
              "    .colab-df-convert:hover {\n",
              "      background-color: #E2EBFA;\n",
              "      box-shadow: 0px 1px 2px rgba(60, 64, 67, 0.3), 0px 1px 3px 1px rgba(60, 64, 67, 0.15);\n",
              "      fill: #174EA6;\n",
              "    }\n",
              "\n",
              "    .colab-df-buttons div {\n",
              "      margin-bottom: 4px;\n",
              "    }\n",
              "\n",
              "    [theme=dark] .colab-df-convert {\n",
              "      background-color: #3B4455;\n",
              "      fill: #D2E3FC;\n",
              "    }\n",
              "\n",
              "    [theme=dark] .colab-df-convert:hover {\n",
              "      background-color: #434B5C;\n",
              "      box-shadow: 0px 1px 3px 1px rgba(0, 0, 0, 0.15);\n",
              "      filter: drop-shadow(0px 1px 2px rgba(0, 0, 0, 0.3));\n",
              "      fill: #FFFFFF;\n",
              "    }\n",
              "  </style>\n",
              "\n",
              "    <script>\n",
              "      const buttonEl =\n",
              "        document.querySelector('#df-0cc20b50-f6d4-475e-960f-246f8916a07c button.colab-df-convert');\n",
              "      buttonEl.style.display =\n",
              "        google.colab.kernel.accessAllowed ? 'block' : 'none';\n",
              "\n",
              "      async function convertToInteractive(key) {\n",
              "        const element = document.querySelector('#df-0cc20b50-f6d4-475e-960f-246f8916a07c');\n",
              "        const dataTable =\n",
              "          await google.colab.kernel.invokeFunction('convertToInteractive',\n",
              "                                                    [key], {});\n",
              "        if (!dataTable) return;\n",
              "\n",
              "        const docLinkHtml = 'Like what you see? Visit the ' +\n",
              "          '<a target=\"_blank\" href=https://colab.research.google.com/notebooks/data_table.ipynb>data table notebook</a>'\n",
              "          + ' to learn more about interactive tables.';\n",
              "        element.innerHTML = '';\n",
              "        dataTable['output_type'] = 'display_data';\n",
              "        await google.colab.output.renderOutput(dataTable, element);\n",
              "        const docLink = document.createElement('div');\n",
              "        docLink.innerHTML = docLinkHtml;\n",
              "        element.appendChild(docLink);\n",
              "      }\n",
              "    </script>\n",
              "  </div>\n",
              "\n",
              "\n",
              "<div id=\"df-2a72ed74-1b41-417a-a9f8-cd9331ff4ff6\">\n",
              "  <button class=\"colab-df-quickchart\" onclick=\"quickchart('df-2a72ed74-1b41-417a-a9f8-cd9331ff4ff6')\"\n",
              "            title=\"Suggest charts\"\n",
              "            style=\"display:none;\">\n",
              "\n",
              "<svg xmlns=\"http://www.w3.org/2000/svg\" height=\"24px\"viewBox=\"0 0 24 24\"\n",
              "     width=\"24px\">\n",
              "    <g>\n",
              "        <path d=\"M19 3H5c-1.1 0-2 .9-2 2v14c0 1.1.9 2 2 2h14c1.1 0 2-.9 2-2V5c0-1.1-.9-2-2-2zM9 17H7v-7h2v7zm4 0h-2V7h2v10zm4 0h-2v-4h2v4z\"/>\n",
              "    </g>\n",
              "</svg>\n",
              "  </button>\n",
              "\n",
              "<style>\n",
              "  .colab-df-quickchart {\n",
              "      --bg-color: #E8F0FE;\n",
              "      --fill-color: #1967D2;\n",
              "      --hover-bg-color: #E2EBFA;\n",
              "      --hover-fill-color: #174EA6;\n",
              "      --disabled-fill-color: #AAA;\n",
              "      --disabled-bg-color: #DDD;\n",
              "  }\n",
              "\n",
              "  [theme=dark] .colab-df-quickchart {\n",
              "      --bg-color: #3B4455;\n",
              "      --fill-color: #D2E3FC;\n",
              "      --hover-bg-color: #434B5C;\n",
              "      --hover-fill-color: #FFFFFF;\n",
              "      --disabled-bg-color: #3B4455;\n",
              "      --disabled-fill-color: #666;\n",
              "  }\n",
              "\n",
              "  .colab-df-quickchart {\n",
              "    background-color: var(--bg-color);\n",
              "    border: none;\n",
              "    border-radius: 50%;\n",
              "    cursor: pointer;\n",
              "    display: none;\n",
              "    fill: var(--fill-color);\n",
              "    height: 32px;\n",
              "    padding: 0;\n",
              "    width: 32px;\n",
              "  }\n",
              "\n",
              "  .colab-df-quickchart:hover {\n",
              "    background-color: var(--hover-bg-color);\n",
              "    box-shadow: 0 1px 2px rgba(60, 64, 67, 0.3), 0 1px 3px 1px rgba(60, 64, 67, 0.15);\n",
              "    fill: var(--button-hover-fill-color);\n",
              "  }\n",
              "\n",
              "  .colab-df-quickchart-complete:disabled,\n",
              "  .colab-df-quickchart-complete:disabled:hover {\n",
              "    background-color: var(--disabled-bg-color);\n",
              "    fill: var(--disabled-fill-color);\n",
              "    box-shadow: none;\n",
              "  }\n",
              "\n",
              "  .colab-df-spinner {\n",
              "    border: 2px solid var(--fill-color);\n",
              "    border-color: transparent;\n",
              "    border-bottom-color: var(--fill-color);\n",
              "    animation:\n",
              "      spin 1s steps(1) infinite;\n",
              "  }\n",
              "\n",
              "  @keyframes spin {\n",
              "    0% {\n",
              "      border-color: transparent;\n",
              "      border-bottom-color: var(--fill-color);\n",
              "      border-left-color: var(--fill-color);\n",
              "    }\n",
              "    20% {\n",
              "      border-color: transparent;\n",
              "      border-left-color: var(--fill-color);\n",
              "      border-top-color: var(--fill-color);\n",
              "    }\n",
              "    30% {\n",
              "      border-color: transparent;\n",
              "      border-left-color: var(--fill-color);\n",
              "      border-top-color: var(--fill-color);\n",
              "      border-right-color: var(--fill-color);\n",
              "    }\n",
              "    40% {\n",
              "      border-color: transparent;\n",
              "      border-right-color: var(--fill-color);\n",
              "      border-top-color: var(--fill-color);\n",
              "    }\n",
              "    60% {\n",
              "      border-color: transparent;\n",
              "      border-right-color: var(--fill-color);\n",
              "    }\n",
              "    80% {\n",
              "      border-color: transparent;\n",
              "      border-right-color: var(--fill-color);\n",
              "      border-bottom-color: var(--fill-color);\n",
              "    }\n",
              "    90% {\n",
              "      border-color: transparent;\n",
              "      border-bottom-color: var(--fill-color);\n",
              "    }\n",
              "  }\n",
              "</style>\n",
              "\n",
              "  <script>\n",
              "    async function quickchart(key) {\n",
              "      const quickchartButtonEl =\n",
              "        document.querySelector('#' + key + ' button');\n",
              "      quickchartButtonEl.disabled = true;  // To prevent multiple clicks.\n",
              "      quickchartButtonEl.classList.add('colab-df-spinner');\n",
              "      try {\n",
              "        const charts = await google.colab.kernel.invokeFunction(\n",
              "            'suggestCharts', [key], {});\n",
              "      } catch (error) {\n",
              "        console.error('Error during call to suggestCharts:', error);\n",
              "      }\n",
              "      quickchartButtonEl.classList.remove('colab-df-spinner');\n",
              "      quickchartButtonEl.classList.add('colab-df-quickchart-complete');\n",
              "    }\n",
              "    (() => {\n",
              "      let quickchartButtonEl =\n",
              "        document.querySelector('#df-2a72ed74-1b41-417a-a9f8-cd9331ff4ff6 button');\n",
              "      quickchartButtonEl.style.display =\n",
              "        google.colab.kernel.accessAllowed ? 'block' : 'none';\n",
              "    })();\n",
              "  </script>\n",
              "</div>\n",
              "\n",
              "    </div>\n",
              "  </div>\n"
            ]
          },
          "metadata": {},
          "execution_count": 92
        }
      ]
    },
    {
      "cell_type": "code",
      "source": [
        "# Mapping sentiment to numerical labels and removing neutral\n",
        "df['sentiment'] = df['sentiment'].map({'negative': 0, 'positive': 1, 'neutral': None})\n",
        "\n",
        "# Drop rows with neutral sentiment\n",
        "df = df.dropna()"
      ],
      "metadata": {
        "id": "BOsW8KG5vApu"
      },
      "execution_count": 93,
      "outputs": []
    },
    {
      "cell_type": "code",
      "source": [
        "df=df[['text','sentiment']]"
      ],
      "metadata": {
        "id": "xZT2VzCrxSR6"
      },
      "execution_count": 94,
      "outputs": []
    },
    {
      "cell_type": "code",
      "source": [
        "df.head(3)"
      ],
      "metadata": {
        "colab": {
          "base_uri": "https://localhost:8080/",
          "height": 143
        },
        "id": "h5kFbCfL_Plt",
        "outputId": "22899a1e-cd40-4675-dd22-fd2b25421427"
      },
      "execution_count": 95,
      "outputs": [
        {
          "output_type": "execute_result",
          "data": {
            "text/plain": [
              "                                                text  sentiment\n",
              "1   Shanghai is also really exciting (precisely -...        1.0\n",
              "2  Recession hit Veronique Branquinho, she has to...        0.0\n",
              "3                                        happy bday!        1.0"
            ],
            "text/html": [
              "\n",
              "  <div id=\"df-1ed45793-59ed-402d-88fd-4f78eca0a2f9\" class=\"colab-df-container\">\n",
              "    <div>\n",
              "<style scoped>\n",
              "    .dataframe tbody tr th:only-of-type {\n",
              "        vertical-align: middle;\n",
              "    }\n",
              "\n",
              "    .dataframe tbody tr th {\n",
              "        vertical-align: top;\n",
              "    }\n",
              "\n",
              "    .dataframe thead th {\n",
              "        text-align: right;\n",
              "    }\n",
              "</style>\n",
              "<table border=\"1\" class=\"dataframe\">\n",
              "  <thead>\n",
              "    <tr style=\"text-align: right;\">\n",
              "      <th></th>\n",
              "      <th>text</th>\n",
              "      <th>sentiment</th>\n",
              "    </tr>\n",
              "  </thead>\n",
              "  <tbody>\n",
              "    <tr>\n",
              "      <th>1</th>\n",
              "      <td>Shanghai is also really exciting (precisely -...</td>\n",
              "      <td>1.0</td>\n",
              "    </tr>\n",
              "    <tr>\n",
              "      <th>2</th>\n",
              "      <td>Recession hit Veronique Branquinho, she has to...</td>\n",
              "      <td>0.0</td>\n",
              "    </tr>\n",
              "    <tr>\n",
              "      <th>3</th>\n",
              "      <td>happy bday!</td>\n",
              "      <td>1.0</td>\n",
              "    </tr>\n",
              "  </tbody>\n",
              "</table>\n",
              "</div>\n",
              "    <div class=\"colab-df-buttons\">\n",
              "\n",
              "  <div class=\"colab-df-container\">\n",
              "    <button class=\"colab-df-convert\" onclick=\"convertToInteractive('df-1ed45793-59ed-402d-88fd-4f78eca0a2f9')\"\n",
              "            title=\"Convert this dataframe to an interactive table.\"\n",
              "            style=\"display:none;\">\n",
              "\n",
              "  <svg xmlns=\"http://www.w3.org/2000/svg\" height=\"24px\" viewBox=\"0 -960 960 960\">\n",
              "    <path d=\"M120-120v-720h720v720H120Zm60-500h600v-160H180v160Zm220 220h160v-160H400v160Zm0 220h160v-160H400v160ZM180-400h160v-160H180v160Zm440 0h160v-160H620v160ZM180-180h160v-160H180v160Zm440 0h160v-160H620v160Z\"/>\n",
              "  </svg>\n",
              "    </button>\n",
              "\n",
              "  <style>\n",
              "    .colab-df-container {\n",
              "      display:flex;\n",
              "      gap: 12px;\n",
              "    }\n",
              "\n",
              "    .colab-df-convert {\n",
              "      background-color: #E8F0FE;\n",
              "      border: none;\n",
              "      border-radius: 50%;\n",
              "      cursor: pointer;\n",
              "      display: none;\n",
              "      fill: #1967D2;\n",
              "      height: 32px;\n",
              "      padding: 0 0 0 0;\n",
              "      width: 32px;\n",
              "    }\n",
              "\n",
              "    .colab-df-convert:hover {\n",
              "      background-color: #E2EBFA;\n",
              "      box-shadow: 0px 1px 2px rgba(60, 64, 67, 0.3), 0px 1px 3px 1px rgba(60, 64, 67, 0.15);\n",
              "      fill: #174EA6;\n",
              "    }\n",
              "\n",
              "    .colab-df-buttons div {\n",
              "      margin-bottom: 4px;\n",
              "    }\n",
              "\n",
              "    [theme=dark] .colab-df-convert {\n",
              "      background-color: #3B4455;\n",
              "      fill: #D2E3FC;\n",
              "    }\n",
              "\n",
              "    [theme=dark] .colab-df-convert:hover {\n",
              "      background-color: #434B5C;\n",
              "      box-shadow: 0px 1px 3px 1px rgba(0, 0, 0, 0.15);\n",
              "      filter: drop-shadow(0px 1px 2px rgba(0, 0, 0, 0.3));\n",
              "      fill: #FFFFFF;\n",
              "    }\n",
              "  </style>\n",
              "\n",
              "    <script>\n",
              "      const buttonEl =\n",
              "        document.querySelector('#df-1ed45793-59ed-402d-88fd-4f78eca0a2f9 button.colab-df-convert');\n",
              "      buttonEl.style.display =\n",
              "        google.colab.kernel.accessAllowed ? 'block' : 'none';\n",
              "\n",
              "      async function convertToInteractive(key) {\n",
              "        const element = document.querySelector('#df-1ed45793-59ed-402d-88fd-4f78eca0a2f9');\n",
              "        const dataTable =\n",
              "          await google.colab.kernel.invokeFunction('convertToInteractive',\n",
              "                                                    [key], {});\n",
              "        if (!dataTable) return;\n",
              "\n",
              "        const docLinkHtml = 'Like what you see? Visit the ' +\n",
              "          '<a target=\"_blank\" href=https://colab.research.google.com/notebooks/data_table.ipynb>data table notebook</a>'\n",
              "          + ' to learn more about interactive tables.';\n",
              "        element.innerHTML = '';\n",
              "        dataTable['output_type'] = 'display_data';\n",
              "        await google.colab.output.renderOutput(dataTable, element);\n",
              "        const docLink = document.createElement('div');\n",
              "        docLink.innerHTML = docLinkHtml;\n",
              "        element.appendChild(docLink);\n",
              "      }\n",
              "    </script>\n",
              "  </div>\n",
              "\n",
              "\n",
              "<div id=\"df-d11b9fc8-4931-43b1-a3ff-02c7563019de\">\n",
              "  <button class=\"colab-df-quickchart\" onclick=\"quickchart('df-d11b9fc8-4931-43b1-a3ff-02c7563019de')\"\n",
              "            title=\"Suggest charts\"\n",
              "            style=\"display:none;\">\n",
              "\n",
              "<svg xmlns=\"http://www.w3.org/2000/svg\" height=\"24px\"viewBox=\"0 0 24 24\"\n",
              "     width=\"24px\">\n",
              "    <g>\n",
              "        <path d=\"M19 3H5c-1.1 0-2 .9-2 2v14c0 1.1.9 2 2 2h14c1.1 0 2-.9 2-2V5c0-1.1-.9-2-2-2zM9 17H7v-7h2v7zm4 0h-2V7h2v10zm4 0h-2v-4h2v4z\"/>\n",
              "    </g>\n",
              "</svg>\n",
              "  </button>\n",
              "\n",
              "<style>\n",
              "  .colab-df-quickchart {\n",
              "      --bg-color: #E8F0FE;\n",
              "      --fill-color: #1967D2;\n",
              "      --hover-bg-color: #E2EBFA;\n",
              "      --hover-fill-color: #174EA6;\n",
              "      --disabled-fill-color: #AAA;\n",
              "      --disabled-bg-color: #DDD;\n",
              "  }\n",
              "\n",
              "  [theme=dark] .colab-df-quickchart {\n",
              "      --bg-color: #3B4455;\n",
              "      --fill-color: #D2E3FC;\n",
              "      --hover-bg-color: #434B5C;\n",
              "      --hover-fill-color: #FFFFFF;\n",
              "      --disabled-bg-color: #3B4455;\n",
              "      --disabled-fill-color: #666;\n",
              "  }\n",
              "\n",
              "  .colab-df-quickchart {\n",
              "    background-color: var(--bg-color);\n",
              "    border: none;\n",
              "    border-radius: 50%;\n",
              "    cursor: pointer;\n",
              "    display: none;\n",
              "    fill: var(--fill-color);\n",
              "    height: 32px;\n",
              "    padding: 0;\n",
              "    width: 32px;\n",
              "  }\n",
              "\n",
              "  .colab-df-quickchart:hover {\n",
              "    background-color: var(--hover-bg-color);\n",
              "    box-shadow: 0 1px 2px rgba(60, 64, 67, 0.3), 0 1px 3px 1px rgba(60, 64, 67, 0.15);\n",
              "    fill: var(--button-hover-fill-color);\n",
              "  }\n",
              "\n",
              "  .colab-df-quickchart-complete:disabled,\n",
              "  .colab-df-quickchart-complete:disabled:hover {\n",
              "    background-color: var(--disabled-bg-color);\n",
              "    fill: var(--disabled-fill-color);\n",
              "    box-shadow: none;\n",
              "  }\n",
              "\n",
              "  .colab-df-spinner {\n",
              "    border: 2px solid var(--fill-color);\n",
              "    border-color: transparent;\n",
              "    border-bottom-color: var(--fill-color);\n",
              "    animation:\n",
              "      spin 1s steps(1) infinite;\n",
              "  }\n",
              "\n",
              "  @keyframes spin {\n",
              "    0% {\n",
              "      border-color: transparent;\n",
              "      border-bottom-color: var(--fill-color);\n",
              "      border-left-color: var(--fill-color);\n",
              "    }\n",
              "    20% {\n",
              "      border-color: transparent;\n",
              "      border-left-color: var(--fill-color);\n",
              "      border-top-color: var(--fill-color);\n",
              "    }\n",
              "    30% {\n",
              "      border-color: transparent;\n",
              "      border-left-color: var(--fill-color);\n",
              "      border-top-color: var(--fill-color);\n",
              "      border-right-color: var(--fill-color);\n",
              "    }\n",
              "    40% {\n",
              "      border-color: transparent;\n",
              "      border-right-color: var(--fill-color);\n",
              "      border-top-color: var(--fill-color);\n",
              "    }\n",
              "    60% {\n",
              "      border-color: transparent;\n",
              "      border-right-color: var(--fill-color);\n",
              "    }\n",
              "    80% {\n",
              "      border-color: transparent;\n",
              "      border-right-color: var(--fill-color);\n",
              "      border-bottom-color: var(--fill-color);\n",
              "    }\n",
              "    90% {\n",
              "      border-color: transparent;\n",
              "      border-bottom-color: var(--fill-color);\n",
              "    }\n",
              "  }\n",
              "</style>\n",
              "\n",
              "  <script>\n",
              "    async function quickchart(key) {\n",
              "      const quickchartButtonEl =\n",
              "        document.querySelector('#' + key + ' button');\n",
              "      quickchartButtonEl.disabled = true;  // To prevent multiple clicks.\n",
              "      quickchartButtonEl.classList.add('colab-df-spinner');\n",
              "      try {\n",
              "        const charts = await google.colab.kernel.invokeFunction(\n",
              "            'suggestCharts', [key], {});\n",
              "      } catch (error) {\n",
              "        console.error('Error during call to suggestCharts:', error);\n",
              "      }\n",
              "      quickchartButtonEl.classList.remove('colab-df-spinner');\n",
              "      quickchartButtonEl.classList.add('colab-df-quickchart-complete');\n",
              "    }\n",
              "    (() => {\n",
              "      let quickchartButtonEl =\n",
              "        document.querySelector('#df-d11b9fc8-4931-43b1-a3ff-02c7563019de button');\n",
              "      quickchartButtonEl.style.display =\n",
              "        google.colab.kernel.accessAllowed ? 'block' : 'none';\n",
              "    })();\n",
              "  </script>\n",
              "</div>\n",
              "\n",
              "    </div>\n",
              "  </div>\n"
            ]
          },
          "metadata": {},
          "execution_count": 95
        }
      ]
    },
    {
      "cell_type": "markdown",
      "source": [
        "#3. Preprocess the text data\n"
      ],
      "metadata": {
        "id": "QMMLCRLH6J7j"
      }
    },
    {
      "cell_type": "code",
      "source": [
        "from nltk.corpus import stopwords\n",
        "from nltk.tokenize import word_tokenize\n",
        "import string"
      ],
      "metadata": {
        "id": "Pyu3_ZASxhGw"
      },
      "execution_count": 96,
      "outputs": []
    },
    {
      "cell_type": "code",
      "source": [
        "X_train, X_test, y_train, y_test = train_test_split(df['text'], df['sentiment'], test_size=0.2, random_state=42)\n",
        "# Checking types\n",
        "print(type(X_train))  # pandas Series or DataFrame\n",
        "print(type(X_test))   # pandas Series or DataFrame\n",
        "print(type(y_train))  # pandas Series or NumPy array\n",
        "print(type(y_test))   # pandas Series or NumPy array"
      ],
      "metadata": {
        "colab": {
          "base_uri": "https://localhost:8080/"
        },
        "id": "6K8wFhc5y5nC",
        "outputId": "9af5a083-f460-4fc4-b8f0-2e5382ef6eaf"
      },
      "execution_count": 97,
      "outputs": [
        {
          "output_type": "stream",
          "name": "stdout",
          "text": [
            "<class 'pandas.core.series.Series'>\n",
            "<class 'pandas.core.series.Series'>\n",
            "<class 'pandas.core.series.Series'>\n",
            "<class 'pandas.core.series.Series'>\n"
          ]
        }
      ]
    },
    {
      "cell_type": "code",
      "source": [
        "from nltk.corpus import stopwords\n",
        "from nltk.tokenize import word_tokenize\n",
        "import string\n",
        "\n",
        "stop_words = set(stopwords.words('english'))\n",
        "nltk.download('punkt')"
      ],
      "metadata": {
        "colab": {
          "base_uri": "https://localhost:8080/"
        },
        "id": "osxqL2Fy2SEy",
        "outputId": "01072c11-4d99-4ba7-93eb-5c5be8e12086"
      },
      "execution_count": 98,
      "outputs": [
        {
          "output_type": "stream",
          "name": "stderr",
          "text": [
            "[nltk_data] Downloading package punkt to /root/nltk_data...\n",
            "[nltk_data]   Package punkt is already up-to-date!\n"
          ]
        },
        {
          "output_type": "execute_result",
          "data": {
            "text/plain": [
              "True"
            ]
          },
          "metadata": {},
          "execution_count": 98
        }
      ]
    },
    {
      "cell_type": "code",
      "source": [
        "def preprocess(text):\n",
        "    text = text.lower()\n",
        "    text = ''.join([word for word in text if word not in string.punctuation])\n",
        "    tokens = word_tokenize(text)\n",
        "    tokens = [word for word in tokens if word not in stop_words]\n",
        "    return ' '.join(tokens)"
      ],
      "metadata": {
        "id": "_-aCVWN43OcK"
      },
      "execution_count": 99,
      "outputs": []
    },
    {
      "cell_type": "code",
      "source": [
        "X_train = X_train.apply(preprocess)\n",
        "X_test = X_test.apply(preprocess)"
      ],
      "metadata": {
        "id": "N6phePe53PXY"
      },
      "execution_count": 100,
      "outputs": []
    },
    {
      "cell_type": "markdown",
      "source": [
        "#4. Train the Word2Vec model\n",
        "\n",
        "Train a Word2Vec model on the preprocessed training data using Gensim package."
      ],
      "metadata": {
        "id": "Xah-u65B5_LJ"
      }
    },
    {
      "cell_type": "code",
      "source": [
        "from gensim.models import Word2Vec\n",
        "sentences = [sentence.split() for sentence in X_train]\n",
        "print(sentences)"
      ],
      "metadata": {
        "colab": {
          "base_uri": "https://localhost:8080/"
        },
        "id": "6rAhpADE3aNT",
        "outputId": "ec58e06d-d7fd-4deb-8112-67ca18d0cef3"
      },
      "execution_count": 101,
      "outputs": [
        {
          "output_type": "stream",
          "name": "stdout",
          "text": [
            "[['come', 'im', 'merci', 'btw', 'always', 'inspired', 'since', 'teenager'], ['wtf', 'advertising', 'gone', 'mad', 'want', 'access', 'camera', 'microphone', 'amazon', 'really', 'know', 'better', 'httpbitly5fokq'], ['yep', 'wish', 'playing', 'dubiln'], ['thought', 'id', 'tanned', 'hour', 'sun', 'wrongive', 'burnt'], ['spellingis', 'awful', 'twiiter'], ['happy', 'birthday', 'ness'], ['missed', 'math', 'trade'], ['ok', 'eye', 'doctor', 'guy', 'taking', 'forever', 'im', 'sitting', 'cold', 'room', 'myselfwhat', 'jerk'], ['arghhhhhhhhh', 'cant', 'keep', 'twitterbones', 'peeps'], ['im', 'work', 'im', 'still', 'sick', 'im', 'really', 'pissed', 'sunday'], ['ah', 'gotcha', 'well', 'im', 'curious', 'hear', 'thought', 'wolverine', 'actually', 'went', 'saw'], ['lol', 'wow', 'thats', 'good', 'haha', 'still', 'cant', 'believe', 'mothers', 'day'], ['never', 'trust', 'someone', 'elses', 'battery', 'operated', 'power', 'tools', 'youre', 'hurry'], ['thank', 'love', 'tattoos', 'special', 'feet', 'ones', 'beautiful'], ['miss', 'u', 'like', 'cotton', 'candy', '3'], ['sudden', 'im', 'craving', 'broccoli', 'cheese', 'soup', 'really', 'bad', 'mouth', 'watering', 'envisioning', 'bread', 'bowl', 'head'], ['yeah', 'left', 'cause', 'pc', 'cant', 'run', 'client', 'anymore', 'thought', 'would', 'new', 'one'], ['omfg', 'one', 'worst', 'days', 'ever'], ['make', 'good', 'girls', 'go', 'bad'], ['hey', 'kevin', 'yeah', 'ones', 'gon', 'na', 'toughie', 'sure', 'much', 'sleep', 'oh', 'well', '8', 'hours', 'go'], ['rain', 'outside', 'motivates', 'sleep'], ['happy'], ['would', 'one', 'plese', 'suggest', 'great', 'thriller', 'movie'], ['poetic', 'great', 'going', 'keep', 'coming'], ['think', 'finale', 'thought', 'kind', 'cheap', 'way'], ['cant', 'believes', 'already', 'monday', 'weekend', 'went', 'soooo', 'fast', 'keeping', 'fingers', 'crossed'], ['bioshock', 'fantastic', 'first', 'time', 'played', 'sleep', 'bioshock', 'tomorrow'], ['problem', 'superstars', 'always', 'deliver', 'huge', 'files', 'much', 'energy', 'pixels'], ['sorry', 'demi', 'read', 'post', 'attend', 'bgt', 'im', 'sure', 'support', 'sb', 'helped', 'tho', 'world', 'without', 'paps', 'plzz'], ['good', 'time', 'must', 'sleep', 'lol', 'gym', 'dance', 'rehearsals', 'like', '5', 'hours'], ['wasabi', 'recovering', 'surgery', 'httpappsfacebookcomdogbookprofileview6121231'], ['grrrr', 'youtube', 'wont', 'let', 'watch', 'chat'], ['test', 'another', 'update', 'sorry', 'bothering', 'u', 'guys'], ['productive', 'day', '1'], ['wish', 'could', 'go', 'meet', 'middle', 'tomorrow'], ['working', 'mothers', 'day', 'slideshow', 'cake', 'card', 'balloons', 'deserves', 'best'], ['tracy', 'berwick', 'breaks', 'achy', 'breaky', 'heart', 'split', 'ways', 'hallways'], ['thinks', 'fml', 'changed', 'lml', 'love', 'life'], ['alice', 'doesnt', 'know', 'wear', 'cinema', '3'], ['straighening', 'hair', 'going', 'straight', 'want', 'bummerrr'], ['wowie', 'wooie', 'someone', 'updated', 'twitter', 'without', 'remind', 'im', 'even', 'madim', 'impressed', 'lasagna'], ['nice', 'weatherlooks', 'like', 'going', 'rain', 'delhi'], ['got', 'early', 'pay', 'bills', 'figured', 'like', 'bandaid', 'get', 'quickly', 'wont', 'bad', 'wrong'], ['applemouse', 'doesnt', 'work', 'shiny', 'red', 'coffee', 'table'], ['arent', 'suppossed', 'support', 'local', 'economy', 'lol', 'good', 'congrats'], ['wanting', 'someone', 'spend', 'summer', 'evening', 'whilst', 'shes', 'nice', 'relaxed', 'mood'], ['oh', 'god', 'sad', 'day'], ['also', 'happy', 'mothers', 'day'], ['amazing', 'night', 'drive'], ['jesus', 'christ', 'meadowhall', 'could', 'better', 'air', 'con', 'hot'], ['thanks', 'follow', 'nice', 'rest'], ['need', 'buy', 'iphone', 'good', 'app', 'works', 'wifi', 'though'], ['today', 'friday', 'really', 'hope', 'read', 'messages', 'reply', 'soon', 'could', 'reach', 'phone', 'go', 'work'], ['watching', 'snl', 'guess', 'justin', 'timberlakeomg', 'funny', 'hahahah'], ['come', 'estonia', 'know', 'epic', 'horses', 'hehe', 'good', 'trainer', 'good', 'beaches', 'ride'], ['2', 'commentary', 'sad', 'sad'], ['lauralp', 'ok', 'thanks', 'help', 'hope', 'respond', 'sooner', 'later', 'thanks'], ['im', 'depressed', 'againugh', 'help'], ['think', 'steph', 'enjoy', 'first', 'mothers', 'day', 'tomorrow'], ['well', 'test', 'theory', 'right', 'arm', 'strum', 'got', 'feelin', 'ill', 'humming', 'new', 'tunes'], ['feeling', 'sick', 'oh', 'well', 'reckon', 'people', 'bus', 'cursed', 'anyways', 'nighty', 'night'], ['think', 'niece', 'got', 'sickee', 'lame'], ['httptwitpiccom67swx', 'wish', 'calling', 'cant', 'malta'], ['oh', 'kasa', 'please', 'lose', 'hair'], ['going', 'meet', 'new', 'family', 'im', 'babysitting', 'wish', 'still', 'sleeeeping'], ['joined', 'twibe', 'visit', 'httptwibescomspinning', 'join', 'spinner', 'know', 'respect', 'spinners', 'need', 'coffee'], ['said', 'im', 'bummed', 'missed', 'sigh', 'want', 'go', 'california'], ['hearing', 'songs', 'brighten', 'someones', 'day', 'always', 'makes', 'grin'], ['washed', 'im', 'clothing', 'type', 'xd', 'woooo'], ['im', 'scared', 'bruised'], ['sweetie', 'lucky', 'liberty'], ['internet', '1', 'drawing', '0', 'im', 'backing', 'blackberry', 'files', 'could', 'take', 'hours', 'drawing', 'preps', 'done'], ['go', 'dreaded', 'dmv', 'tomorrow'], ['also', 'conviced', 'happy', 'dance', 'told', 'adorable', 'happy', 'dance', 'ever'], ['much', 'homework', 'think', 'going', 'hide', 'corner', 'cry'], ['long', 'day', 'still', 'mow', 'lawn'], ['lol', 'could', 'try', 'seriously', 'tho', 'dont', 'sucks'], ['shoes', 'hurt', 'feet'], ['oh', 'good', 'review'], ['cant', 'wait', 'watch', 'next', 'season', 'heroes'], ['birthday', 'well', 'happy', 'birthday'], ['dont', 'make', 'feel', 'like', 'used'], ['spending', 'quality', 'time', 'fender', 'tele', 'deluxetrue', 'love'], ['stomach', 'hurts'], ['sure', 'let', 'moms', 'know', 'fabulous', 'think', 'almost', 'mothers', 'day'], ['hiya', 'missed'], ['looking', 'forward', 'driving', 'storm'], ['well', 'visiting', 'grandparents', 'later', 'btw', 'heard', 'katy', 'perrys', 'hook', 'whew', 'cool', 'love', 'kclarksons', 'version'], ['sites', 'republish', 'blogs', 'feed', 'often', 'end', 'higher', 'blog', 'google', 'search', 'results'], ['gutted', 'kitchen', 'empty', 'literally', 'empty', 'even', 'kidding', 'im', 'hungry'], ['im', 'sad', 'ill', 'probably', 'never', 'see', 'fleetwood', 'mac'], ['monday', 'wont', 'able', 'love'], ['tried', 'join', 'chat', 'site', 'would', 'let', 'sign'], ['patchouli', 'oil', 'incense', 'surge', 'popularity', '1960s', '1970s', 'mostly', 'among', 'devotees', 'free', 'love', 'hippie', 'lifestyles'], ['went', 'short', 'flight', 'around', 'geelong', 'waterfront', 'surprised', 'well', 'handled', 'im', 'still', 'exhausted', 'last', 'weeks', 'meetup'], ['aww', 'thats', 'sad', 'miss', 'seeing', 'guys', 'big', 'screen'], ['yayy', 'youll', 'help', 'im', 'english', 'homeworks', 'holidays'], ['ugh', 'fun', 'concert', 'screen', 'cracked', 'phone', 'fell'], ['kuala', 'lumpur', 'know', 'vanished', 'haha', 'broke', 'last', 'boyfriend', 'thats', 'im', 'back'], ['cant', 'find', 'hope', 'didnt', 'get', 'eaten', 'anything', 'last', 'nighthe', 'jumped', 'deck', 'wont', 'stay', 'safe', 'sigh'], ['got', 'back', 'kuantan', 'sooooooo', 'much', 'fun'], ['awake', '2', 'hate', 'sickness'], ['saw', 'confessions', 'shopoholictotally', 'fell', 'love', 'hugh', 'dancys', 'accent', '3', 'need', '2000', 'tomorrow', 'new', 'top', 'want'], ['x', 'geo', 'isu', 'go', 'swear', 'worse', 'day', 'ever'], ['hugs', 'oh', 'gosh', 'im', 'sorry'], ['worries'], ['ive', 'never', 'prague', 'money', 'itll', '10', 'first', 'cities', 'visit'], ['hey', 'easyjust', 'type', 'youre', 'like', 'facebook', 'much', 'simpler', 'good', 'day'], ['already'], ['bout', 'knock', 'feelin', 'lil', 'sick', 'peace', 'yall'], ['happy', 'star', 'wars', 'day'], ['love', 'album', 'guys', 'cant', 'wait', 'official', 'release', 'curious', 'top', '3', 'softsynthsdaw', 'used'], ['home', 'pukey', 'boy', 'poor', 'little', 'baby'], ['would', 'lime', 'lemon', 'deal', 'sounds', 'fabulous', 'text', 'youre', 'back'], ['fear', 'deserve', 'alot', 'care', 'animals', 'ill', 'get', 'food', 'dont', 'worry'], ['indeed', 'twitter', 'mate', 'happening', 'enjoy', 'hope', 'see', 'arou', 'httptwurlnlj4o1xe'], ['im', 'angry', 'right', 'today', 'im', 'doind', 'nothing', 'classmates', 'yes', 'think', 'stay', 'friend', 'mrcomputer', 'hope'], ['lol', 'peek', 'httpgeehallblogspotcom', 'coming', 'along', 'nicely', 'totally', 'understand', 'leaving', 'set', 'quiet'], ['feels', 'sick', 'stomach', 'idkk', 'whyy'], ['pretty', 'black', 'top', 'flowers', 'pink', 'hues'], ['good', 'morning', 'people', 'great', 'day'], ['sorry', '19femaleatl', 'lonely'], ['kno', 'im', 'sad', 'evry1', 'leavin', 'horrible', 'im', 'supposed', 'b', 'happy', 'summer', 'cant', 'ima', 'miss', 'evry1'], ['freya', 'good', 'night'], ['thanks', 'much', 'belated', 'followfriday', 'shout', 'payingitforward'], ['new', 'nick', 'name', 'arosh', 'like', 'like'], ['hate', 'website', 'says', 'ticket', 'prices', 'another', 'website'], ['sad', 'hollyoaks'], ['want', 'see', 'badly'], ['hey', 'socialmediatv', 'im', 'new', 'recorded', 'show', 'viewable', 'later', 'thanks', 'social', 'media', 'tv', 'live', 'httpustream2njv'], ['made', 'work', 'couldnt', 'get', 'feelin', 'blurgh'], ['say', 'please', 'reply', 'dougie', 'double', 'dare'], ['weird', 'maybe', 'updates', 'arent', 'sent', 'phone', 'haha'], ['hate', 'feeling', 'like', 'need', 'break', 'away', 'everyone', 'soon', 'exams', 'im', 'defo', 'portsmouth', 'bit'], ['aha', 'marie', 'brothers', 'wallpaper', 'phone', 'dolly', 'sheep', 'aha', 'im', 'loling'], ['disappointed', 'talent', 'lineup', 'reventã¯â¿â½n', 'super', 'estrella', '2009hmmhave', 'feeling', 'wont', 'get', 'tix', 'time', 'around'], ['took', 'forum', 'access', 'away', 'fail'], ['god', 'cant', 'asylum', 'really', 'never', 'get', 'anything', 'cool'], ['frustrated', 'stupid', 'iphone', 'need', 'blackberry'], ['cinema', 'tonight', 'half', 'price', 'monday'], ['take', 'take', 'faces', 'robbie'], ['love', 'boy', 'makes', 'happy', 'looks', 'sexiest', 'plain', 'black', 'boxers', 'p'], ['sun', 'shining', 'great', 'day'], ['succesful', 'love'], ['hey', 'thats', 'school', 'hate', 'place'], ['hey', 'gerardo', 'late', 'response', 'day', 'talking', 'bout', 'forgiving', 'brother', '4', 'givin', 'wrong', 'directions', 'got', 'way', 'upset'], ['happy', 'bday'], ['ur', 'pic', 'nice', 'look', 'cuteoh'], ['sorry', 'failed', 'grasp', 'meaning'], ['happy', 'birthdayyy', 'hope', 'awesome', 'day', 'didnt', 'see', 'next', 'last', 'night'], ['ready', 'tomorrow', 'mommy', 'get', 'gift', 'mothers', 'day', 'hope', 'loves'], ['know', 'work', 'boring', 'prefer', 'take', 'life'], ['griffiths', 'good', 'atmos', 'decided', 'stay', 'til', 'closing', 'funny'], ['morning', 'rode', 'behind', 'guy', 'bird', 'cage', 'containing', 'plastic', 'tyrannosaurus', 'rex', 'attached', 'bicycle', 'couldnt', 'get', 'photo'], ['watched', 'belong', 'lovely', 'sister', 'kiddin'], ['playing', 'old', 'school', 'playground', 'still', 'except', 'lame', 'got', 'rid', 'tire', 'swing'], ['hows', 'fam', 'well', 'hope'], ['new', 'album', 'truly', 'genius', 'happy'], ['excellent', 'point'], ['brian', 'cat', 'still', 'hasnt', 'shown', 'upi', 'feel', 'sad', 'sick', 'im', 'afraid', 'hes', 'eaten', 'something', 'doesnt', 'look', 'good'], ['lol', 'tweets', 'funny', 'met', 'calgary', 'youre', 'awesome', 'cant', 'wait', 'next', 'hp', 'movie'], ['leaving', 'beach', 'great', 'day', 'vicente', 'needed', 'time', 'together'], ['great', 'exercise', 'sunday', 'morning', 'stopping', 'wheel', 'karma', 'raw', 'transforming', 'negativity', 'love', 'life'], ['love', 'smell', 'procrastination', 'morning', 'oder'], ['people', 'work', 'stressing'], ['sticks', 'stones', 'may', 'break', 'bonesbut', 'words', 'hurt', 'forever'], ['seriously', 'heartbroken'], ['sure', 'continue', 'tweet', 'conf', 'call', 'worrying', 'cat', 'bee'], ['quite', 'peacocks', 'oceanographers', 'choice', 'new', 'favorites', 'play'], ['hmmm', 'httpwwwdjherocom'], ['dunno', 'saw', 'happy', 'birthday', 'girl'], ['know', 'miss'], ['haha', 'thanks', 'shannon', '3', '5', 'boats', 'got', 'first'], ['please', 'let', 'know', 'allright', 'de', 'need', 'know', 'first', 'wake', 'little', 'enjoy', 'cofee'], ['driving', 'home', 'trade', 'cars', 'hopefully', 'makes', 'httpmylocme21sl'], ['bout', 'go', 'bed', 'pretty', 'good', 'day', 'monday'], ['omgosh', '79', 'degrees', 'im', 'sweating', 'miserable', 'gon', 'na', 'visit', 'atx', 'needac', 'needac'], ['good', 'day', 'im', 'checking', 'hugh', 'today', 'also', 'lookout', 'best', 'cassoulet', 'recipe', 'ever', 'tasted'], ['sorry', 'hear', 'dude', 'probs', 'thats', 'much'], ['wasnt', 'workin', '5', 'hours', 'id', 'gettin', 'ratarsed', 'point', 'couldnt', 'even', 'see', 'let', 'alone', 'stand', 'upthat', 'feel'], ['heading', 'poole', 'around', '4ish', 'serious', 'gardening', 'go', 'tweetdeck', 'til', 'sunday', 'evening'], ['soo', 'excited', 'pasadena', 'seminarif', 'find', 'confermation', 'email'], ['morning', 'great', 'day', 'school', 'go'], ['love', 'make', 'happy'], ['cake', 'little', 'stomach', 'bug', 'nothing', 'serious'], ['see', 'coffee', 'table', 'r', 'u', 'cominging', '2', 'insult', 'cleaning', 'rest', 'house'], ['wish', 'dallas', 'still', 'say', 'ow', 'lol', 'hey', 'u', 'spelled', 'name', 'wrong', 'good', 'thanks', 'ff', 'love'], ['think', 'dreaming', 'however', 'memory', 'suck', 'maybe'], ['im', 'concerned', 'family'], ['well', 'sacramento', 'hope', 'appreciate', 'rivkah', 'sass', 'treat', 'well', 'ill', 'sitting', 'omaha', 'pouting'], ['happy', 'came', 'said', 'hi', 'twas', 'nice', 'meet', 'indeed', 'thanks', 'much', 'coming', 'talking'], ['cool', 'np', 'got', 'working', 'series', 'designs'], ['happy', 'friday', 'weekend', 'everyone', 'tgif', 'nothing'], ['bad', 'mood', 'dont', 'feel', 'good', 'bad', 'one', 'cares'], ['thanks', 'hint', 'httptinyurlcomchtx7e'], ['hmmm', 'really', 'thats', 'weird', 'idk', 'one', 'sowwy'], ['awwthats', 'bummer'], ['please', 'send', 'youtube', 'links', 'erin', 'watched', 'cooking', 'didnt', 'get', 'see', 'cowboys'], ['fun', 'times', 'thats', 'friends', 'beer', 'heres', 'pic', 'httpyfrogcom053agj'], ['yes', 'im', 'quite', 'rusty', 'im', 'hoping', 'get', 'back', 'tune', 'skills', 'tim', 'plays', 'guitar', 'threaten', 'duets'], ['back', 'working', 'auditing', 'away', 'time', 'make', 'hard', 'decisions', 'happy'], ['going', 'home', 'enjoy', 'left', 'day', 'cant', 'believe', 'quickly', 'week', 'flew', 'time', 'tweets'], ['urghhhhhhhhhh', 'makeing', 'cry'], ['made', 'vid', 'proving', 'skills', 'denied', 'step', 'dad', 'said', 'hed', 'disown', 'posted', 'sowey'], ['tired', 'summer', 'already'], ['dead', 'grandpa', 'pays', 'attention'], ['definitely'], ['booo', 'best', 'friend', 'leavin', 'weekend', 'ever', 'without'], ['got', 'twilight', 'board', 'game', 'today', 'good', 'old', 'ebay'], ['well', 'mother', 'grandma', 'bit', 'kidding', 'mode'], ['going', 'work', 'great', 'days', 'atleast', 'get', '2', 'commin', 'wahooooooo'], ['thats', 'great'], ['oh', 'dear', 'thats', 'disturbing', 'coffee', 'connoisseur', 'died', 'little'], ['driving', 'u', 'come', 'across', 'aggressive', 'driving', 'behaviour', 'another', 'driver', 'u', 'chase', 'car', '2', 'tell', 'driver', 'drive'], ['sounds', 'like', 'youre', 'great', 'time'], ['rofl', 'thats', 'like', 'hear'], ['soo', 'stressed', 'outi', 'think', 'could', 'possibly', 'lose'], ['im', 'pleased', 'hun'], ['u', 'say', 'shoutout', 'nikki', 'please', 'soulja', 'boy', 'tell', 'em', 'live', 'live', 'httpustream2uhs'], ['house', 'sad', 'looking', 'without', 'furniture', 'air', 'mattressing', '2', 'nights', 'im', 'officially', 'moved', 'knoxville'], ['tonight', 'bad', 'night'], ['oi', 'mocking', 'fact', 'dont', 'cry', 'tv', 'things', 'feels', 'badxxx'], ['wants', 'come', 'back', 'online', 'talk', 'gossip', 'horrible', 'things', 'transpired', 'today'], ['im', 'mad', 'cuz', 'cant', 'get', 'picture', 'work'], ['well', 'good', 'job', 'two', 'cousins', 'graduates', 'good', 'luck', 'life', 'never', 'wear', 'pajama', 'pants', 'school'], ['furlaxis', 'makes', 'feel', 'physically', 'sick', 'read', 'let', 'right', 'one', 'horrified', 'cat', 'violence', 'horrible'], ['rosaen', 'love', 'new', 'bracelets', 'im', 'proud', 'sistayou', 'rock', 'girly'], ['3criminy', 'cuteness', 'httptinyurlcomcd8yab', 'sinfest'], ['att', 'cheated', 'system', 'green', 'day', 'tickets', 'att'], ['thx', 'ur', 'msg', 'awesome', 'luv', 'new', 'single', 'xoxo'], ['got', 'caught', 'rain', 'sand', 'monsoon', 'way', 'home', 'even', 'though', 'looked', 'like', 'complete', 'idiot'], ['dw', 'funny'], ['many', 'mine', 'included', 'ahem', 'shld', 'known', 'better', 'back', 'wldnt', 'missed', 'many', 'opportunities', 'haha'], ['preet', 'haha', 'one', 'many', 'reasons', 'love'], ['ive', 'best', 'buy', 'target', 'still', 'electrik', 'red', 'album', 'im', 'loosing', 'hopetheyve', 'never', 'even', 'heard', 'girls'], ['omg', 'twin', 'sisters', 'fav', 'song'], ['wow', 'fastnext', 'soderling', 'ferrer', 'gilles', 'simon', 'lost'], ['omgod', 'im', 'soooo', 'tired', 'dont', 'think', 'energy', 'film', 'today', 'lol'], ['good', 'idea', 'ill', 'remove', 'old', 'receipts', 'tissue', 'paper', 'nonsense', 'take', 'pic'], ['munchin', 'bacon', 'butties', 'woohoo', 'faves'], ['fan76', 'rofl', 'thats', 'problem', 'two', 'hands'], ['coffee', 'brewing', 'musicmonday', 'morning', 'im', 'listening', 'fray', 'heres', 'good', 'week'], ['time', 'school', 'im', 'feelin', 'good', '5', 'jogs', 'good', 'aloha'], ['ew', 'sorry', 'zach'], ['wtf', 'rehearsal', 'got', 'space', 'room', 'booked', 'brothers', 'stuff', 'right', 'cant', 'transfer', 'another', 'room', 'studio'], ['im', 'donehaha', 'house', 'md', 'marathon', 'ulet'], ['woah', 'thats', 'cool', 'landed', 'london', '2', 'and12', 'hours', 'agoi', 'love', 'scenery', 'beautiful'], ['yeah', 'entire', 'time', 'swoon', 'bc', 'eyes', 'swoons', 'thinking'], ['hey', 'pretty', 'good', 'sucking', 'daughter', 'exactly', 'glad', 'see', 'alone', 'good', 'luck', 'mom'], ['sunburn'], ['gave', 'tumblr', 'api', 'isnt', 'pointing', 'private', 'account'], ['sooo', 'childrens', 'museum', 'closed', 'fund', 'raiser', 'got', 'annoying'], ['bird', 'living', 'find', 'ways', 'kill', 'things', 'beside', 'exterminator', 'vegas', 'sucks'], ['ouch', 'wont', 'miami', 'tomorrow', 'morning', 'sucks', 'cruise', 'driving', 'back', 'next', 'saturday'], ['youre', 'gon', 'na', 'take', 'good', 'care', 'little', 'baby', 'hes', 'gon', 'na', 'strong', 'boy', 'thats', 'sure'], ['staying', 'afterschool', 'today', 'friends', 'id', 'tell', 'em', 'text', 'lol', 'likin', 'us', '3'], ['back', 'work', 'tomorrow', 'whose', 'idea', 'go', 'back', 'saturday', 'oh', 'wait', 'would', 'mine', 'fail'], ['dont', 'like', 'kde', 'since', 'ver', '40', 'like', 'vista', 'fail'], ['im', 'going', 'work', 'married', 'wud', 'never', 'see'], ['mother', 'city', 'terrell', 'texas', 'district', '2', 'city', 'council', 'seat', 'im', 'mia', 'lol', 'happy', 'mothers', 'day'], ['forgot', 'tonight', 'planning', 'heading', 'cask', 'might', 'good', 'idea'], ['noticed', 'yesterday', 'tooim', 'actually', 'really', 'happy', 'startrek'], ['watching', 'tiny', 'nephew', 'perfect', 'baby'], ['lol', 'made', 'huge', 'mess', 'school', 'shirt', 'using', 'charcoal', 'sticks', '2d', 'art'], ['didnt', 'work', 'unfortunately'], ['love', 'one', 'especially', 'shoes', 'anyway', 'gmn', 'punya', 'acc', 'lookbook', 'ya', 'httplookbooknulook92920'], ['much', 'enjoyed', 'whats', 'name', 'article'], ['httptwitpiccom4jber', 'aww', 'wonder', 'hate', 'us', 'later', 'lol'], ['thingsmummysaid', 'need', 'learn', 'wash', 'dishes', 'laundry', 'wont', 'always', 'right'], ['good', 'morning', 'friday', 'start', 'work', 'week', 'lakers', 'going', 'take', '4th', 'w', 'tonight', 'woohoo', 'go', 'lakers'], ['aww', 'got', 'see', '1st', 'grade', 'teachers', 'last', 'day', 'retired'], ['sorry'], ['ultimatum', 'ultimatum', 'matter', 'dress', 'sucks'], ['well', 'shes', 'getting'], ['working', 'attempting', 'keep', 'squirrels', 'away', 'squirels', '1', 'jesska', '0', 'stick', 'spiders'], ['aww', 'happy', 'mothers', 'day', 'girlie', 'kingston', 'lucky', 'great', 'mommy'], ['iamkiara', 'im', 'sick', 'fell', 'last', 'night', 'outside', 'coz', 'putting', 'something', 'bin'], ['perhaps', 'see', 'twitter', 'version', 'pulling', 'someones', 'pigtails', 'let', 'know', 'works'], ['waled', 'past', 'quad', 'want', 'outside', 'fun'], ['sucks', 'dont', 'drawing', 'tablet'], ['watching', 'rain', 'reminiscing', 'time', 'everytime', 'rained', 'love', 'life'], ['sensation', 'ocean', 'white', 'portugal', 'absolutely', 'amazing', 'adoreiii'], ['handwriting', 'isnt', 'everyone', 'making', 'fun', 'im', 'sitting', 'myseld', 'lrc'], ['true', 'form', 'bank', 'holiday', 'monday', 'looks', 'like', 'might', 'rainy', 'hope', 'holds', 'til', 'later', 'familyfriends', 'plan', 'walk', 'picnic', 'today'], ['tiredbut', 'cant', 'go', 'bed', 'yet'], ['im', 'wit', 'cha', 'got', 'home', 'da', 'reggae', 'club', 'wishin', 'sexin', 'somebody'], ['ugh', 'say', 'friend', 'might', 'swine', 'flu', 'omg'], ['la', 'bens', 'dreams', 'make', 'saddddddd', 'want', 'togetherrr', 'swear', 'gets', 'bawlinggg', 'help'], ['omg', 'u', 'nasty'], ['thanks', 'warning', 'good', 'thing', 'heart', 'unbreakable'], ['im', 'ready', 'baby', '3', 'tomorrow', 'growing', 'fast'], ['thanks', 'tweetstats', 'confirmed', 'long', 'suspected', 'twitter', 'keeping', 'way', 'late', 'ht', 'httptwurlnloaerf4'], ['awarded', 'first', 'ever', 'credit', 'card'], ['2833', 'songs', 'fill', 'ipod', 'supposed', 'hold', '4000'], ['im', 'going', 'kill', 'tt', 'wasted', 'hundreds', 'download', 'realised', 'got', 'wrong', 'one'], ['james', 'cameron', 'touches', 'something', 'revolutionizes', 'someone', 'else', 'comes', 'along'], ['hope', 'great', 'certainly', 'spent', 'enough', 'time', 'studying'], ['im', 'sorry', 'parents', 'coming', 'around', '1011', 'gon', 'na', 'eat', 'househunt', 'richardson', 'raaaain', 'cheeeck'], ['hahaha', 'niene', 'ur', 'soo', 'smart', 'lmao', 'think', 'good', 'lookin', 'whts', 'gurlie', 'come', 'home', 'weekend'], ['drive', 'make', 'ahh', 'margaritas', 'best'], ['watching', 'men', 'n', 'blk', '2', 'wishin', 'mums', 'happy', 'mothers', 'day'], ['finished', 'mine', 'parts', 'remarkably', 'difficult', 'cramming', 'kanji'], ['tried', 'sooooo', 'hard', 'work', 'home', 'today', 'failed', 'fault', 'though'], ['dr', 'hook', 'awesome'], ['got', 'new', 'silverstein', 'cd', 'aha', 'amazing', 'highly', 'recomend'], ['oh', 'totally', 'works'], ['soo', 'love', 'beyonces', 'song', 'smash'], ['think', 'im', 'broke'], ['keep', 'trying', 'invite', 'think', 'shes', 'afraid'], ['month', 'left', 'high', 'school', 'thank', 'god', 'ready', 'summer'], ['getting', 'stressed', 'sortie', 'tomorrow', 'like', 'really', 'really', 'stress'], ['lamont', 'yr', 'young', 'looking', 'dude'], ['im', 'sad', 'missed', 'calling', 'time', 'got', 'home', 'practice', 'late'], ['omg', 'wow', 'hope', 'everything', 'ok'], ['back', 'time', 'wish', 'teenager', 'wish', 'could', 'feel', 'healthy', 'cant', 'remember', 'like', 'feel', 'healthy', 'anymore'], ['ali', 'like', 'wonderful', 'sunday'], ['yay', 'asap', 'lol', 'awwh', 'miss', 'friday', 'night', 'happy', 'hours', 'even', 'luna', 'del', 'sea', 'boy', 'hahahaha'], ['good', 'luck', 'services', 'tomorrow', 'wish', 'could', 'see', 'guys', 'vacation'], ['still', 'freakin', 'missing', 'game', 'jonasnewsongs'], ['waiting', 'email', 'probably', 'never', 'arrive', 'ed', 'later', 'consti', 'study', 'hopeless', 'bumming'], ['hi', 'waking', 'lazy', 'would', 'proud', '8', 'btw', 'nice', 'colour', 'burnt'], ['saw', 'dooope', 'bmw', '6', 'series', 'parked', 'top', 'backto', 'bad', 'raining'], ['owww', 'back', 'pain', 'hm', 'walmart', 'could', 'get', 'cupcakes'], ['wow', 'heather'], ['living', 'country', 'government', 'always', 'circus', 'show', 'sad', 'true'], ['spent', 'last', '2', 'years', 'largely', 'ambivalent', 'sw', 'dev', 'practices', 'feel', 'care', 'factor', 'returning', 'look'], ['comp', 'slo', 'w'], ['yup', 'working', 'couldnt', 'recover', 'anything', 'though'], ['woo', 'two', 'days', 'till', 'awesome', 'gig', 'one', 'day', 'till', 'uni', 'finished', '12', 'days', 'gigs', '3yp'], ['always', 'hope', 'die', 'see', 'old', 'ones', 'makes', 'sad'], ['browsin', 'thru', 'videos', 'multiply', 'saw', 'video', 'u', 'sang', 'bf', 'miss', 'n', 'miss', 'pls', 'come', 'back', 'wherever', 'u', 'r'], ['says', 'happy', 'mothers', 'day', 'moms'], ['anybody', 'else', 'experiencing', 'painful', 'slowdowns', 'facebook'], ['thank', 'keep', 'theres', 'good', 'lad'], ['shes', 'must', 'truly', 'amazing', 'woman', 'phenomenal', 'son'], ['musicmonday', 'nicest', 'thing', 'kate', 'nash'], ['feeling', 'butterflies', 'today', 'study', 'study', 'study', 'contracts', 'gon', 'na', 'ace', 'writeon', 'competition', 'journals'], ['needs', 'get', 'fever', 'grrrrr'], ['want', 'see', 'david', 'cook'], ['wouldnt', 'reverse', 'overdraft', 'fees'], ['definitely', 'coming', 'hope', 'ur', 'ready'], ['going', 'sooooo', 'busy', 'today', 'funny', 'hate', 'busy', 'days'], ['3oh3', 'radio', 'amazing', 'yesterday'], ['think', 'im', '1'], ['signed', 'account', 'political', 'website', 'could', 'post', 'comment', 'isnt', 'working'], ['yep', 'nothing', 'worry'], ['oh', 'noes', 'missed'], ['oh', 'god', 'look', 'use', 'twitter', 'hopeless'], ['bad', 'headache', 'getting', 'worse', 'minute', 'better'], ['sad', 'daniel', 'leaving', 'florida', 'gave', 'big', 'hug'], ['pulled', 'directions', 'knowing', 'go'], ['hey', 'wife', 'die', 'really', 'confused', 'hadnt', 'myspace', 'little', 'read', 'twit'], ['day', 'goes', 'oni', 'think', 'im', 'gon', 'na', 'write', 'song', 'still', 'thinking', 'itã¯â¿â½s', 'impossible', 'get', 'true', 'friend'], ['whats', 'point', 'wisdom', 'teeth', 'nothing', 'grr', 'much', 'pain', 'look', 'like', 'chipmunk', 'fml'], ['best', 'things', 'life', 'free', 'x'], ['im', 'following', 'im', 'following', 'im', 'sorry', 'ahhahah', 'missed'], ['ha', 'im', 'giving', 'spymaster', 'chance', 'curious', 'miss', 'u'], ['hey', 'sherri', 'dont', 'give', 'bc', 'theyre', 'married', 'may', 'brother', 'friend'], ['barack', 'obama', 'legend', 'watched', 'dinner', 'speach', 'pretty', 'funny'], ['love', 'leave', 'laptop', 'bed', 'creates', 'nice', 'toasty', 'spot'], ['iddon', 'blerrrrrrrrrrgh', 'im', 'hot', 'sticky'], ['watching', 'army', 'wives', 'always', 'makes', 'cry'], ['happy', 'mothers', 'day'], ['hahahaha', 'train', 'want', 'wild', 'ride'], ['dont', 'wan', 'na', 'work', 'tonight'], ['women', 'science', 'technology', 'conference', 'la', 'jolla', 'interesting', 'day', 'met', 'really', 'great', 'people'], ['comp', 'deleted', 'half', 'apps'], ['gooood', 'morning'], ['hey', 'everyone', 'mixed', 'first', 'single', 'r', 'u', 'im', 'sooo', 'excited'], ['dgroup', 'saturdays', 'little', 'bit', 'football', 'hour', 'nap', '3', 'hours', 'soccer', 'basketball', 'tsu', 'yogurtland', 'lifes', 'good'], ['love', 'googles', 'mothers', 'day', 'theme', 'httptrimjtl8'], ['taking', 'care', 'sick', 'children'], ['got', 'work', 'take', 'whole', 'day', 'great', 'boss'], ['sending', 'healthy', 'healing', 'thoughts', 'mumborgs', 'direction'], ['soooooo', 'wish', 'could', 'im', 'school', 'myspace', 'completely', 'blocked'], ['well', 'keep', 'posted', 'comes', 'fully', 'thanks'], ['happened', 'wierd', 'sudden'], ['skinny', 'dipping', 'work', 'colleagues', 'maybe', 'id', 'never', 'live', 'lot'], ['miserable', 'feel', 'like', 'im', 'gona', 'cry', 'sux'], ['mgm', 'grand', 'mraz', 'stage', 'doubling', 'back', 'opener', 'lots', 'old', 'memories', 'flooding', 'back'], ['wishes', 'would', 'see', 'eyes', 'heart', 'httpplurkcompsv5bb'], ['ohsummer', 'beginsyay', 'fighting', 'crying', 'stress', 'started', 'kidsits', '3', 'hrs', 'since', 'got'], ['stupid', 'ipod', 'taking', 'forever', 'load'], ['hereby', 'announce', 'employed', 'couldnt', 'happier', 'alhamdulillah'], ['come', 'never', 'sleep', 'past', 'good'], ['pretty', 'dang', 'tired', 'chambers', 'class', 'napping'], ['im', 'glad', 'youre', 'little', 'prissy', 'well', 'obvious', 'much', 'love', 'wthe', 'treatment', 'shes', 'getting'], ['yeah', 'got', 'ur', 'text', 'well', 'ive', 'summer', 'break', 'week', 'far', 'boring', 'watch', 'tennis', 'matches'], ['well', '2', 'bedcant', 'wait', '2', 'party', '4', 'mothers', 'day', 'like', '14', 'hours'], ['thats', 'good'], ['depressed', 'watching', 'think', 'dance'], ['ohh', 'yeahh', 'im', 'probs', 'gon', 'na', 'loner', 'start', 'thanks', 'person', 'gon', 'na', 'go'], ['wish', 'see', 'clips', 'show', 'hosted', 'hottie', 'shawn', '80s', 'yes', 'still', 'hottie'], ['guess', 'im', 'gon', 'na', 'try', 'nap', 'thing', '2day', 'since', 'kids', 'havent', 'cooperated', 'yet', 'week', 'im', 'sure', '2day', 'wont', 'different'], ['musem', 'equaled', 'fail', 'hall', 'life', 'closed', 'cause', 'construction'], ['signing', 'night', 'good', 'sunday', 'night'], ['whooo', 'baby', 'good', 'luck'], ['spent', 'hour', 'trying', 'get', 'newborn', 'bird', 'front', 'garden', 'fly', 'poor', 'baby', 'success'], ['yeah', 'prom', 'night', 'craft', 'good', 'movie'], ['oh', 'raining', 'sea', 'world', 'parade', 'httpyfrogcom0wvnpj'], ['morning', 'everone', 'sing', 'tuck', 'turn', 'light', 'kept', 'safe', 'sound', 'night', '8'], ['4', 'hours', 'till', 'mothers', 'day', 'party', 'yeah'], ['oh', 'yeah', 'camera', 'clipping', 'problems', 'void', 'completely', 'fixed', 'yay', 'fiddling'], ['guess', 'missed', 'beer', 'good', 'time'], ['hahah', 'best', 'thank', 'god', 'terry', 'laughing', 'hard', 'miss', 'remember', 'racing', 'trucks'], ['good', 'hear', 'several', 'peeps', 'working', 'tonight'], ['im', 'extremely', 'hungry', 'thing', 'house', 'soup', 'dont', 'like', 'soup', 'pouts'], ['always', 'one', 'time', 'always', 'late', 'wan', 'na', 'sleep', 'miss', 'mere'], ['httpskipallcom8ppng', 'come', 'apart', 'easy', 'enough'], ['miss', 'puppy'], ['ahhh', 'mommie', 'got', 'new', 'sheets', 'bed', 'comfy'], ['9', 'weeks', 'finally', 'rained', 'quite', 'enough', 'yet', 'seems', 'coming', 'garden', 'happy'], ['ugh', 'two', 'week', 'push', 'produce', 'six', 'pack', 'produced', 'nothing', 'pain'], ['mowing', '6', 'hate', 'lawn'], ['dohh', 'old', 'never', 'heard', 'im', 'last', 'year'], ['happy', 'clean', 'squeaky', 'clean'], ['youre', 'good', 'friend', 'dave', 'wait', 'hope', 'dont', 'wait', 'long', 'though'], ['watched', 'marley', 'mei', 'cried', 'hard'], ['moving', 'offices', 'im', 'going', 'miss', 'hollywood'], ['folio', 'work', 'keep', 'getting', 'distracted', 'deb', 'pics'], ['im', 'sadill', 'miss', 'grandma', 'angie', 'always', 'like', '3rd', 'grandma'], ['want', 'ride', 'bicycle', 'today', 'cold', 'cloudy', 'today'], ['got', 'people', 'dont', 'let', 'skip', 'sci', 'pratical', 'becos', 'skola', 'impt', 'dont', 'waste', 'parents', 'money', 'nt', 'fair'], ['sick', 'stomach', 'headache', 'wish', 'someone', 'could', 'come', 'rub', 'temples'], ['hahaha', 'guess', 'reinforce', 'skates', 'haha', 'remember', 'u', 'r', 'friend', 'semigod', 'gluten', 'intolence'], ['love', 'song', 'starting', 'think', 'one', 'knew', 'one', 'sameperson'], ['lazzzzzzzzzzzzzzzy', 'monday', 'bank', 'holiday', 'nicole', 'havent', 'u', 'direct', 'msged', 'yet'], ['done', 'disneyland', 'kids', 'knocked', 'stopped', 'hotel', 'bar', 'grabbed', 'grey', 'goose', 'tonic', 'way', 'uppeace'], ['enjoying', 'cool', 'breeze', 'beach', 'helps', 'relax', 'unwind'], ['really', 'good', 'night', 'missing', 'little', 'girl'], ['thank', 'kirst', 'posts', 'running', 'inspired'], ['grrr', 'hate', 'make', 'careless', 'mistakes', 'docs', 'give', 'partner'], ['thats', 'cool'], ['bad', 'migrane', 'need', 'go', 'dancing', 'tonight', 'good', 'combination'], ['pleasure', 'bojan'], ['awesome', 'talk', 'find', 'true', 'watching', 'ruby', 'community', 'closely'], ['wish', 'sun', 'lollies', 'get', 'addicted', 'flavour'], ['oh', 'tired'], ['3', 'im', 'tired', 'cant', 'sleep', 'try'], ['yeah', 'ive', 'noticed', 'miss', 'spender', 'closer', 'holding'], ['neighborhood', 'gas', 'station', 'gone', 'kaput', 'business', 'convenient', 'trips', 'ice', 'whatevs', '3', 'miles', 'travel'], ['im', 'tiredand', 'insomnia'], ['got', 'headache', 'hard', 'work', 'today', 'still', 'ready', 'heineken', 'trying', 'finished'], ['umm', 'get', 'ready', 'help', 'mum', 'give', 'gj', 'presents', 'gets', 'could', 'wait', 'people', 'arrive', 'party'], ['like', 'clarify', 'unable', 'acc', 'review', 'vibrators', 'testrun', 'invitaiton', 'freebies'], ['well', 'even', 'breakdown', 'better', 'acts', 'unfortunately', 'britains', 'got', 'little', 'talent'], ['senior', 'ball', 'hella', 'fun', 'good', 'night'], ['across', 'water', 'damned', 'expensive'], ['gon', 'na', 'ask', 'wanted', 'go', 'club', 'hidden', 'house', 'sat', 'night', 'hehe'], ['sorry', 'feeling', 'way'], ['lol', 'yeah', 'ima', 'mama', 'thanks', 'happy', 'mamas', 'day', 'lakers', 'day', 'love'], ['well', 'following', 'think', 'interesting', 'right'], ['ate', 'many', 'kisses'], ['warmfuzzies', 'friend'], ['feel', 'ill', 'think', 'im', 'dehydrated'], ['love', 'mom', 'happy', 'mothers', 'day', 'mommies'], ['everyones', 'tweets', 'britains', 'got', 'talent', 'feel', 'left'], ['emily', 'ahahha', 'scare', 'would', 'work'], ['aww', 'miss', 'least', 'get', 'go', 'home', 'right'], ['come', 'vietnam', 'make', 'live', 'show', 'miley', 'much', 'fans', 'love', 'viet', 'nam'], ['oh', 'ive', 'returned', 'supermarket', 'doom', 'find', 'nothing', 'drink'], ['noticed', 'ridiculous'], ['thank', 'im', 'working'], ['43', 'hahhahah', 'really', 'made', 'laugh', 'loudd', 'ahahahahahahahahah', 'fuunny'], ['refuse', 'get', 'excited', 'dont', 'want', 'let', 'happens', 'long', 'june', '11', '28', 'id', 'die'], ['propellerheads', 'harddrive', 'long', 'got', 'music', 'repo', 'back', 'shape', 'felt', 'nostalgic'], ['indeed', 'glad', 'hear', 'everything', 'good', 'im', 'great', 'life', 'good'], ['eeek', 'coming', 'im', 'soo', 'excited', 'see', 'thursday'], ['think', 'cold', 'getting', 'worse', 'better', 'cant', 'stop', 'coughing', 'really', 'sucks'], ['great', 'dinner', 'wonderful', 'girlfriend'], ['interview', 'picked', 'ny', 'probably', 'forgot', 'blogtalk', 'radio'], ['good', 'morning', 'got', 'afternoon', 'germany'], ['sexy', '2', 'tubes', 'sticking', 'stomach', 'thanks'], ['wish', 'wasnt', 'bummed', 'kinda'], ['hello', 'im', 'late', 'playing', 'internet', 'love'], ['love', 'guy', 'standing', 'behind'], ['though', 'cold', 'would', 'go', 'away', 'turns', 'sinus', 'infection', 'keeps', 'getting', 'worse', 'worse', 'day'], ['ive', 'sat', 'sunbathing', 'bombed', 'church', 'day', 'left', 'missed'], ['thinking', 'recent', 'job', 'opportunities', 'hoping', 'get', 'one', 'gettng', 'ready', 'church'], ['hilarious'], ['im', 'suffering', 'restless', 'legs', 'butt', 'syndrome'], ['listening', 'maylene', 'wondering', 'cant', 'pull', 'many', 'cool', 'southern', 'metal', 'licks'], ['bit', 'disappointed', 'killers', 'jonathan', 'ross', 'hes', 'sexy', 'hell', 'though'], ['maybe', 'take', 'drinking', 'feel', 'massive', 'hangover', 'still', 'yself', 'today'], ['thanks', 'completing', 'calvin', 'appreciated'], ['fell', 'effed', 'arm', 'today', 'back', 'drive'], ['ã¯â¿â½ã¯â¿â½we', 'ready', 'new', 'generationoh', 'yeahwe', 'backstreet', 'fans', 'proud'], ['hate', 'bff', 'groundedd', 'boooooooooo'], ['omg', 'icecream'], ['yeah', 'quick', 'im', 'using', '5mm', 'addis', 'bought', 'sat', 'makes', 'even', 'smoother'], ['ben', 'jerrys', 'fail', 'got', 'email', 'free', 'ice', 'cream', 'says', 'click', 'redeem', 'coupon', 'click', 'get', 'error', 'message'], ['look', 'sooooo', 'pretty', 'love', 'dang', 'wish', 'ny', 'could', 'c', 'u', 'ur', 'thang'], ['succesfully', 'following', 'tayla'], ['bad', 'week', 'connectivityarlington', 'panera', 'wifi', 'sucks', 'maybe', 'head', 'legal', 'seafoods', 'airport', 'dangmissing', 'metaverse', 'u', 'stream'], ['dear', 'oh', 'dear'], ['britains', 'got', 'torture', 'edelcries'], ['mmmreconsituted', 'meat', 'products', 'weekold', 'veggiesgotta', 'love', 'rehydrated', 'warm', 'milk', 'breakfast'], ['worst'], ['fantastic', 'time', 'paradise', 'drink', 'margeritas'], ['bgt', 'made', 'cry', 'tonight'], ['long', 'hun', 'head', 'hurts'], ['lol', 'glad', 'like'], ['love', 'every', 'little', 'thing'], ['hubby', 'dentist', 'ready', 'hold', 'hand', 'getting', 'nervy', 'potentially', 'buying', 'car', 'tomorrow'], ['well', 'tell', 'fashion', 'tips', 'need', 'im', 'woman', 'hehehe'], ['yes', 'would', 'love', 'cowbell'], ['dont', 'care', 'netsexor', 'cams', 'route', 'heaven', 'however', 'lobster', 'sounds', 'super', 'good', 'im', 'almost', 'tempted', 'go', 'get'], ['weirton', 'julie', 'way', 'north', 'tippy', 'top', 'lol', 'dont', 'think', 'southern', 'wv', 'folks', 'like', 'us', 'much'], ['hate', 'going', 'online', 'looking', 'balance', 'bank', 'always', 'lot', 'lower', 'need'], ['awwww', 'yur', 'awesome', 'mother', 'keep', 'good', 'work'], ['httptwitpiccom4so0u', 'ooo', 'wish', 'hes', 'hot'], ['mothers', 'daylove', 'madre', 'chels', 'tonight', 'cant', 'wait', 'see', 'present'], ['lost', 'dc', 'hat'], ['mind', 'racing', 'bc', '4', 'words', 'wrote', 'hate', 'hate', 'cant', 'keep', 'falling'], ['happy', 'star', 'wars', 'day', 'everyone', 'celebrate', 'family', 'ok', 'celebrating', 'going', 'round', 'famos'], ['throat', 'hurts', 'cant', 'sleep'], ['whos', 'going', 'see', 'reemer', 'wednesdayy', 'kirsty', 'going', 'im', 'well', 'exited'], ['cant', 'fix', 'guess', 'ill', 'write', 'get', 'bored', 'watch', 'tv', 'man', 'lame'], ['ugly', 'gray', 'outside', 'even', 'san', 'diego', 'cold', 'get', '70', 'maygray', 'junegloom', 'us'], ['lucky', 'mom', 'paid', 'everything', 'ill', 'take', 'shopping'], ['forgot', 'happy', 'moms', 'day'], ['instrumentalists', 'like', 'give', 'singers', 'hard', 'time', 'vocalists', 'job', 'toughest', 'heshe', 'sick'], ['aaaaaaaa', 'hate', 'winshit'], ['dont', 'hate', 'youre', 'left', 'one', 'slice', 'bread', 'left', 'bag', 'half', 'sandwich'], ['study', 'day', 'finished', 'care', 'plan', 'hungry', 'hell', 'ima', 'go', 'treat', 'burrito', 'good', 'days', 'work'], ['getting', 'married', 'vegas', 'november', 'elvis', 'impersonator', 'happy'], ['hi', 'isla', 'hope'], ['using', 'yahoo', 'pipes', 'combine', 'feeds', 'doable', 'reliable', 'guess'], ['hates', 'broken', 'wrist', 'pe', 'next', 'ugh'], ['gmorning', 'hermana', 'thank', 'testimonial', 'wonderful', 'posted', 'already'], ['enjoyed', 'week', 'work', 'back', 'next', 'week'], ['nooooo', 'working', 'weekend'], ['sadly', 'think', 'know', 'exactly', 'put', 'itin', 'expired', 'drawer', 'things', 'life', 'span', 'less', 'two', 'years'], ['thank', 'ooh', 'see', 'youve', 'read', 'desert', 'islands', 'httpisgdys6k', 'great', 'book'], ['san', 'jose', 'good', 'time', 'w', 'bros', 'also', 'helped', 'dad', 'edit', 'next', 'holy', 'land', 'brochure', 'wish', 'could', 'go'], ['weird', 'guys', 'house', 'without', 'dont', 'like'], ['im', 'trouble', 'viewing', 'well', 'tube', 'reason'], ['woohooo', 'cool', 'see', 'knew', 'u', 'would', 'get', 'see'], ['ooh', 'thats', 'early', 'start', 'ive', 'got', 'bed', 'planned', 'timehaloveyoujonesy'], ['head', 'strand', 'goodnight'], ['historical', 'jesus', 'ever', 'exist', 'im', 'finding', 'hard', 'prove', 'hearsay', 'accounts', 'bugs'], ['god', 'good'], ['thank', 'usually', 'learning', 'happens', 'get', 'little', 'rest', 'review', 'notes', 'reminds', 'id', 'better', 'get', 'rest'], ['getting', 'ready', 'see', 'cousins', 'graduate', 'gon', 'na', 'miss', 'em'], ['arent', 'though', 'lol', 'hes', 'work', 'miss', 'blah', 'wut', 'cha'], ['poor', 'pirate', 'last', 'wisdom', 'tooth', 'looking', 'really', 'peaky'], ['aw', 'song', 'makes', 'think', 'girl', 'scouts'], ['hahah', 'labhr', 'labba', 'seems', 'think', 'similar', 'ways'], ['fixin', 'clean', 'house', 'mom', 'mothers', 'day'], ['tried', 'swat', 'fly', 'buddhist', 'magazine', 'bad', 'karma'], ['picture', 'made', 'cry', 'lol', 'httpwwwtwitpiccom671w1'], ['dont', 'know', 'yet', 'word', 'hopeful', 'though', 'good', 'stuff', 'happening', 'lately', 'im', 'getting', 'excited'], ['yeah', 'thought', 'little', 'warning', 'guys', 'dont', 'miss', '129', 'shifts', '6', 'dayswk', 'break', 'thats', 'sure'], ['nevermind', 'beyonce', 'doesnt', 'twitter', 'haha'], ['sooooo', 'hungry', 'right', 'shouldve', 'eaten', 'wedding'], ['cankle', 'sore'], ['heyythnxxorinvitingmetourpartyrobillbedownthereonjune24thillmissuwhenugotoitaly', '333333333', 'txtmehon'], ['overcome', 'whatever', 'darts', 'enemy', 'may', 'try', 'stop', 'weve', 'got', 'ta', 'stay', 'focused', 'tweetz', 'god', 'bless'], ['thanks', 'man', 'appreciate', 'rock', 'sir'], ['uk', 'o2', 'train', 'bristol', 'london', 'terrible', 'wifi'], ['tell', 'hasnt', 'miss', 'boge'], ['dude', 'new', 'star', 'trek', 'burger', 'king', 'commercial', 'bud', 'light', 'burger', 'king', 'proud', 'u', 'man'], ['hot', 'today', 'dont', 'like', 'hate', 'new', 'timetable', 'bad', 'week'], ['arg', 'exile', 'still', 'problem', 'alttabbing'], ['problem', 'think', 'great', 'thing', 'reflect'], ['good', 'morning', 'tweeps', 'busy', 'working', 'way'], ['welcome'], ['uh', 'happy', 'mothers', 'day', 'mum'], ['still', 'pity', 'comes', 'lamb', 'though'], ['inlove', 'scanton', 'thats', 'farrr', 'elaine', 'got', 'cartilage', 'pierced', 'cute'], ['gets', 'spam', 'college', 'email', 'account', 'way', 'rub', 'graduation'], ['heater', 'blew'], ['always', 'one', 'joykill', 'crowd', 'haters'], ['hecks', 'yeah', 'jandy', 'timsamlake', 'rawesome'], ['wright', 'thank', 'return', 'mack', 'jam'], ['love', 'app', 'things', 'hella', 'awesome', 'bro'], ['thank'], ['hi', 'ya', 'demi', 'im', 'glad', 'ur', 'back', 'httptwitpiccom4vuuy', 'personally', 'love', 'picture', 'haha'], ['100000', '60', '1667', 'wordsday', '1667', '10', '167', 'wordshour', '167', '60', '28', 'wordsminute', 'pressure'], ['hahaha', 'chivalrys', 'dead', 'rare'], ['hate', 'new', 'mt', 'dew', 'commercialthe', 'one', 'giant', 'mosquitoit', 'scares', 'grosses', 'time'], ['disappointed'], ['still', 'feeling', 'weird', 'ex', 'engagement', 'mom', 'made', 'things', 'worse', 'dont', 'even', 'want', 'still', 'odd'], ['rip', 'curls'], ['crappy'], ['mom', 'came', 'home', 'finally', 'got', 'guitar', 'strap', 'yay'], ['sadly', 'cant', 'view', 'site', 'due', 'region', 'restrictions'], ['love'], ['httptwitpiccom4wi9p', 'playing', 'ethan', 'love', 'baby'], ['pool', 'today', 'stupid', 'weather'], ['would', 'wish', 'severe', 'migrains', 'would', 'stop', 'docs', 'prescriptions', 'arent', 'working'], ['phone', 'call', 'yett', 'hrmm', 'maybe', 'call', 'end', 'order', 'ill', 'wait', 'bit', 'longer', 'prom', 'nights', 'often', 'spuratic', 'moments'], ['made', 'cry', 'poor', 'hollie'], ['spirit', 'week', 'tuesday', 'make', 'eight', 'die', 'later', 'school', 'wednesday', 'thursday', 'finally', 'sleep', 'friday'], ['za', 'thanks', 'man', 'cant', 'wait'], ['blonde', 'keep', 'failing', 'drivers', 'license', 'testeverytime', 'stopped', 'jumped', 'back', 'seat'], ['woke', 'came', 'realization', 'put', 'much', 'want', 'need', '2', 'drop', 'friends', 'dammit'], ['buckley', 'good', 'morning', 'sunny', 'londonsounds', 'like', 'oxymoron', 'happens', 'true', 'today', 'hurrah'], ['happy', 'mothers', 'day'], ['well', 'definitely', 'hayfever'], ['rise', 'shine', 'time', 'get', 'prettifide'], ['eeeeep', 'jealous', 'im', 'work', 'um', 'u', 'receive', 'viva', 'broadcast', 'online', 'plz'], ['cold'], ['oh', 'joy', 'gong', 'long', 'weekebd', 'yipee', 'ã\\x82â¡'], ['turned', 'fast', 'food'], ['sucks'], ['made', 'decision', 'stick', 'although', 'im', 'really', 'sure', 'right', 'one'], ['really', 'son', 'screw', 'ill', 'talk', 'msn', 'later', 'k', 'xox'], ['glorious', 'sunny', 'day', 'london', 'town', 'im', 'drama', 'school', 'fighting', 'people', 'swords', 'protecting', 'romantically', 'structured', 'face'], ['best', 'friends', 'bought', 'something', 'really', 'want'], ['sunburn', 'ouch'], ['gnight', 'jonathan', 'tried', 'stay', 'really', 'cant', 'wait', 'till', 'ur', 'timezone', 'much', 'easier'], ['blah', 'car', 'repairs', 'almost', '600', 'dollars', 'shopping', 'around', 'better', 'deal'], ['send', 'messages', 'greg', 'time', 'answer', 'ok', 'still', 'love', 'goog', 'luck', 'move', 'erie'], ['finally', 'feel', 'back', 'swing', 'things', 'work', 'getting', 'married', 'last', 'week', 'sigh', 'relief', 'wedding', 'planning'], ['ahhh', 'im', 'drinking', 'bride', 'wars', 'really', 'good'], ['werent', 'picky', 'precise', 'might', 'find', 'interesting', 'talk'], ['unfortunately', 'didnt', 'leave', 'house', 'time'], ['watching', 'friends', 'reduces', 'stress', 'inside', 'thanks', 'bright', 'kauffman', 'crane', 'created', 'series', 'love', 'love', 'love'], ['unfortunately', 'im', 'drunk', 'enough', 'lol', 'money', 'get', 'drunk', 'alot', 'though', 'u', 'imagine', 'haha'], ['hes', 'amazing', 'jockey', 'saw', 'clydesdale', 'commercial', 'tooloved'], ['im', 'gon', 'na', 'cry', 'went', 'bad', 'history', 'test', 'really', 'hate', 'history'], ['oowwwwhy', 'wisdom', 'teeth', 'hurt', 'much'], ['got', '3', 'stars', 'pre', 'wash', 'failed', 'rince'], ['spoke', 'culture', 'rackers', 'castle', 'time', 'awesome', 'mexican', 'food', 'drinkingantibiotics'], ['net', 'died', 'yeah', 'im', 'sad'], ['im', 'come', 'try', 'find', 'fan'], ['happy', 'mothers', 'day', 'mom', 'love'], ['watch', 'id', 'forgottenmost', 'enjoyed', 'reseeing', 'paying', 'today', 'face', 'doesnt', 'bounce', 'back', 'anymore'], ['oh', 'rightsorrynow', 'get', 'yabut', 'still', '3000', 'emailswowcool'], ['poop', 'hogging', 'shitter'], ['goodnight', 'tweeps'], ['sorry', 'lack', 'tweets', 'ive', 'buzy', 'new', 'vid', 'saturday'], ['unfair', 'good', 'rock', 'shows', 'happen', 'blore', 'pune'], ['honor'], ['think', 'theres', 'something', 'wrong', 'video', 'loads', 'first', '40ish', 'seconds'], ['steak', 'burrito', 'bowl', 'right', 'wish', 'wasnt', 'lazy', 'go', 'downtown'], ['asylm', 'yay', 'registered', 'lost', 'friends'], ['sister', 'stupid', 'party', 'wan', 'na', 'hang', 'friends', 'hilly', 'wont', 'txt', 'back'], ['headed', 'verizon', 'praying', 'pinkberry', 'going', 'make'], ['90', 'haha', 'agreed', 'lol'], ['amazing', 'day', 'boyfriend', 'hes', 'good', 'drummer'], ['awww', 'holly', 'shes', 'cute', 'hope', 'let', 'sing'], ['always', 'welcome', 'sweetie', 'hugs'], ['ian', 'going', 'matinee', 'tomorrow', 'thats', 'plan', 'leastits', 'going', 'expensive', '3d', 'night'], ['good', 'morning', 'scary', 'world'], ['watching', 'film', 'recovering', 'operation'], ['love', 'family', 'feud', 'episode', 'kardashians', 'tonight'], ['sadly', 'brother', 'told', 'skateparks', 'lives', 'bummer'], ['etherreal', 'main', 'preoccupation', 'etherreals', 'preoccupation', 'humm', 'schizophrenic'], ['shuld', 'dance', 'like', 'seriously', 'best', 'thing', 'haha', 'see', 'yu', 'tomoro'], ['dont', 'go', 'logan', 'square', 'pretty', 'sure', 'shirt', 'isnt', '1', 'philly', 'local', 'tmrw'], ['oh', 'really', 'hopefully', 'good', 'one', 'trying', 'get', 'attention', 'thats'], ['cramps'], ['haha', 'agree', 'test', 'dummy', 'go', 'say', 'whatever', 'want', 'always', 'love', 'magic'], ['weird', 'mood', 'muahaz'], ['internet', 'week', 'longer'], ['kinda', 'like', 'car', 'situations', 'lately', 'prevented', 'participating', 'due', 'carlessness'], ['ahh', 'big', 'scary', 'bug', 'flying', 'around', 'room'], ['120mm', 'films', 'usually', 'handled', 'fuji', 'oh', 'met', 'girl', 'san', 'diego', 'kwento', 'soon', 'miss', 'youuu'], ['allergies', 'sun', 'wearing', 'shorts', 'stuck', 'advisory', 'whole', 'day', 'boring', 'except', 'fun', 'people', 'make', 'fun'], ['put', 'mohawk', 'son', 'headhe', 'killed', 'vibe', 'always'], ['amazing', 'night', 'favorite', 'lady', 'friend'], ['muahahahhahaha', 'well', 'maybe', 'think', 'im', 'crazy', 'something', 'havent', 'scared', 'yet', 'though'], ['tell', 'yo', 'mamma', 'em', 'axe', 'durrin', 'said', 'happy', 'mothers', 'day'], ['sick', 'years', 'omg', 'sucks', 'bad', 'sickness', 'ended', 'including', 'full', 'restroom', 'cleanup'], ['haha', 'good', 'bet'], ['30', 'year', 'old', 'barbie', 'dolls', 'still', 'rock', 'itthat', 'girl', 'hot', 'ken', 'aint', 'bad', 'either', 'memories'], ['oyler', 'poor', 'little', 'woman', 'smushed', 'head'], ['haha', 'well', 'maybe', 'u', 'shouldnt', 'weak', 'hehe', 'jks'], ['oh', 'fun', 'weekend', 'friends', 'gone', 'mother', 'made', 'family', 'weekend'], ['never', 'good', 'stereotypical', 'teen'], ['happy', 'mothers', 'day', 'mom'], ['happy', 'star', 'wars', 'day'], ['bummed', 'outi', 'dont', 'even', 'one', 'testimonial', 'flickr'], ['hve', 'blister', 'pinky', 'nd', 'hurts', 'soooo', 'much'], ['inspired', 'blog', 'something', 'inspirational', 'haha'], ['im', 'hangin', 'cousin', 'holly', 'tlkin', '2', 'grandparents', 'phone', 'went', 'dead'], ['kickboxing', 'classes', 'today', 'pretty', 'bummed', 'still', 'going', 'work', 'hard', 'httpmylocme1zt0'], ['jus', 'got', 'back', 'run', 'sunset', 'blvd', 'cuzin', 'tried', 'kill', 'legs', 'still', 'movin', 'im', 'sittin'], ['banks', 'something', 'must', 'wrong', 'found', '17', 'july', 'harlsil', 'books', 'wanted'], ['im', 'getting', 'ready', 'tonight', 'teachers', 'dinner', 'beach', 'raining', 'hate'], ['brides', 'la', 'mode', 'pow', 'wow', 'first', 'thing', 'morning', 'past', 'weekends', 'lovely', 'wedding', 'fresh', 'mind', 'pics', 'soon'], ['go', 'uga', 'liked', 'better', 'knew', 'ha'], ['httptwitpiccom4wh5x', 'lucky', 'im', 'jealous', 'even', 'though', 'dont', 'like', 'much'], ['realised', 'much', 'love', 'sundays'], ['httptwitpiccom4w75p', 'like'], ['hell', 'yea', 'hot', 'miss', 'cali'], ['thats', 'good', 'know', 'bet', 'looks', 'like'], ['think', 'everyone', 'hates', 'lol'], ['chance', 'blew', 'suffer', 'consequencesgnite', 'tweeps'], ['art', 'would', 'one', 'awesome', 'sauce'], ['tired'], ['got', 'baby', 'g', 'wach', 'zi', '1', 'lady', 'gaga', 'wears', 'eh', 'eh', 'film', 'clip', 'pink', 'love', 'kay', 'thanks', 'heap', 'win', 'olivia'], ['sorry', 'bout', 'cat'], ['know', 'suck', 'data', 'plan', 'weak', 'sauce'], ['dont', '2', 'work', 'saturday', 'suppose', '2', 'hang', 'friend', 'watch', 'still', 'hang', 'jonas'], ['wishes', 'happy', 'mothers', 'day', 'moms'], ['sometime', 'around', 'midnight', 'airborne', 'toxic', 'event', 'literally', 'escape', 'fml'], ['ayy', 'fml', 'nothing', 'perfect'], ['come', 'rochester', 'nikki', 'beer', 'hog', 'roast', 'always', 'helps'], ['glad', 'hear', 'youll', '1st', 'tournament', 'soon', 'ksn', 'says', 'need', 'practice'], ['feel', 'sounds', 'like', 'kiya', 'last', 'night', 'say', 'get', 'comfy', 'couch', 'enjoy', 'cuddles'], ['youre', 'busy', 'bob', 'im', 'jealous', 'im', 'sure', 'even', 'afford', 'go', 'meet', 'john', 'de', 'lancie', 'leonard', 'nimoy'], ['trying', 'get', 'sleep', 'mum', 'blaring', 'les', 'mis', 'really', 'loudly', 'sitting', 'room'], ['oh', 'emm', 'gee', 'quebec', '16', 'days', 'excited'], ['im', 'cool', 'cant', 'wait', 'hear', 'stories', 'xoxo'], ['sore', 'throat', 'good', 'four', 'performances', 'weekend'], ['anyone', 'super', 'nintendo', 'controller', 'want', 'sell', 'mine', 'broke'], ['grinding', 'skyguard', 'rep', 'less', 'awful', 'anticipated', 'yet', 'still', 'awful', 'last', 'tabard', 'need'], ['oh', 'looks', 'boring', 'even', 'boring', 'exam', 'saturday'], ['never', 'want', 'lose', 'fans', 'got', 'us', 'thank', 'saying', 'wish', 'others', 'nice', 'day', 'greets'], ['also', 'certain', 'cd', 'camp', 'certain', 'somebody', 'gave', 'yeah', 'theres', 'guy', 'video', 'thats', 'really', 'frickin', 'hot'], ['httptwitpiccom4u5h8', 'leon', 'looks', 'supa', 'fly', 'mini', 'couch'], ['denomination', 'im', 'library', 'everythings', 'blocked'], ['problems', 'wih', 'pizzaii', 'love', 'muchim', 'addicted', 'pizza', 'dot', 'dot', 'curve'], ['computer', 'geek', 'entertaining', 'think'], ['dying', 'get', 'hands', 'diagnosis', 'murder', 'dvd', 'boxset', 'pesky', 'kids', 'amazon', 'still', 'wont', 'deliver', 'zimbabwe'], ['tweetioi', 'class', 'real', 'problem', 'taylor'], ['yep', 'three', 'things', 'good', 'haircut', 'ability', 'listen', 'value', 'taking', 'seriously'], ['feels', 'sorry', 'every', 'time', 'im', 'printing', 'use', 'like', '200', 'new', 'papers'], ['im', 'really', 'bored', 'brother', 'went', 'get', 'permit', 'stay', 'roads', 'jk', 'lol', 'feels', 'like', 'friends', 'abandoned', 'except', '1'], ['beautiful', 'day', 'got', 'first', 'class'], ['cant', 'wait', 'start', 'weekend', 'im', 'sick', 'working', 'selfmedicate', 'im', 'fresh', 'herb'], ['hey', 'site', 'going', 'listen', 'web', 'stream', 'cant', 'get', 'site'], ['set', 'new', 'computer', '15min', 'love', 'norton', 'ghost'], ['thank', 'new', 'first', 'time', 'japa', 'dog', 'customers', 'twitter', 'spreads', 'word', 'like', 'new', 'customers'], ['every', 'mom', 'mommy', 'mother', 'happy', 'mothers', 'day', 'hope', 'something', 'special', 'fun', 'today'], ['man', 'boring', 'today', 'tweeting', 'guys'], ['definitely', 'feel', 'sorry', 'jamie', 'stewart', 'amsterdam', 'audience', 'really', 'suck', 'wwwxiuxiuorg', 'read', 'post', 'may', '27th'], ['humidity', 'friend', 'ask', 'hair'], ['got', 'call', 'realtor', 'saying', 'another', 'showing', 'sunday', 'offers', 'yet', 'least', 'lot', 'interest'], ['talked', 'kat', 'crappy'], ['josies', 'surgery', 'shes', 'officially', 'unable', 'procreate', 'shes', 'way', 'poor', 'medicated', 'baby'], ['done', 'absolutely', 'nothing', 'day', 'todayhow', 'pitiful', 'thatsmdhguess', 'cant', 'go', '2nite', 'got', 'ta', 'work', 'booo'], ['ds', 'version', 'sucks'], ['big', 'welcome', 'twitterlandz', 'grrl', 'really', 'wish', 'could', 'made', 'bettie', 'show', 'glad', 'hear', 'success'], ['shop', 'smart', 'shop', 'mart'], ['wish', 'could', 'twitter', 'book', 'expo', 'reception', 'javitz', 'horrible'], ['dislocating', 'thumb', 'painful', 'dislocating', 'toe', 'reminded', 'today', 'thankfully', 'toe', 'still', 'feels', 'weird'], ['proper', 'journo', 'would', 'agree', '100'], ['truetrue', 'hes', 'xd'], ['nigerianboi', 'thanks', 'jt', 'also', 'enjoyed', 'r', 'u', 'following', 'ill', 'follow', 'u', 'back'], ['im', 'slowing', 'tweetscuase', 'lost', 'phone'], ['hope', 'ur', 'havin', 'fun', 'da', 'club'], ['babysitting', 'sun', 'heat', 'im', 'getting', 'lots', 'freckles'], ['youre', 'welcome', 'added', 'already'], ['stuck', 'lady'], ['haaawwell', 'get', 'class', '1050i', 'hope', 'make'], ['httptwitpiccom4vtlm', 'awww', 'really', 'cute'], ['know', 'right', 'poorpoor', 'girl', 'shows', 'shouldnt', 'put', 'young', 'people', 'competitions', 'like', 'though'], ['omg', 'sun', 'glimpsing', 'clouds', 'woohoo'], ['im', 'workbored', 'mind'], ['bike', 'put', 'holdshould', 'known', 'argh', 'total', 'bummer'], ['oh', 'say', 'aint'], ['got', 'fight', 'ryan', 'hes', 'like', 'crying', 'im', 'dead', 'inside', 'sigggh'], ['3', 'gon', 'na', 'first', 'twitter', 'cause', 'amazing', 'lol', 'come', 'canada', 'would', 'anything', 'see', 'perform'], ['happy', 'birthday', 'snickers', 'hope', 'best', 'day', 'ever', 'lets', 'go', 'shopping'], ['sad', 'christian', 'lacroix', 'file', 'bankruptcy'], ['much', 'unless', 'one', 'pillows', 'ends', 'suffocating', 'one', 'sleeping', 'next'], ['kill', 'jasmine', 'havent', 'talked', 'ages'], ['tired', 'heck', 'wan', 'na', 'go', 'home', 'sleep', 'cant', 'cause', 'im', 'wash', 'till', 'daddy', 'gets', 'work'], ['im', 'dreading', 'hearing', 'even', 'worse', 'news', 'tonight'], ['bored', 'bored', 'bored', 'wish', 'something', 'tomorrow', 'especially', 'weather', 'fair'], ['ta', 'babe', 'know', 'love', 'curried'], ['hope', 'nice', 'relaxing', 'day', 'hope', 'well', 'wishing', 'best'], ['im', 'sure', 'tweet', 'business', 'simple', 'things', 'difficult'], ['yeahhh', 'uve', 'got', 'plenty', 'great', 'fans', 'spain', 'u', 'come', 'play', 'gig'], ['happy', 'bank', 'holiday', 'monday', 'tweeteramas', 'ill', 'spending', 'day', 'yoga', 'ocd', 'attacks'], ['watched', 'yes', 'man', 'good', 'httptinyurlcomdbrc88'], ['studying', 'econ', 'test'], ['oh', 'fml', 'probs', 'gunna', 'shepards', 'bush', 'hate'], ['haha', 'realised', 'sounded', 'lot', 'like', 'stellllaaa', 'lol', 'anyhoo', 'got', 'ur', 'facebook', 'msg', 'start', 'working', 'soon', 'hopefully'], ['start', 'tomorrow', 'going', 'book', 'sam', 'forgot'], ['lucky', 'thats', 'awesome'], ['cant', 'sleep', 'cant', 'find', 'grandmothers', 'quilt', 'locket', 'im', 'sick', 'cause', 'may', 'lost', 'somehow', 'stolen'], ['gon', 'na', 'try', 'get', 'couple', 'hours', 'sleep', 'love', 'going', 'bed', '9', 'later', 'twitter'], ['thanks', 'timmy', 'turns', 'strep', 'high', 'fever'], ['fear', 'crept', 'already', 'dismissed', 'let', 'thing', 'right', 'coz', 'time', 'feelings', 'different'], ['trying', 'learn', 'tweet', 'good', 'hope'], ['lmao', 'saw', 'sounds', 'hella', 'good', 'hair', 'appt', '7'], ['ahhhhhhhhi', 'cant', 'get', 'miley', 'notice'], ['ugh', 'feet', 'feel', 'like', 'theyre', 'going', 'fall'], ['yay', 'breaking', '200'], ['haha', 'dork', 'sounds', 'yummy', 'share'], ['good', 'know', 'thanks'], ['sad', 'missed', 'going', 'away', 'party', 'due', 'much', 'work', 'really', 'gon', 'na', 'miss', 'kid'], ['nose', 'stud', 'fell', 'cant', 'find', 'looks', 'like', 'ill', 'head', 'amsterdam', 'today', 'get', 'new', 'one'], ['id', 'love', 'see'], ['unfortunately', 'take', 'repair', 'shop', 'replace'], ['r', 'u', 'yvonne', 'havent', 'seen', 'u', 'google', 'groups', 'day', 'miss', 'ya'], ['err', 'think', 'theyre', 'like', '15', 'bucks', 'ticket', 'cause', '3d', 'expensive'], ['alone', 'weekend'], ['hey', 'guys', 'sun', 'make', 'day', 'gloomy'], ['ive', 'spending', 'time', 'wmy', 'momma', 'celebrating', 'mothers', 'day', 'early', 'ive', 'good', 'woodburn'], ['happy', 'starwarsday', 'may', '4th', 'everyone', 'paintball'], ['hmmm', 'wrong', 'link', 'ignore', 'tweet'], ['pleasant', 'sooo', 'rarely', 'time', 'kill'], ['work', 'getting', 'quick', 'bite', 'eat', 'kill', 'wrist', 'self', 'addressing', '500', 'envolopes'], ['happy', 'mothers', 'day'], ['love', 'love', 'love', 'pot', 'psycology', 'friday', 'night', 'treat'], ['folks', 'thought', 'hilarious', 'told', 'story', 'saw', 'shirt', 'wore', 'tonight', 'laughter', 'night'], ['guy', 'neither', 'itã¯â¿â½s', 'getting', 'better'], ['download', 'movie', 'notorious', 'httptinyurlcomd2u4gs', 'cool', 'movie'], ['ugh', 'dont', 'feel', 'well', 'sudden'], ['mobile', 'stopped', 'recieving', 'text', 'messages', 'stoooopid', 'thing'], ['going', 'tmobile', 'need', 'new', 'phone', 'g1', 'working', 'anymore'], ['wow', 'last', 'hour', 'twittering', 'ive', 'yet', 'sent', 'twitter', 'guys', 'bare', 'w'], ['humble', 'best', 'going', 'works', 'paintball', 'day', 'soon', 'fuel', 'strips', 'doubt'], ['tikcets', 'ã¯â¿â½91eachbut', 'want', 'go'], ['sitting', 'shadow', 'tree', 'heart', 'city', 'listening', 'panicwaiting', 'bus', 'thankswindfor', 'pleasant'], ['48', 'laws', 'power', 'robert', 'greene', 'little', 'bit', 'much', 'anyone', 'interested', 'copy', 'dm'], ['love', 'waking', 'thinking', 'weekday', 'realizing', 'weekend'], ['yay', 'thanku', 'hugs'], ['brown', 'thank', 'much', 'natalie', 'hope', 'u', 'well'], ['know', 'deliciousmiss', 'germany', 'like', 'holland', 'well', 'used', 'shoppin', 'weekendslol'], ['nope', 'fifth', 'generation', 'ipod', 'classic', 'likes', 'dumb'], ['hey', 'scared', 'last', 'night', '317', 'several', 'bad', 'nightmares'], ['tired', 'sad'], ['dont', 'wan', 'na', 'im', 'spanish', 'today'], ['midnight', 'icecream', 'weather', 'bored'], ['wondering', 'cld', 'make', 'things', 'worse', 'already', 'answer'], ['cant', 'thank', 'enough', 'nitin'], ['guess', 'get', 'loads', 'emails', 'people', 'asking', 'stuff', 'al', 'time', 'seriously', 'wonder', 'ever', 'read', 'comments', 'x'], ['staying', 'home', 'im', 'badass'], ['nice', 'leave', 'office', 'sun', 'still'], ['getting', 'nails', 'done', 'relaxing', 'benji', '24', 'hours', 'away'], ['wish', 'could', 'go', 'bea', 'weekend'], ['decorated', 'moms', 'room', 'asleep', 'mothers', 'day', 'shell', 'wake', 'banner', 'balloons', 'woo'], ['tix', 'limboas', 'usual', 'upssucks'], ['yes', 'blame'], ['pansy', 'wtf', 'codeh'], ['absurd', 'feel', 'like', 'dipping', 'pool', 'real', 'quick', 'bad', 'dont', 'poool'], ['possa', 'happy', 'happy', 'bday', 'baby', 'girl', 'love', 'ya', 'hope', 'get', 'everything', 'want'], ['heyy', 'sis', '1', 'year', '5', 'months', 'still', 'want', 'walk'], ['snappys', 'delivered', 'tea', 'ice', 'cream', 'love', 'sister'], ['yea', 'headed', 'home', 'change', 'head', 'pelham', 'sad', 'thought', 'suposed', 'heading', 'nkotb', 'concert'], ['wow', 'tomorrow', 'ill', 'never', 'see', 'people', 'kind', 'sad'], ['misses', 'bed', 'sleepy'], ['truly', 'sad', 'cheap', 'little', 'camcorder', 'shot', 'craps'], ['happy', 'vstudio', 'shortcuts', 'backkk'], ['tweeting', 'ally', 'court', 'last', 'time', 'sad', 'sad', 'moment'], ['panchitos', 'burfday', 'party', 'tonight', 'wish', 'kiddo'], ['thingsmummysaid', 'result', 'broken', 'condom'], ['welcome', 'life'], ['meetings', 'overrated'], ['took', 'shirt', 'back', 'covered', 'blisters', 'httpbitlyvuixg'], ['alone', 'old', 'house', 'thanks', 'net', 'keeps', 'alive', 'kicking', 'whoever', 'invented', 'net', 'wan', 'na', 'kiss', 'hair'], ['thats', 'cute', 'picture', 'dont', 'get', 'fat', 'licking', 'bbqs', 'must', 'found', 'chops', 'someone', 'elses'], ['seem', 'nice', 'youre', 'generous', 'know', 'stuff'], ['lol', 'great', 'episode'], ['didnt', 'meet', 'rosie', 'donnell', 'still', 'fun', 'night'], ['oh', 'tweetdeck', 'malfunctioning', 'il', 'web', 'fixd'], ['wish', 'could', 'teach', 'dog', 'play', 'xbox', 'alasno', 'thumbs'], ['hushstop', 'teasing'], ['way', 'homee', 'love', 'long', 'car', 'rides3'], ['shanghai', 'also', 'really', 'exciting', 'precisely', 'skyscrapers', 'galore', 'good', 'tweeps', 'china', 'sh', 'bj'], ['sorry', 'mike', 'assuming', 'music', 'missingi', 'dont', 'know', 'mystery'], ['yummy', 'yumcha', 'mothers', 'day', 'mum', 'dad', 'arcel', 'eggpants', 'yuuuuuum', 'httptwitpiccom4w65x'], ['ha', 'ha', 'thankful', 'dragging', 'mountain', 'today'], ['cant', 'believe', 'already', 'friday', 'omg', 'done'], ['gon', 'na', 'hot', 'today', 'today', 'ryans', 'last', 'day', 'prek', 'cant', 'believe', 'ive', 'sahm', 'since'], ['amazing', 'dvds', 'ill', 'put', 'netflix', 'list', 'based', 'trash', 'potential', 'inherent', 'titles'], ['youuuure', 'aaass', 'aaass', 'loooool'], ['graham', 'yerrrr', 'sameee', 'haha', 'way', 'plays', 'edward', 'thinkk', 'mmmm'], ['omgoodness', 'finally', 'back', 'dinner', 'fam', 'bam'], ['wish', 'could', 'time', 'xbox', 'project', 'tied'], ['free', 'good', 'nite', 'mean', 'good', 'nite', 'wateva'], ['failed', 'assassination', 'attempt', 'louis', 'httpffim3mrim'], ['thanks', 'follow'], ['love', 'wish', 'half', 'could', 'even', 'name', 'web', 'design', 'ladies'], ['good', 'morning', 'everyone'], ['ha', 'think', 'really', 'lost', 'time', 'get', 'ready', 'work'], ['geez', 'im', 'hating', 'bein', 'work', 'till', '10', 'day', 'like', 'feel', 'like', 'wasted', 'lovley', 'day'], ['hooray'], ['watched', 'yes', 'man', 'bahaha', 'movie', 'messed'], ['cheese', 'onion', 'vinegar', 'taste', 'weird', 'crisps', 'englands', 'got', 'loads', 'weird', 'crisps', 'flavorus', 'lol', 'like', 'x'], ['hell', 'yes', 'im', 'late'], ['fuze', 'giving', 'away', 'capes', 'komens', 'race', 'cure', 'today', 'id', 'always', 'love', 'hug', 'hun'], ['momma', 'martini', 'went', 'food', 'shopping', 'without'], ['always', 'champions', 'league', 'parties', 'tis', 'awesome'], ['wish', 'laptop', 'charger', 'could', 'tweet', 'faster'], ['know', 'ashamed', 'watch', 'single', 'episode', 'new', 'gh', 'season', 'kept', 'falling', 'asleep', 'gave'], ['school', 'going', 'absolutely', 'horrible', 'today', 'peace', '09'], ['u', 'welcome', 'babe', 'kill', 'show', 'yuuupp'], ['goodnight'], ['sooo', 'hot', '2day', 'put', 'ton', 'sunblock', 'jogging', 'still', 'think', 'face', 'burnt', 'though'], ['youre', 'diabetic', 'dad', 'might', 'sure', 'still', 'allowed', 'eat', 'sugar', 'throughout', 'day'], ['haha', 'scared'], ['good', 'episode', 'top', 'gear', 'tonight'], ['like', 'binary', 'code', 'name', 'says', 'zirconcode', 'well', 'xd', 'looking', 'nice', 'better'], ['happy', 'belated', 'birthday', 'hun', 'net', 'broke', 'first', 'chance', 'ive', 'get', 'online', 'luff', 'yooooooo', 'xxxxxxxx'], ['im', 'feel', 'deflated', 'ugh', 'dog'], ['hand', 'oops', 'completely', 'forgot'], ['attempting', 'sleep', 'puppy', 'sick', 'already'], ['new', 'van', 'nice', 'one'], ['coming', 'socket', 'feel', 'like', 'phones', 'hole', 'virgin', 'thats', 'loose'], ['yeah', 'freakin', 'sucks'], ['tired', 'turning', 'internet', 'play', 'morning'], ['lol', 'totally', 'made', 'laugh', 'made', 'day'], ['dont', 'believe', 'would', 'believe', 'bring', 'horizon', 'chill', 'goes', 'spine', 'whenever', 'hear', 'line'], ['ncaa', 'baseball', 'road', '2', 'omaha', 'south', 'carolina', 'hit', '3run', 'homerun', 'dagger', '2', 'heart', 'mason', '1', 'south', 'carolina', '3'], ['printchick', 'thx', 'sharen', 'luv'], ['bouvierbday', 'trending', 'topics', 'ahh', 'happy', 'birthday', 'pierre', 'bouvier'], ['appears', 'im', 'going', 'home', 'tomorrowand', 'good', 'thing'], ['love', 'mom', 'tooo'], ['lucky', 'e', 'went', 'jealous'], ['movie', 'sleep', 'today', 'good', 'day', 'hd3ff'], ['ipod', 'died', 'today'], ['nice', 'day', 'looks', 'like', 'going', 'rainjust', 'getting', 'excited', 'taking', 'photos', 'get', 'home'], ['sbarro', 'dinner', 'krispy', 'kreme', 'dessert', 'mmmmm', 'healthy'], ['yes', 'right', 'church'], ['hey', 'mitchel', 'live', 'didnt', 'get', 'chance', 'call'], ['people', 'peoplenooooo', 'id', 'never', 'guessed', 'thtidiotim', 'grouchy'], ['wedding', 'reception', 'fun', 'thought'], ['yes', 'yes', 'yes', 'lotsa', 'fun', 'cant', 'wait', 'dont', 'like', 'make', 'shaun', 'much', 'front', 'tho', 'cos', 'ill', 'get', 'awkard', 'haha'], ['says', 'happy', 'mothers', 'day', 'moms', 'httpplurkcompstezd'], ['yes'], ['justin', 'timberlake', 'andy', 'samberg', 'mother', 'lover', 'skit', 'snl', 'great'], ['omg', 'much', 'fun', 'watcing', 'house', 'bunny', 'courto', 'isa', 'ledge', 'sending', 'link', '3'], ['anyone', 'ever', 'heavy', 'feeling', 'sadness', 'hearts', 'thats', 'case', 'rite'], ['nothing', 'could', 'get', 'worse', 'could', 'think', 'id', 'verge', 'killing', 'someone', 'else', 'things', 'good', 'anymore'], ['feel', 'like', 'im', 'alott', 'drugs'], ['sad', 'pay', '60'], ['incredibly', 'sweet', 'good', 'hubby'], ['love', 'much', 'got', 'hiding', 'spot', 'gon', 'na', 'go', 'check', 'datalounge'], ['one', 'random', 'phone', 'calls', 'ever', 'god', 'kill'], ['got', 'see', '2', 'favorite', 'guys', 'back', 'long', 'island', 'heading', 'back', 'city', 'tomorrow', 'monday', 'boyfriend', '3'], ['aw', 'stinks', 'im', 'sorry'], ['star', 'trek', 'imax', 'wasnt', '3d', 'huge', 'screen', 'still', 'worth', 'watching'], ['good', 'luck', 'pressure', 'test', 'dont', 'worry', 'everything', 'great'], ['best', 'friend', 'leaving', 'go', 'back', 'school', 'todayi', 'sad'], ['hope'], ['lawrence', 'head', 'feels', 'like', 'surface', 'sun', 'underneath', 'beaver', 'pelt'], ['snl', 'tonight', 'going', 'hilarious'], ['yeah', 'yesterday', 'turned', '16', 'parents', 'rented', 'hummer', 'limo', 'pretty', 'cool'], ['httptwitpiccom4wgoq', 'beach', 'phenomenal', '2day'], ['graverobber', 'graverobber', 'sometimes', 'wonder', 'even', 'bother', 'fun', 'tonight'], ['love', 'much', 'tay', 'youre', 'amazing', '3', 'come', 'denmark', 'love'], ['theres', 'something', 'area', 'makes', 'tonsils', 'swell', 'everyday', 'dont', 'get', 'feel', 'slightly', 'miserable', 'ff', 'done', '4'], ['great', 'weekend', 'ate', 'much', 'think', 'looking', 'forward', 'trip', 'hobart', 'friday', '15th'], ['ohhh', 'really', 'want', 'see', 'coraline', 'seems', 'really', 'good'], ['diamond', 'compã¯â¿â½tition', 'yaayy', 'tomorow', 'diamond', 'dance', 'best', 'still', 'montrã¯â¿â½al'], ['wonders', 'anyone', 'would', 'care', 'died', 'tomorrow'], ['bus', 'stop', 'theres', 'always', 'big', 'pile', 'loogies', 'gross'], ['try', 'fireflight', 'first', 'female', 'fronted', 'metal', 'awesome', 'unbreakable', 'album', 'would', 'good', 'start'], ['theres', 'much', 'light', 'pollution', 'see', 'stars'], ['would', 'take', 'photo', 'stuffed', 'animals', 'thats', 'pretty', 'funny'], ['start', 'diet', 'today', 'think', 'face', 'never', 'get', 'back', '77kilos', 'unless', 'cut', 'leg', 'offã¯â¿â½'], ['cookies', 'good'], ['love', 'dreambears', 'want', 'best', 'friend'], ['makes', 'sad', 'people', 'phones', 'sick'], ['httptwitpiccom67ofz', 'ugh', 'grosss'], ['fml', 'car', 'prohibiting', 'finding', 'job'], ['going', 'bed', 'cant', 'take', 'thiss', 'longeerr', 'maan', 'u'], ['yo', 'thomas', 'thanks', 'follow', 'social', 'media', 'director', 'disney', 'thats', 'awesome', 'id', 'like', 'learn', 'lets', 'lunch'], ['would', 'applaud', 'selfvalidation', 'sorts', 'good', 'theological', 'psychological', 'sociological', 'reasons', 'agree', 'lighten'], ['watching', 'favorite', 'tv', 'shows', 'hulucom', 'free'], ['alfradique', 'fun', 'well', 'hopefully', 'dont', 'much', 'go'], ['anyone', 'tickets', 'mtv', 'movie', 'awards', 'guy', 'scammed'], ['beautiful', 'weather', 'u', 'sick', 'baby', 'tanapolis'], ['got', 'ya', 'wouldnt', 'bad', 'tho', 'right'], ['morning', 'everyone', 'sorry', 'going', 'early', 'last', 'night', 'bad', 'news', 'felt', 'totally', 'today', 'new', 'day'], ['ummmlast', 'night', 'dmd', 'said', 'good', 'question'], ['mad', 'hell', 'someone', 'stole', 'pink', 'black', 'leapord', 'print', 'pumps', 'wanted', 'wear', 'today', 'god', 'glory', 'hell', 'bless', 'abundantly'], ['u', 'go', 'lmk', 'lets', 'go', 'together'], ['awww', 'wasnt', 'nice'], ['hit', '10000', 'views', 'myspace', 'thanks', 'everyone'], ['helloaint', 'tweetin', 'day', 'cuz', '2', 'switch', 'things', '2', 'da', 'new', 'place', 'exhausted', 'sick'], ['going', 'al', 'need', 'check', 'one', 'store', 'hope', 'find', 'things', 'im', 'looking'], ['guy', 'called', 'adhd', 'kid', 'earlier', 'today', 'hurts'], ['yes', 'yes', 'especially', 'wine', 'mushrooms', 'ummm', 'love', 'mushies'], ['kinda', 'nothing', 'life', 'boring', 'feel', 'like', 'changing', 'look', 'lets', 'go', 'shopping', 'tomorrow'], ['gosh', 'im', 'bored', 'earlyn', 'wan', 'na', 'goto', 'sleeeepp', 'work', 'kay3'], ['congrats', 'photo', 'dre'], ['monday', 'morning', 'bathing', 'soooo', 'relaxing', 'lady', 'luxury', 'would', 'start', 'every', 'day', 'like'], ['fortheloss', 'dumbface', 'u', 'u', 'wknd', 'wan', 'na', 'seeeeeee', 'ya'], ['ive', 'given', 'pizza', 'kids', 'would', 'never', 'let', 'fav', 'hot', 'ones'], ['hahaha', 'alright'], ['lol', 'true', 'maybe', 'next', 'year', 'loooved', 'siggy', 'dont', 'remember', 'password', 'mod', 'thing', 'cake'], ['broken', 'cant', 'c'], ['good', 'morning', 'return', 'willen', 'island', 'spring', 'definitely', 'sprung', 'httpbitlyeyrtt', 'enjoy'], ['watched', 'hella', 'home', 'movies', 'aunt', 'uncle', 'miss', 'days', 'whole', 'family', 'got', 'along'], ['omg', 'anyone', 'see', 'wee', 'girl', 'bgt', 'sucha', 'shame'], ['well', 'nothing', 'flash', 'different', 'chocolate', '4', 'change', 'good', '2', 'meet', 'u', 'yesterday', 'gr8', 'atmosphere', 'discussion'], ['cant', 'sleep', 'darn', 'frustrating'], ['thats', 'odd', 'lap', 'maybe', 'thats', 'cat'], ['hes', 'adorable'], ['radio', 'royals', 'transmitter', 'packed', 'today', 'good', 'anyone', 'got', 'spare', 'shed', 'lol'], ['breez', 'yer', 'please', 'good', 'day'], ['recent', 'experience', 'anything', 'go', 'fear', 'might', 'going', 'indian', 'food', 'good', 'people', 'good'], ['catt', 'totally', 'love', 'default', 'picture', 'seem', 'like', 'fun', 'mom'], ['yeah', 'things', 'arent', 'going', 'well', 'im', 'getting', 'feel', 'like', 'havent', 'felt', 'long', 'long', 'time'], ['dont', 'worry', 'bizarre', 'find'], ['yes', 'think', 'unless', 'changed', 'sent', 'u', 'happy', 'mothers', 'day', 'text', 'u', 'never', 'responded', 'back'], ['thinks', 'sg', 'wonderful'], ['miss'], ['bebop', 'thats', 'lame', 'sorry'], ['home', 'dont', 'feel', 'like', 'going', 'work', 'tomorrow'], ['omggg', 'heard', 'someone', 'gon', 'na', 'die', 'new', 'season', 'secret', 'life', 'american', 'teenager', 'noooo'], ['ahhhh', 'sad'], ['need', 'botox', 'work', 'lips', 'im', 'going', 'change', 'name', 'angelina', 'jolie', 'thought', 'sad', 'though', 'racism'], ['finally', 'learned', 'think', 'speaks', 'works', 'wonders'], ['wellington', 'monet', 'exhibition', 'casually', 'bumped', 'wayne', 'brady', 'hotel', 'lobby', 'mega', 'exciting'], ['fighter', 'christina', 'aguilera', 'love', 'song'], ['found', 'theres', 'sushi', 'fake', 'crab', 'meat', 'good'], ['hate', 'stupid', 'boys', 'arrgh'], ['feel', 'deflated', 'doggy'], ['misses', 'nanny'], ['lauras', 'gone', 'weekend', 'miss', 'already'], ['caught', 'tweets', 'got', 'home', 'time', 'last', '5', 'mins', 'itv2', 'show', 'bgt', 'tonight', 'miss'], ['glad', 'see', 'typical', 'bank', 'holiday', 'weather', 'wise', 'going', 'much', 'today', 'yeah', 'right'], ['tbh', 'credit', 'phone', 'sux', 'cant', 'even', 'text', 'people', 'see', 'whats', 'happening', 'like', 'totally', 'grrrsville'], ['httptwitpiccom67i90', 'plans', 'ruined'], ['love', 'much', 'called', 'talking', 'fans', 'love', 'lot', 'mitchel', 'ill', 'see', 'u', 'el', 'cajon', 'june', '7'], ['sorry', 'hear', 'news'], ['best', 'thing', 'ever', 'done', 'carry', 'birth', 'child'], ['sad', 'casue', 'everyone', 'going', 'seperate', 'ways', 'never', 'going', 'see', 'friends'], ['dont', 'want', 'complete', 'hypocrite', 'attended', 'rrated', 'event', 'timing', 'ironic'], ['beag', 'hate', 'cat', 'pee'], ['alo', 'sad', 'quiet', 'empty', 'tonight'], ['yes', 'done', 'last', 'homework', 'ready', 'dx', 'go', 'waaalkiiing', 'sun', 'shining', 'oh', 'yeah'], ['im', 'sorry'], ['rearry', 'rip', 'youd', 'never', 'guess', 'ate'], ['loving', 'shoes', 'perez', 'looking', 'fine', 'always', 'ohand', 'lady', 'gaga', 'say', 'outstanding'], ['glad', 'know', 'ad', 'display', 'problem', 'due', 'firewall', 'config', 'yr', 'office', 'phew'], ['ive', 'run', 'earl', 'grey', 'lemon', 'tea', 'instead', 'whb'], ['could', 'empire', 'dirt', 'im', 'ae', 'dad', 'im', 'freezing', 'fully', 'shivering', 'every1', 'else', 'warm', 'fones', 'allowed', 'ffs'], ['loving', 'mortal', 'combat', 'right'], ['screw', 'fact', 'cant', 'post', 'long', 'updates', 'twitter'], ['supernatural', 'httptwitpiccom66l83', 'really', 'miss'], ['happy'], ['sickkk', 'two', 'days', 'since', 'summer', 'started', 'suck', 'already'], ['id', 'soo', 'honoured', 'u', 'cld', 'chk', 'beats', 'perhaps', 'sm', 'advice', 'wat', 'nd', '2', 'improve', 'da', 'overall', 'sound', 'music'], ['sweet', 'swiss', 'toblerone', 'best', 'come', 'soon', 'meet', 'fabulous', 'rita', 'chichester'], ['lol', 'like', 'challenges', 'impossible', 'want', 'try'], ['u', 'never', 'sent', 'carrie', 'ur', 'miss'], ['sounds', 'like', 'jeff', 'best', 'job', 'world'], ['guinea', 'pig', 'died', 'today'], ['much', 'hair', 'falls', 'everytime', 'shower', 'sad', 'disgusting', 'httpyfrogcom6p190aj'], ['car', 'alarm', 'immobiliser', 'makes', 'incredibly', 'complicated', 'costly', 'key', 'code', 'neither', 'immobiliser'], ['mothers', 'dayi', 'already', 'bought', 'gave', 'mothers', 'day', 'present', 'mother'], ['thanks', 'im', 'totally', 'bushed', 'today', 'though', 'time', 'coding'], ['long', 'since', 'talked', 'let', 'alone', 'seen', 'makes', 'sad'], ['evryone', 'come', 'httpwwwblogtvcompeopleginanicole2', 'spamming', 'much', 'blogtv', 'glitching', 'might', 'work'], ['love', 'books'], ['coworkerfriend', 'told', 'manager', 'sent', 'home', 'afraid', 'shes', 'trouble', 'sending', 'home', 'haha', 'dumb'], ['kittens', 'cute', 'grow', 'n', 'become', 'cats'], ['oh', 'yes', 'level', '40'], ['mileycyrus', 'wont', 'let', 'twitter', 'keeps', 'saying', 'twitter', 'capacity', 'something', 'bird', 'keeps', 'coming'], ['sad', 'im', 'going', 'miss', 'seeing', 'pennywise', 'year'], ['car', 'shopping', 'kacy', 'yay'], ['lucky', 'lucky', 'friend', 'nickleback', 'concert', 'atm', 'wish'], ['bored', 'really', 'dont', 'know'], ['im', 'real', 'boy', 'goddamit', 'guh', 'apostro', 'feel', 'sad', 'library', 'lady', 'thinks', 'im', 'stupid', 'shes', 'stupid', 'j'], ['thanks', 'though', 'trying', 'positive', 'wine', 'may', 'helping', 'lol', 'wish', 'could', 'make', 'gigs'], ['bahah', 'sadly'], ['happy', 'mothers', 'day', 'valk'], ['happy', 'mothers', 'day', '2'], ['still', 'recall', 'helpful', 'way', 'back', 'struggled', 'ar', 'contest', 'question'], ['come', 'hard', 'find', 'guy', 'passion', 'love', 'woman', 'ever', 'going', 'see', 'day', 'im', 'lonely', 'yall'], ['yep', 'im', 'going', 'better'], ['want', 'say', 'youtaylor', 'swift', 'hayley', 'williams', 'great', 'lovely', 'voice'], ['cried', 'whilst', 'watching', 'hollyoaks', 'need', 'life', 'lol'], ['completely', 'excellent', 'dave', 'matthews', 'concert', 'jason', 'mraz', 'opened', 'heard', 'stay', 'leave', 'crush', 'first', 'time', 'live'], ['dont', 'think', 'im', 'gon', 'na', 'able', 'go', 'see', 'jb', '3d', 'concertwrong', 'time', 'close'], ['heres', 'healingsleep', 'energy', 'sweetie'], ['wish', 'weather', 'would', 'slightly', 'less', 'rainy', 'could', 'use', 'hot', 'tub'], ['hey', 'buck', 'love', 'u', 'loads', 'love', 'buck'], ['excitement', '8', 'new', 'followers', 'overnight', 'sadness', '6', 'ad', 'bots'], ['ahh', 'love', 'chinese', 'music', 'haha', 'gon', 'na', 'see', 'luff', 'til', 'thursday'], ['unfair', 'wan', 'na', 'go'], ['know', 'extra', 'hand', 'comment', 'would', 'cause', 'trouble', 'upload', 'house', 'music', 'beyond', 'vol', '3'], ['want', 'cookies', 'breakfast', 'luckily', 'im', 'adult'], ['oh', 'mann', 'likey', 'sadly', 'im', 'bein', 'auctioned', 'twpp', 'tonight'], ['oh', 'sweet', 'ill', 'definitely', 'check', 'get', 'chance'], ['ooh', 'work', 'im', 'afarid', 'looking', 'forward', 'sunny', 'weekeknd', 'tho'], ['thats', 'alright', 'add', 'egg', 'maybe', 'sort', 'leftover', 'meat', 'bad', '3'], ['wish', 'could', 'go', 'got', 'ta', 'work'], ['probably', 'weather'], ['well', 'looks', 'like', 'going', 'another', 'night', 'without', 'snuggle', 'bug', 'missing', 'big', 'girl'], ['subway', 'im', 'going', 'get', 'subway', 'love', 'ate', 'often', 'new', 'zealand'], ['broken', 'mondaydoes', 'mean', 'monday', 'fixd', 'httpblipfm5jgio'], ['nutella', 'croissantmangomeloncoffee', 'lovely', 'stalk', 'iris', 'breakfast', 'bed', 'courtesy', 'n', 'house', 'til', 'noon'], ['conference', 'call', 'hp', 'gave', 'invalid', 'pass', 'code', 'cant', 'attend'], ['get', 'yer', 'freak', 'onits', 'monday', 'great', 'one', 'possible', 'great', 'monday'], ['burning', 'cds', 'outa', 'blank', 'discs'], ['natalya', 'got', 'ta', 'tell', 'whats', 'going', 'id', 'call', 'lost', 'phone', 'numbers', 'broke', 'blackberry'], ['sos', 'smell', 'cigarettes', 'alcohol', 'least', 'like'], ['itssarah', 'congrats', 'sarah', 'thats', 'awsum'], ['shouldnt', 'left'], ['bleargh', 'never', 'clean', 'much', 'house', 'want', 'work', 'matter', 'early', 'wake', 'today', 'sink', 'laundry'], ['thats', 'one', 'wish', 'video', 'compilation', 'thrusting'], ['happy', 'muthaths', 'day', 'moms', 'salute'], ['poor', 'dead', 'josh', 'httpbitlyjkphn', 'please', 'leave', 'messages', 'condolences', 'boy', 'rip'], ['good', 'one'], ['cool', 'httpwwwinbflatnet', 'details', 'made', 'please', 'tell'], ['idk', 'cant'], ['im', 'best', 'financial', 'situation', 'moment', 'im', 'beyond', 'broke', 'money', 'spend', 'soon', 'earn', 'atm'], ['read', 'something', 'happy'], ['leaving', 'work', 'going', 'crystal', 'search', 'license', 'picking', 'bia', 'heading', 'vegas', 'ugh', 'im', 'tired', 'already'], ['miss'], ['babys', 'adventure', '145', 'hours', 'car', 'lake', 'ann', 'mi', 'admit', 'cried', 'little', 'truck', 'pulled'], ['got', 'rad', 'new', 'tshirt', 'aunt', 'made', 'cool', 'shiny', 'shiny', 'pink', 'material'], ['awww', 'sweetie', 'hope', 'mom', 'wonderful', 'mothers', 'day'], ['knackered', 'awake', 'since', '5', 'couldnt', 'sleep', 'started', 'work', 'coffee', 'toast', 'sounds', 'awesome', 'chris', 'busy'], ['awake', 'still', 'feeling', 'sick', 'got', 'blog', 'done', 'least', 'httpplurkcompx17t9'], ['happy', 'anoop', 'day', 'monica'], ['finished', 'watching', 'star', 'trek', 'imax', 'couldve', 'watched', 'night', 'live', 'long', 'prosper'], ['ohh', 'grandpas', 'stable', 'wont', 'kno', 'details', 'til', 'tomorrow', 'visit', 'keep', 'fam', 'ur', 'prayersthank', 'goodnite'], ['59', 'may', 'new', 'fav', 'number'], ['biggest', 'headache', 'ever', 'photosensitivity', 'getting', 'control', 'help'], ['thank', 'yooou', 'might', 'get', 'seen', 'hm'], ['pff', 'life', 'sucks', 'sometimes'], ['god', 'cant', 'even', 'catch', 'public', 'transport', 'swine', 'flu', 'house'], ['0909', 'full', 'moon', 'lovely', 'friends', 'family', 'bday', 'wish', 'came', 'true3', 'additiongray', 'matters', 'one', 'cutest', 'movies', 'ever'], ['slaving', 'away', 'work'], ['bye', 'la', 'already', 'miss'], ['good', 'morning', 'took', 'longest', 'shower', 'ive', 'ever', 'taken', 'life', 'like', '45', '50', 'min', 'shower', 'woah', 'lol'], ['ummmm', 'comment', 'lol', 'actually', 'watched', 'gh', 'week'], ['mariemy', 'heart', 'goes'], ['ok', 'break', 'back', 'books', 'fun', 'lovelies', 'httpblipfm5z8da'], ['got', 'ta', 'love', 'summer'], ['cup', 'tea', 'cold', 'tasting', 'really', 'good'], ['yayayyayayay', 'toy', 'story', '3', 'coming', 'june', '18', '2010', 'though'], ['way', 'nottingham', 'icof', 'tonight', 'gigs', 'umtil', 'download', 'fail'], ['happy', 'mothers', 'may', 'mak', 'love', 'always', 'xoxo'], ['putting', '3', 'new', 'consultants', 'work', 'week', 'good', 'feeling', 'congrats', 'offers'], ['good', 'morning', 'dan', 'bday', 'plan', 'getting', 'exercise', 'today', 'love', 'ya', 'see', 'nyc'], ['work', 'disneynot', 'cracked', 'ta'], ['true', 'love', 'brazil', 'australia', 'nitey'], ['amazing', 'due', 'time', 'constraints', 'could', 'visit', 'meadows', 'pine', 'forest', 'shall', 'post', 'images', 'later'], ['might', 'enough', 'money', 'college'], ['happy', 'mothers', 'day', 'mumm', 'xoxo'], ['hiya', 'looking', 'you1'], ['well', 'nice', 'loving', 'new', 'friends', 'organiser'], ['good', 'morning', 'since', '4am', 'quiet'], ['wasting', 'may', 'bank', 'holiday', 'crappy', 'north', 'south', 'brighton', 'partys'], ['extremely', 'happy', 'see', 'new', 'track', 'awakening', 'featured', 'indivibe', 'httpwwwindivibecomvibephpcity1'], ['hello', 'taylor', 'miss', '2', 'months', '3'], ['thx', 'robban', 'httpwwwskgamingcommatch17905'], ['aly', 'aj', 'new', 'album', 'summer', 'yay'], ['heaos', 'keen', 'next', 'weekend', 'mummy', '3'], ['wear', 'glasses', 'today', 'cos', 'right', 'eye', 'swollen', 'dont', 'know'], ['surprised', 'havent', 'fired', 'announcing', 'whole', 'world', 'body', 'theyd', 'found', 'selfish'], ['welcome', 'twitter', 'friend'], ['poor', 'kella', 'meds', 'ear', 'infection', 'lost', 'food', 'twice', 'docs'], ['elo', 'wow', 'brings', 'back', 'many', 'happy', 'memories', 'love', 'bandand', 'yes', 'know', 'im', 'showing', 'age', 'dont', 'care'], ['moms', 'world', 'congratulations'], ['bring', 'hk', 'lounge', 'tomorrow', '12', 'drink', 'till', '5pm', 'kareoke', 'think', 'nice', 'sunday'], ['omg', 'meant', '3', 'youre', 'perfect', 'wolverinesir', 'hehe'], ['sooooo', 'much', 'stress', 'lately'], ['hello', 'everyone', 'im', 'sitting', 'rocking', '9412', 'sam', 'air', 'best', 'classic', 'rock', 'station', 'twitter'], ['freezing', 'cold', 'cant', 'function', 'right', 'type', 'weather', 'starving', 'max'], ['hk', 'funny'], ['sick', 'sick', 'sick', 'sucks', 'cant', 'even', 'breathe', 'properly'], ['ano', 'pa', 'bang', 'aasahan', 'ko', 'sa', 'iyo', 'never', 'fail', 'fail'], ['filming', 'carnival', 'music', 'video', 'reminds', 'cherry', 'festival', 'used', 'go', 'back', 'home', 'ahhh', 'memories'], ['whuuurrrrr', 'glands', 'really', 'swollen', 'guess', 'weekends', 'blow'], ['thanks', 'coming', 'tonight', 'hope', 'ya', 'fun'], ['httptwitpiccom4woj2', 'omgssh', 'ang', 'cute', 'ng', 'bby'], ['little', 'beetle', 'feeling', 'love', 'searches', 'bring', 'zilch', 'bar', '2', 'peeps', 'appear', 'funny'], ['looks', 'like', 'rained', 'weekend', 'climbing'], ['ohh', 'forgot', 'tell', 'last', 'night', 'alton', 'towers', 'touched', 'shark', 'amazing', 'nt', 'massive', 'one', 'tho'], ['well', 'done', 'happy', 'ya'], ['andersen', 'thank', 'eric', 'glad', 'u', 'appreciate'], ['im', 'sure', 'would', 'make', 'mr', 'koons', 'happy'], ['sucks'], ['day', 'computer', 'end', 'dang', 'hate', 'allowed', 'computer'], ['commish', 'days', 'atl', 'fam', 'saw', 'updates', 'net', 'website', 'looks', 'awesome'], ['weather', 'makes', 'fingers', 'numb', 'still', 'waiting'], ['gosh', 'miss', 'singers', 'theater', 'miss', 'learning', 'music', 'acting', 'exercises', 'n', 'especially', 'miss', 'onstage'], ['eating', 'roommates', 'cereal', 'sorry', 'bro'], ['feeling', 'tierd', 'much', 'college', 'work'], ['right', 'im', 'peeps', 'hope', 'fixes', 'twitter', 'mobile', 'tweet', 'race', 'mtwitter', '4', 'days', 'fail'], ['miss', 'soulja', 'boy', 'dance'], ['nice', 'night', 'golfing'], ['ahhh', 'ok', 'remember', 'film', 'never', 'saw', 'though', 'check', 'thanks'], ['one', 'watch', 'peeps', 'actually', 'focused', 'finals', 'already'], ['msn', 'crashes', 'way', 'much', 'hmph'], ['thank', 'ye', 'vaneta', 'much', 'appreciated'], ['crying', 'real', 'tears'], ['hehe', 'wondered', 'wtf', 'star', 'wars', 'day', 'top', 'trending', 'topic', 'get', 'may', 'fourth', 'also'], ['see', 'hannah', 'klein', 'lookin', 'good', 'today'], ['thanks', 'appreciate'], ['good', 'morning', 'however', 'night', 'time', 'bed', 'hugs', 'great', 'day'], ['lao', 'mein', 'spanikopita', 'haha', 'would', 'know'], ['misses', 'mom', 'today', 'best', 'friend', 'even', 'though', 'gone', 'several', 'yrs', 'still', 'miss', 'dearly', 'happy', 'mothers', 'day'], ['got', 'laid', 'stupid', 'economy'], ['maybe', 'going', 'see', 'hannah', 'montana', 'movie', 'todaaaay', 'ive', 'seen', 'one', 'time', 'cant', 'wait', 'see'], ['11', 'days', 'left', 'freedom', 'really', 'want', 'get', 'weekend', 'hate', 'essays'], ['need', 'present', 'mom', 'could', 'anybody', 'help'], ['cant', 'wait', 'hear', 'evp', 'cuuuute', 'picture'], ['jonas101', 'wow', 'theyre', 'totally', 'amazing', 'theyre', 'awesome'], ['lol', 'exams', 'didnt', 'go', 'mcast', 'school', 'finished', 'form', '5', 'thats', 'soo', 'disappointed'], ['hey', 'hey', 'happy', 'mothers', 'day', 'httpplurkcompsvwii'], ['sent', 'home', 'yest', 'work', 'today', 'feel', 'like', 'hell', 'burning', 'high', 'temp', 'got', 'hubby'], ['yay', 'block', 'party', 'youre', 'bomb', 'blockheads', '3', 'dave', 'thanks', 'supporting', 'nkotb'], ['thanks', 'im', 'twitter'], ['thanks', 'gon', 'na', 'next', 'tweetyou', 'man', 'figuratively', 'speaking'], ['today', 'didt', 'lunch', 'cuz', 'wel', 'embarrass', 'self', 'school', 'ok', 'final', 'tests', 'final', 'year', 'aaaaa', 'thanx', 'god', '4', 'friends'], ['watching', 'one', 'fine', 'day', 'eating', 'cereal', 'start', 'good', 'sunday', 'good', 'movie'], ['jtv', 'gone', '30', 'minutes', 'youre', 'already', 'showing', 'boobage', 'without'], ['making', 'people', 'unhappy', 'dun', 'like', 'unhappiness'], ['happy', 'mothers', 'day', 'everyone'], ['thats', 'great', 'weee', 'visitors'], ['friend', 'cancelled', 'tomorrow', 'nothing', 'dothis', 'makes', 'sad', 'xxxxxx'], ['nooooooooou', 'never', 'call', 'anymore', 'lolbut', 'ive', 'good', 'toorick', 'ross', 'town', 'might', 'go', '2', 'show', '2nite'], ['im', 'bird', 'broken', 'wings', 'shes', 'song', 'love', 'sing', 'know'], ['want', 'gooo'], ['hour', 'fifteen', 'drive', 'left', 'bored', 'ate', 'half', 'food', 'already'], ['great', 'im', 'glad', 'enjoy', 'hope', 'great', 'day'], ['cant', 'bothered', 'working', 'tomorrow'], ['kind', 'excited', 'go', 'school', 'today', 'dont', 'know', 'hopefully', 'good', 'day'], ['finished', 'yet', 'another', 'amazing', 'book', 'susan', 'elizabeth', 'philips', 'god', 'love', 'books', 'much', 'one', 'read', 'next', 'hmmm'], ['want', 'invite', 'sick', 'seeing', 'links', 'people', 'playing', 'left'], ['happy', 'mothers', 'day', 'mamma'], ['today', 'another', 'good', 'day', 'less', 'extreme', 'experiences', 'anyone', 'fan', '24', 'im', 'watching', 'season', '4'], ['want', 'summer', 'sprinkling', 'still'], ['packing', 'gym', 'bag', 'gym', 'bit', 'squee', 'im', 'happiest', 'whem', 'im', 'go'], ['gawww', 'facebook', 'slow'], ['think', 'food', 'ate', 'made', 'sick', 'feel', 'good'], ['doneeee', 'wheeee', 'hahaaaaaaaa', 'tired', 'sleepy', 'peter', 'u', 'suck', 'coming', 'bday'], ['18', 'hours', 'workcry', 'cant', 'survive', 'weeelcome', 'wonderland', 'sing', 'along'], ['haha', 'state', 'pride', 'important'], ['httptwitpiccom4wp8s', 'ear', 'hurts', 'medicine', 'gum'], ['u', 'great', 'always', 'cant', 'east', 'germany', 'noko', 'least', 'provoke', 'go', '4', 'kill'], ['watching', 'dor', 'utv', 'movies', 'great', 'performance'], ['goodmorning', 'everyone'], ['cant', 'help', 'feel', 'today', 'massive', 'michael', 'jackson', 'rumour', 'day', 'cue', 'mj', 'haters'], ['httptwitpiccom66ymw', 'im', 'gon', 'na', 'miss', 'guys', 'much', 'thanks', 'making', '5', 'years', 'senior', 'school', 'amazing'], ['cut', 'thumb', 'saw', 'small', 'metals'], ['im', 'trying', 'fix', 'doesnt', 'ahi', 'dios', 'mio', 'u', 'good', 'lol'], ['finished', 'watching', 'episode', '45', 'ruby', 'metaprogramming', 'screencasts', 'lots', 'cool', 'tips', 'great', 'need', 'coding', 'practices', 'master'], ['hate', 'cottage', 'cheese', 'even', 'got', 'fancy', 'stuff', 'last', 'weekend', 'lemon', 'berriesi', 'could', 'eat', 'half'], ['im', 'still', 'mothers', 'day', 'lunch', 'uncles', 'house', 'nice', 'time'], ['hot', 'cuppa', 'coffee', 'made', 'milk', 'fortified', 'monins', 'irish', 'coffee', 'syrup', 'bliss'], ['today', 'got', 'pop', 'tshirt', 'lovess', 'ittt', 'haha', 'x'], ['look', 'found', 'httptwittercomdjt2009'], ['thanks', 'amy', 'full', 'hotness'], ['dear', 'rain', 'suck', 'got', 'ta', 'change', 'plans', 'tonight'], ['seized', 'bolt', 'ya', 'still', 'stuck', 'bushing', 'actually', 'seized', 'bolt', 'lame', 'perhaps', 'heat', 'work'], ['oh', 'happy', 'day', 'nice', 'weather', 'smiling', 'happy', 'baby', 'icecream', 'later'], ['lab', 'informs', 'logic', 'board', 'dead', 'well', 'farking', 'expensive', 'replace', 'dont', 'know', 'mypowerbookg4rip'], ['consolation', 'ive', 'abandon', 'back', 'garden', 'thanks', 'superreflective', 'laptop', 'screen'], ['happy', 'mothers', 'day', 'moms', 'sure', 'heart', 'mankind'], ['got', 'back', 'run', 'im', 'feeling', 'grrrrrreeeeeaat'], ['fabulous', 'didnt', 'get', 'pic', 'gmail', 'acting', 'fool', 'sometimes', 'u', 'dm'], ['im', 'jealous', 'im', 'slaving', 'away', 'store', 'youre', 'chilling', 'boat'], ['mommy', 'oh', 'well', 'hope', 'gets', 'better'], ['big', 'thanks', 'melody', 'got', 'ta', 'love', 'sunshinelots', 'vit'], ['going', 'die', 'tomorrow', 'night'], ['happy', 'mommahs', 'day', 'moms', 'httpplurkcompstqya'], ['gawwddd', '6', 'headshotss', 'inna', 'row', 'im', 'fyaaahhh'], ['emergency', 'radio', 'iphone', 'awesome', 'listening', 'johnson', 'county', 'sheriffs', 'live', 'scanner', 'stream'], ['really', 'wish', 'could'], ['every', 'gas', 'station', 'look', 'postcards', 'luck'], ['would', 'vote', 'miley', 'live', 'ireland', 'youll', 'fine', 'good', 'luck', 'slã¯â¿â½nbye', 'irish', 'sorcha', 'xxxx'], ['im', 'siiiiiickkk', 'dun', 'feel', 'good'], ['fantastic', 'thank'], ['proud', '17yearold', 'loves', 'carpenters'], ['waaah', 'asshat', 'cvs', 'yesterday', 'shortchanged', 'paid', '10', 'chips'], ['let', 'know', 'goes', 'babe', 'good', 'luck'], ['httptwitpiccom4l85a', 'best', 'kind', 'gum', 'ever', 'bought', 'pack'], ['dont', 'think', 'take', 'needle', 'watched', 'horribly', 'gory', 'short', 'film', 'drugs', 'months', 'ago', 'im', 'scarred', 'life'], ['comes', 'fun', 'part', 'find', 'offers', 'per', 'country', 'live', 'outside', 'us', 'changes', 'quite', 'tiny'], ['ultimate', 'training', 'looking', 'forward', 'sunset'], ['aww', 'thats', 'bad', 'lost', 'though'], ['lame', 'go', 'make', 'breakfast'], ['lol', 'tiz', 'good', 'song'], ['day', 'crappy', 'want', 'cry'], ['posted', 'world', 'pinhole', 'day', 'love', 'picture', 'httptwitpiccom4jb4d'], ['good', 'morning', 'mommies', 'happy', 'mothers', 'day', 'pull', 'cats', 'tail', 'know', 'likes'], ['thanks', 'sending', 'link'], ['nigs', 'wont', 'get', 'thisnot', 'without', 'check', 'lmfao'], ['know', 'definitely', 'going', 'try', 'see', 'weekend'], ['yup', 'join', 'nin', 'access', 'fun'], ['hey', 'sorry', 'got', 'last', 'night'], ['newsreader', 'filling', 'blogs', 'yay', 'keep', 'pming', 'blog', 'sites', 'love', 'reading'], ['aww', 'could', 'would', 'gby'], ['unstable', 'broadband', 'electricity', 'taking', 'toll', 'mental', 'stability'], ['soi', 'half', 'asleep', 'wrote', 'previous', 'message', 'greatest', 'friends', 'haha'], ['bout', 'hit', 'sackgot', 'tomorrow', 'happy', 'mothers', 'day', 'mom'], ['hi', 'heather', 'dont', 'know', 'saw', 'messages', 'april', 'twitter', 'friendly'], ['well', 'go', 'peace', 'corps', 'prospects'], ['grr', 'naplan', 'finished', 'commerce', 'geo', 'exams', 'good', 'luck'], ['simplegirl', 'miss', 'festivities', 'evening', 'heading', 'hill', 'wont', 'internet', 'bb', 'service'], ['thanks', 'gorgeous', 'flowers'], ['sunburn', 'really', 'bad', 'regretting', 'sitting', 'sun', 'without', 'suncream'], ['cool', 'thatd', 'fantastic'], ['louise', 'bless', 'ya', 'know', 'feeling', 'well'], ['im', 'sad', 'cant', 'go', 'makes', 'sad'], ['parents', 'busy', 'making', 'feel', 'like', 'realise', 'ive', 'got', 'worse', 'need', 'see', 'doctor', 'sleep', 'sucks'], ['89', 'feel', 'sorry', 'hope', 'dnt', 'cry', '2nd', 'time'], ['really', 'tired', 'work', 'whole', 'day', 'tomorrow', 'thought', 'depresses', 'uncoooool'], ['sabido', 'nada', 'de', 'ti', 'making', 'bit', 'sad', 'must', 'say'], ['need', 'retail', 'therapy', 'bad', 'ahhhgimme', 'money', 'geebus'], ['outlook', 'good'], ['haul', 'vidphoto', 'slideshow', 'fun', 'httpwwwyoutubecomeyezaddiction'], ['thanks', 'love', 'video', 'dont', 'need', 'download', 'dont', 'offer', 'everything', 'want', 'try'], ['happy', 'star', 'wars', 'day', 'may', 'fourth'], ['theres', 'camel', 'hill', 'ill', 'give', 'plankton', 'hilarious'], ['nothing', 'better', 'grandaughter', 'smile', 'nothing', 'feels', 'better', 'big', 'hug', 'grandkids', 'hoot'], ['feel', 'like', 'babysitting', 'want', 'go', 'gym', 'weird', 'know', 'miss', 'zack'], ['living', 'empire', 'hotelfree', 'bottle', 'service', 'rocks', 'connections'], ['good', 'home'], ['hey', 'guys', 'working', 'need', 'worry', 'tooo', 'many', 'followers', 'tho'], ['hmstill', 'workin', 'contracthmmim', 'feelin', 'awful'], ['thanks', 'adding'], ['follow', 'baby', 'u', 'said', 'n', 'da', 'chat', 'u', 'luv', 'ya', 'goodnite'], ['shame', 'freud', 'cant', 'follow', 'implications'], ['leigh', 'thank', 'trying', 'stay', 'positive', 'head', 'space', 'keep', 'pushing', 'hows', 'things', 'end'], ['ill', 'definitely', 'write', 'look', 'forward', 'article', 're5', 'write', 'fun'], ['love', 'maitu', 'n', 'loves', 'happy', 'mothers', 'day', 'mama'], ['hi', 'agree', 'small', 'children', 'running', 'happy', 'breaking', 'tears'], ['happy', 'mothers', 'day', 'esp', 'mommy'], ['wish', 'people', 'would', 'notice'], ['airsoft', 'much', 'fun', 'play', 'brothers', 'great', 'bonding', 'experience'], ['oh', 'insomnia', 'hate', 'im', 'bored', 'staring', 'ceiling', 'cano', 'go', 'sleepnow', 'please'], ['lovely', 'breakfast', 'mumyummy', 'pancakes'], ['hi', 'recovering', 'party', 'looking', 'forward', 'exciting', 'bank', 'holiday', 'around', 'diy', 'shopslife', 'cant', 'get', 'much', 'bettersurely'], ['forgot', 'words', 'started', 'crying', 'stopped', 'singing', 'carried', 'cried', 'stopped'], ['school', 'start', 'june1', 'two', 'days', 'go', 'still', 'dont', 'want', 'l'], ['lookd', 'soo', 'freaked', 'outpoor', 'wee', 'thing'], ['oh', 'hahahahahaha', 'seriously', 'tell', 'wait', 'staff', 'look', 'great', 'time', 'easiest', 'nice', 'thing'], ['wish', 'could', 'get', 'pregnant'], ['shes', 'ruddy', 'manageress', '2nd', 'bad', 'job', 'never', 'find', 'good', 'place', 'beyond', '1', '2', 'cuts'], ['killers', 'coming', 'td', 'banknorth', 'boston', '94', '730pm', 'cant', 'go', 'everyone', 'else', 'go', 'though', 'tickets', 'sale', 'sat'], ['every', 'pair', 'jeans', 'nowadays', 'tight', 'think', 'mah', 'butt', 'gettin', 'big', 'oh'], ['loong', 'day', 'bed', 'cuddling', 'papabear', 'watching', 'south', 'park', 'yay', 'bday', 'bbq', 'tomorrow', 'cant', 'wait'], ['got', 'alot', 'runnin', 'around', 'today', 'get', 'job', 'app', 'completed', 'file', 'glad', 'got', 'job'], ['everyone', 'seem', 'leave', 'weekend', 'sigh', 'bed'], ['thats', 'good', 'sentence'], ['tts', 'ridiculously', 'sweet'], ['uhohits', 'becoming', 'grey', 'hope', 'one', 'popup', 'showers', 'way'], ['monday', 'morning', 'lying', 'bed', 'instead', 'working', 'great', 'bank', 'holidays', 'required'], ['fort', 'greene', 'brooklyn', 'flea', 'lovely', 'looking', 'forward', 'next', 'weekend', 'already'], ['potluck', 'danielle', 'taking', 'veggie', 'tray', 'miss'], ['thank', 'u', 'sweetie', 'cant', 'wait', 'set', 'sail', 'u', 'next', 'week'], ['hey', 'know', 'ya', 'dont', 'know', 'wanted', 'say', 'yopu', 'helped', 'lot', 'iraq', 'wanted', 'thank'], ['little', 'girl', 'bgt', 'omggg', 'people', 'feel', 'sorry'], ['life', 'would', 'suck', 'without', 'kelly', 'clarkson'], ['pauly', 'wallly', 'made', 'life', 'happy', 'hell', 'love', 'x3', 'reply', 'back'], ['im', 'ok', '15', 'year', 'old', 'going', '35', 'driving', 'crazy', 'comes', 'territory', 'guess'], ['l', 'u', 'much', 'see', 'u', 'school', 'todaay'], ['want', 'sleep', 'xd', 'song', 'head', 'make', 'crazy', 'dont', 'know', 'write', 'song', 'hahhaha'], ['da', 'heck', 'garage', 'man', 'get', 'ask'], ['hahaha', 'thats', 'cool', 'pic', 'sal', 'made', 'daniel', 'lol'], ['vile', 'people', 'remove', 'things', 'value'], ['omg', 'sore', 'shoulder'], ['hope', 'didnt', 'take', 'quote', 'personally', 'ive', 'throwing', 'dayguess', 'shoulda', 'waited', 'bit'], ['chillen', 'trying', 'figure', 'thing', 'gettin', 'drunk'], ['school', 'w', 'linda', 'nothing', 'miss'], ['yes', 'cant', 'understand', 'mean', 'know', 'hollywood', 'thing', 'called', 'love'], ['back', 'school', 'daily', 'show', 'amazing', 'gon', 'na', 'watch', 'later', 'think', 'xd'], ['thanks', 'followfriday', 'see', 'us', 'south', 'africans', 'holiday', 'fri'], ['hardly', 'worked', 'last', 'two', 'weeks', 'losing', 'weight', 'fear', 'im', 'losing', 'muscle', 'made', 'doc', 'appt', 'injured', 'foot'], ['jealous', 'wanted', 'see', 'film'], ['miss', 'soccer', 'moms'], ['rare', 'treat', 'bc', 'rarely', 'ap', 'em', 'early', 'may', 'make', 'opening', 'bell', 'pdx', 'farmers', 'mkt', 'new', 'goal'], ['agree', 'come', 'canberra', 'raddest'], ['imagine', 'know', 'love', 'hearing', 'novel', 'im', 'kinda', 'awake', 'lol', 'continue', 'hopefully'], ['happy', 'birthday', '2', 'hours', '54', 'minuets', 'haha'], ['haha', 'kidding', 'listen', 'day', 'long', 'bud'], ['okay', 'thought', 'getting', 'sick', 'nope', 'hahaha', 'phew', 'sry', 'mike', 'lol', 'hope', 'get', 'better', 'soon'], ['awhile', 'ago', 'freaking', 'hot', 'wet', 'turn'], ['happy', 'star', 'wars', 'day', 'may', 'fourth'], ['wants', 'stay', 'bed', 'day', 'go', 'work', 'instead', 'sux'], ['bad', 'homie'], ['enjoyed', 'star', 'trek', 'please'], ['tummy', 'hurts'], ['g1986', 'price', 'drop', 'would', 'nice', 'want', 'another', 'one', 'backupbluray', 'player'], ['grr', 'stupid', 'meebo', 'disconnecting', 'every', '5', 'seconds'], ['aww', 'little', 'girl', 'britains', 'got', 'talent', 'actually', 'love', 'ant', 'n', 'dec', 'oh', 'simon', 'cowell'], [], ['im', 'va', 'weekend', 'youngest', 'son', 'turns', '2', 'tomorrowit', 'makes', 'kinda', 'sad', 'getting', 'big', 'check', 'twipics'], ['anyone', 'else', 'seen', 'dm', 'notification', 'email', 'says', 'reply', 'web', 'cool', 'accents', 'weird', 'online'], ['scramming', 'little', 'early', 'nibs', 'sounds', 'pathetic'], ['takes', 'big', 'man', 'type', 'sad', 'tweet', 'like'], ['awwww', 'ive', 'got', 'photos', 'cute', 'bunnies'], ['oh', 'long', 'cant', 'remember'], ['nice'], ['thanks', 'nice', 'blog', 'post', 'however', 'given', 'creds', 'since', 'done', 'least', 'half', 'work'], ['us', 'tweeps', 'dont', 'forget', 'call', 'mom', 'today'], ['yeeeah', 'lmao', 'dentists', 'arent', 'nice', 'espesh', 'decide', 'old', 'goodie', 'bags', 'stickers', 'awesome', 'toothpaste'], ['lmao', 'witty', 'wackoloves'], ['gettin', 'ready', 'hit', 'mall', 'wmy', 'mom', 'jayden', 'things', 'wfaith'], ['sooo', 'lucky', 'fiance', 'away', 'wthe', 'marine', 'corpshavent', 'even', 'seen', 'yet'], ['finally', 'hit', '1000', 'friends', 'thanks'], ['thanks', 'hope', 'good', 'one'], ['wondering', 'cold', 'skylight', 'open', 'left', 'gas', 'morning'], ['dude', 'hurts'], ['sure'], ['like', 'rio', 'ferdinand', 'hes', 'wearing', 'england', 'jersey'], ['yea', 'someone', 'getting', 'best'], ['dubbs', 'curse', 'igloo', 'dwellers'], ['lots', 'tasks', 'complete', 'today', 'first', 'wecloming', 'new', 'members', 'canadamigos', 'social', 'networking', 'site', 'wwwcanadamigoscom', 'coffee'], ['really', 'sick'], ['httptwitpiccom4wtii', 'new', 'hair', 'going', 'greeattt', 'use'], ['lappy', 'charger', 'completely', 'dead', 'conserving', 'whats', 'left', 'battery', 'afford', 'buy', 'new', 'one'], ['okay', 'someplease', 'save', 'watching', 'ninja', 'warrier', 'eating', 'egg', 'roll', 'last', 'night'], ['need', 'break', 'need', 'kitkat', 'haha'], ['didntbut', 'wait', 'good', 'twenty', 'minutes', 'one', 'good', 'night', 'though'], ['headed', 'beach', 'puppy', 'maverick', 'hugs', 'much', 'aloha'], ['wish', 'u', 'could', 'rub', 'head'], ['awww', 'sucks', 'also', 'finish', 'uni', 'totally', 'mini', 'housewarming', 'yes', 'work', 'around', 'schedule', 'lol'], ['sick', 'doctors', 'waiting', 'room'], ['oh', 'nosorry', 'hear'], ['snowbear', 'finally', 'come', 'outcongrats', 'che', 'warren'], ['themoon', 'hiya', 'hun', 'day', 'dentist', 'appointment', 'ouchnotebook', 'feeling', 'sick', 'hows'], ['best', 'day', 'ever', 'missed', 'tomorrow'], ['testfest', 'weer', 'een', 'groot', 'succes'], ['great', 'time', 'boston', 'thanks', 'baby', 'girl', 'httpplurkcomprplmy'], ['thinks', 'castles', 'fun'], ['im', 'mo', 'nudge', 'better', 'watch'], ['oh', 'know', 'aprreciate', 'back', 'plan'], ['nice', 'pair', 'shoes', 'checked', 'nike', 'shoes', 'worth', 'buying'], ['finished', 'playing', 'mahjong', 'lost', '38', 'mag', 'weisheng'], ['singing', 'songs', 'filming', 'movies', 'best'], ['never', 'realized', 'good', 'techmeme', 'actually', 'read', 'duh', 'avid', 'tech', 'crunch', 'reader', 'much', 'better'], ['httptwitpiccom4vuuy', 'thats', 'cool'], ['aww', 'helpful', 'getting', 'sweepy', 'sis', 'says', 'whipped', 'cream', 'bed', 'save', 'u'], ['nice', 'elise', 'rolled', 'thas', 'wassup', 'fun', 'ladies'], ['work', 'today', 'went', 'shopping', 'relaxing', 'learning', 'toefl'], ['sister', 'law', 'left', 'prom', 'looked', 'soo', 'pretty', 'tears', 'around'], ['month', 'bad', 'month', 'try', 'get', 'advert', 'together', 'kobold', 'quarterly'], ['pain', 'big', 'toe', 'got', 'stamped', 'hokey', 'cokey', 'hurts', 'much', 'anyone', 'suggestions', 'help'], ['thanks', 'invite', 'though'], ['hotel', 'thankful'], ['everyones', 'set', 'away', 'msn', 'nobody', 'talk'], ['xotashhh', 'love', 'days', 'school', 'one', 'friday'], ['fun'], ['reason', 'wonder', 'loves'], ['listening', 'hallelujah', 'youtube', 'leonard', 'cohen', 'wins', 'xfactor'], ['oh', 'ate', 'pizza', 'last', 'night', 'stupidly', 'feel', 'closer', 'somehow'], ['httptwitpiccom665jw', 'racoons', 'ate', 'bread'], ['texting', 'friends', 'bored', 'gosh', 'hate', 'rain'], ['thanks', 'following'], ['im', 'sorry', 'im', 'neglecting', 'twitter'], ['long', 'day', 'dancin', 'travelin', 'celebrating', 'life', 'happy', 'mothers', 'day'], ['lol', 'could', 'written', 'would', 'good', '2', 'mondays', 'week', 'might', 'catch', 'x'], ['hahahahahahahaha', 'hope', 'hope', 'youll', 'like'], ['wanted', 'see', 'enjoy'], ['happydont', 'know', 'reason'], ['wonder', 'hate', 'driving', 'country', 'roads', 'stuff'], ['ahhh', 'think', 'legs', 'burnt', 'hurt'], ['inc', 'sounds', 'good', 'still', 'like', 'fridays', 'although', 'means', 'go', 'work', 'tomarrow'], ['hey', 'thanks', 'follow'], ['need', 'hug', 'cuz', 'garbage', 'truck', 'men', 'keep', 'driving', 'next', 'whistling', 'im', 'working', 'hard', '2', 'graduate'], ['thanks', 'answer', 'wondering', 'whole', 'week'], ['oh', 'kind'], ['saw', 'bird', 'slowly', 'die', 'right', 'next'], ['hugs', '4', 'kathy', 'though', 'moms', 'heaven', 'know', 'shes', 'smiling', 'accomplishments', 'people', 'keep', 'positive'], ['happy', 'moms', 'day', 'spain', 'last', 'sunday', 'hint', 'first', 'single', 'radio', 'lym', 'mini'], ['jus', 'got', 'hom', 'fr', 'tda', 'funeral', 'im', 'sad', 'cried', 'much', 'times', 'much', 'love', 'grandpa3', 'never', 'got', 'say', 'last', 'goodbye'], ['lovelytrinkets', 'like', 'way', 'worded', 'rocky', 'road'], ['happy', 'mothers', 'day', 'moms', 'around', 'world', 'love', 'mine', 'anything', 'world', 'cant', 'wait', 'celebrate', 'woo'], ['recession', 'hit', 'veronique', 'branquinho', 'quit', 'company', 'shame'], ['hate', 'life'], ['k2k', 'y360', 'closing', 'get'], ['hahaah', 'crys', 'blowing', 'fuses', 'typical', 'move'], ['hate', 'getting', 'emails', 'going', 'stuff', 'nowice', 'toe', 'long', 'story', 'calpol', 'cold', 'soooo', 'night', 'xxxx'], ['greeeeeeaaaaatttttttt', 'babe', 'amazing'], ['sweet', 'nk', 'dreams', 'love'], ['leme', 'put', 'bottle', 'ciroc', 'yababy', 'make', 'popular'], ['awesome', 'tell', 'good', 'might', 'watch'], ['think', 'follow', 'follower', 'stalk', 'please'], ['thanks', 'busy', 'good', 'book'], ['glorious', 'week', 'best', 'holiday', 'ever', 'think', 'dont', 'want', 'go', 'home', 'morning'], ['lt', 'training', 'today', 'ehhh', 'hard', 'tall', 'hard', 'feels', 'good', 'sunday', 'race', 'day', 'raining', 'lost', 'mud'], ['sorry', 'bro', 'thats', 'rough'], ['lolz', 'modestykix', 'roxnow', 'gals', 'lined', 'door'], ['ready', 'work', 'except', 'arm'], ['wockeez', 'im', 'missin', 'u', 'guys', 'day', 'ill', 'b', 'tomorrow', 'butttt', 'see', 'u', 'june', '18th', 'blockkkkk'], ['ahhh', 'u', 'know', 'really', 'sucks', 'sprained', 'toe', 'ouch'], ['saw', 'whole', 'lot', 'stuff', 'africa', 'joy', 'casterbridge', 'farm', 'white', 'river', 'mpumalangawas', 'quite', 'thrilled', 'see', 'ur', 'stuff'], ['babylove', 'em', 'homenagem', 'ao', 'baby'], ['beautiful', 'nice', 'day', 'im', 'stuck', 'inside'], ['probably', 'kinda', 'expensive', 'work', 'people', 'weekends', 'work'], ['cant', 'im', 'ipod', 'doesnt', 'im'], ['working', 'graduation', 'shame'], ['im', 'missin', 'fun', 'aww', 'cryin', 'lol'], ['im', 'sad', 'panda', 'hulu', 'doesnt', 'elephant', 'show', 'skinnamarinkydinkydink', 'sing', 'alongs'], ['macbook', 'pro', 'sitting', 'close', 'poor', 'macbook', 'ashamed', 'plastic', 'face', 'sides'], ['wont', 'going', 'oxford', 'internet', 'institute', 'sunner', 'doctoral', 'programme', 'brisbane', 'lack', 'funding'], ['oooh', 'spoiled', 'teenage', 'fantasy'], ['hate', 'cant', 'sleep'], ['contemplating', 'getting', 'hair', 'cut', 'severe', 'anxiety'], ['11', '30s', 'way', 'early', 'anyway', 'nigth', 'night', 'love'], ['would', 'hes', 'premiering', 'avatar', 'footage', 'cant', 'also', 'better', 'hang'], ['finally', 'home', 'night', 'dinner', 'drinking', 'friends', 'going', 'sleep', 'hoping', 'bed', 'doesnt', 'spin', 'much'], ['yeah', 'feel', 'anything', 'remembered', 'looking', 'loopt', 'phone', 'coughin'], ['happy', 'star', 'wars', 'day'], ['following', 'new', 'sanctuary', 'fans', 'see', 'wonders', 'sanctuarysunday', 'good', 'meet'], ['ugh', 'hate', 'car', 'miss', 'little', 'ford', 'focus'], ['sell', 'car', 'costing', 'much', 'afford', 'one', 'rollerskate', 'bye', 'bye', 'petey'], ['love', 'site', 'hoot', 'really', 'enjoy', 'hair', 'cuts', 'thailand', 'always', 'try', 'time', 'ir', 'right', 'thanks', 'tip'], ['tried', 'failed'], ['n9ne', 'im', 'good', 'day'], ['hope', 'u', 'alright', 'final'], ['green', 'day', 'boulevard', 'broken', 'dream', 'hinder', 'lips', 'angel', 'howie', 'day', 'collide', 'nice', 'song'], ['hello', 'twitterfon', 'im', 'glad', 'youre', 'back'], ['theyre', 'gone'], ['saw', 'half', 'rro', 'staff', 'walk', 'bysadly', 'didnt', 'see'], ['know', 'law', 'rebel', 'small', 'things'], ['playing', 'bejewled', 'facebook', 'want', 'higherscore'], ['meant', 'looking', 'like', 'tiger', 'stupid', 'predictive', 'text'], ['het', 'r', 'u', 'finished', 'cleaning', 'pond', 'u', 'shouldnt', 'stay', 'long', 'u', 'get', 'wrinkled', 'kidding'], ['34', 'hours', 'sleep', 'last', 'night', 'barely', 'functioning'], ['another', 'week', 'begins', 'one', 'got', 'better', 'last'], ['oh', 'jealous', 'though', 'youre', 'missing', 'fried', 'potato', 'bread'], ['room', 'hot', 'sleep'], ['thanks', 'dear', 'wish', 'best'], ['well', 'miss', 'im', 'sad', 'didnt', 'get', 'meet'], ['fun'], ['28deg', 'c', 'tech', 'room', 'major', 'downside', 'lot', 'heat', 'doesnt', 'help', 'hot', 'outside', '2'], ['take', 'bad', 'dog', 'pet', 'hotelso', 'sad'], ['happy', 'mothers', 'dayyy', 'deniseee', '3'], ['nz', 'busyfun', 'mothers', 'day', 'thanks', 'got', 'wanteda', 'wii', 'fit', 'yay'], ['nutbar', 'good', 'morning', 'twittertakeover'], ['danny', 'cut', 'beautiful', 'curls'], ['finally', 'got', 'wash', 'hair', 'feel', 'much', 'better', 'got', 'ta', 'dry', 'effffffort'], ['makin', 'tea', 'stressin'], ['great', 'time', 'mpix', 'shootout', 'great', 'thanks', 'mpix'], ['dam', 'missed', 'hollyoaks', '2nite'], ['real', 'detroit', 'weekly', 'websiteoh', 'horror', 'horror'], ['aww', 'sounds', 'sad'], ['namaste', 'hooray', 'monday', 'undaunted', '3am', 'wakeup', 'consider', '9am', 'london', 'feel', 'justified', 'bright', 'side', 'everything'], ['salt', 'vinegar', 'cheese', 'onion', 'make', 'breathe', 'smell', 'lol'], ['hi', 'godd', 'day', 'eweryone', 'im', 'reel', 'good', 'mood', 'day'], ['datti', 'thanks', 'sankar', 'ur', 'wishes'], ['dont', 'ever', 'turn', 'part', 'brain', 'talks', 'thats', 'fun', 'comes'], ['seagull', 'hates', 'im', 'utterly', 'depressed', 'miss'], ['sounds', 'awesome'], ['good', 'morning', 'fellow', 'tweeters'], ['phase', '2', 'success', 'self', 'discovery', 'vital', 'phase', '3', 'mins', 'away', 'cool', 'classy', 'baby', 'shout', '2', 'yeah', 'mane'], ['aaaaahhhh', 'friday', 'funeral', '5'], ['cheer', 'lizzi', 'b', 'another', 'foh', 'hero', 'concert', 'still', 'suppose', 'b', 'upset', 'xoxoxo'], ['omginorite', 'id', 'fancy', 'tophatted', 'time', 'really', 'bad', 'cant', 'grow', 'handlebar', 'moustache'], ['oh', 'love', 'sunday', 'mornings', 'like', 'mum', 'made', 'scrambled', 'eggs', 'toast'], ['bud', 'kudos', 'hardcore', 'gym', 'training', 'great', 'lifechanging', 'experience', 'keep'], ['got', '8', 'today', 'also', 'misses', 'friend'], ['sadface'], ['sending', 'blessings'], ['reyour', 'joint', 'w', 'crazy', 'thx', 'hey', 'trax', 'heard', '49er', 'rear', 'ended'], ['dammit', 'need', 'new', 'cupcake', 'tins'], ['hehe', 'almost', 'hear', 'right', 'ear', 'yet'], ['john', 'sounds', 'like', 'terrific', 'service', 'im', 'sorry', 'hear', 'mom'], ['happy', 'sunday'], ['forget', 'much', 'miss', 'tribe', 'til', 'limited', 'access', 'talking', 'spotty', 'internet', 'country', 'wont', 'long'], ['killed', 'dill', 'plant', 'happen', 'dill', 'great', 'suddenly', 'dead', 'httptinyurlcommlh4f5'], ['seriously', 'quiet', 'lonely', 'without', 'bunny'], ['making', 'german', 'apple', 'slice', 'nom', 'nom', 'nom'], ['twitter', 'fam', 'im', 'hop', 'back', 'aim', 'went', 'ghost', 'yall', 'lolz', 'sowwy'], ['ugh', 'nothing', 'valley', 'seriously', 'got', 'ta', 'move'], ['wan', 'na', 'crawl', 'desk', 'take', 'nap', 'nvrmind', 'dirty'], ['httptwitpiccom4uyn9', 'need', 'right', 'absolutely', 'mindddd', 'blowing', 'love', 'much'], ['sick', 'rigging', 'tomorrow'], ['really', 'good', 'mood', 'absolutely', 'reason', 'tee'], ['live', 'small', 'markets', 'deliver', 'dayold', 'bread', 'food', 'bank', 'times', 'really', 'tough', 'even'], ['plus', 'deposited', 'tax', 'return', 'cheque', 'first', 'time', '7', 'years', 'didnt', 'clear', 'immediately'], ['new', 'phone', 'zero', 'contacts', 'poo', 'send', 'message', 'name', 'save', 'numbers', 'thanks'], ['put', 'real', 'pic', 'im', 'going', 'miss', 'avatar'], ['yeaa', 'know', 'smartier', 'plus', 'knows', 'real', 'thing', 'better', 'lol'], ['thats', 'love'], ['dad', 'knows', 'got', 'drunk', 'today', 'didnt', 'get', 'trouble'], ['heard', 'disappointing', 'disappointed', 'ive', 'even', 'seen', 'waste', 'c', 'bale'], ['totally', 'forgot', 'phone', 'home', 'morning'], ['rarely', 'sleep', 'cant', 'help', 'hehe'], ['church', 'bellss', 'ringin', 'got', 'go', 'adieugod', 'bless', 'german'], ['wellhopefully', 'someday', 'soon', 'get', 'one'], ['forcing', 'watch', 'movie', '1984', 'book', 'report', 'im', 'lazy', 'read'], ['twitter', 'spoiled', 'fun', 'frustratingly', 'slow', 'couldnt', 'even', 'bid', 'properly'], ['thank', 'god', 'overcast', 'ivory', 'trying', 'get', 'mom', 'take', 'lunch', 'egh', 'doesnt', 'look', 'like', 'gon', 'na', 'work'], ['loving', 'sunshine', 'wish', 'poor', 'richie', 'would', 'feel', 'better'], ['httptwitpiccom4wlpv', 'whooooooooooooa', 'ang', 'ganda', 'ko', 'dito', 'ha', 'thank'], ['good', 'morning', 'world'], ['back', 'sore', 'done', 'jump', 'last', 'night'], ['oh', 'completely', 'forgot', 'thirsty', 'thursday', 'oh', 'gaga', 'sucks'], ['snuck', 'window', 'im', 'laying', 'roof', 'looking', 'stars', 'nice', 'night', 'tonight'], ['hodges', 'yup', 'loss'], ['got', 'nashville', 'ihop', 'staff', 'hit', 'dougie', 'mayne', 'night'], ['marley', 'saddest', 'movie', 'ever', 'never', 'cry', 'movies', 'movie', 'mad', 'cry'], ['ok', 'im', 'frustrated', 'hella', 'dust', 'screens', 'blackberry'], ['morden', 'richards', 'ill', 'see', 'youwe', 'get', 'back', 'good', 'luck'], ['studio', 'ghibli', 'year', 'ponyo', 'httpbitlywhar8', 'always', 'seems', 'perfect', 'well', 'waiting', 'till', 'august'], ['ur', 'cuteim', 'fan', 'dream', 'little', 'dream', 'kiss', 'appearances', 'like', 'dawsons', 'creek', 'make', 'flicks'], ['awwwh', 'u', 'stuck', 'traffic', 'booo'], ['yay', 'fun'], ['nice', 'see', 'twitter'], ['wat', 'u', 'doin', 'bad', 'im', 'mixin', 'song'], ['ahhh', 'whatchu', 'talkinã¯â¿â½', 'baby', 'hahaha', 'canã¯â¿â½t', 'believe', 'youuo', 'heh', 'actually', 'life', 'worth', 'taking', 'risks', 'httptumblrcomxs81qy54s'], ['juz', 'registered', 'cp', 'twitter', 'tweets', 'wont', 'go', 'thru', 'arghhmm', 'wan', 'na', 'follow', 'idols', 'lyk', 'away', 'pc'], ['current', 'goal', 'lose', '10', 'pounds', 'next', 'tuesday', '120', 'come', 'soooo', 'ready', 'gatlinburg'], ['well', 'propels', 'people', 'change', 'direction', 'point', 'wasting', 'days', 'something', 'lost', 'passion'], ['1011pm', 'todays', 'drag', 'bored', 'im', 'get', 'romance', 'book', 'prob', 'wont', 'til', 'morn', 'night', 'twitter', 'babes'], ['excited', 'httpplurkcompstk04'], ['sooo', 'madyesterday', 'todaysuckedso', 'much'], ['oh', 'final', 'msg', 'didnt', 'review', 'boardgame', 'bookchaseã¯â¿â½', 'telly', 'didnt', 'even', 'get', 'nice', 'letter'], ['hot', 'room', 'wan', 'na', 'go', 'swimming'], ['hehe', 'nz', 'magical', 'place', 'earth'], ['thanks', 'mama', 'absolutely', 'adore'], ['social', 'saw', 'g1', 'awwww'], ['voter', 'paint', 'peeled', 'skin', 'maybe', 'skin', 'peeled', 'voter', 'paint'], ['srry', 'im', 'interesting', 'right', 'stayed', 'til', '6am', 'cause', 'tummy', 'hurt', 'im', 'pooped', 'work'], ['things', 'looking', 'better', 'better', 'think', 'might', 'quite', 'happy'], ['biggest', 'food', 'fightmosh', 'pit', 'ever', 'miss', 'across', 'school'], ['thats', 'rough', 'hubby', 'knee', 'surgery', 'help', 'end', 'let', 'us', 'know', 'results', 'well', 'keep', 'prayers'], ['laundry', 'instead', 'sitting', 'darn', 'laundry', 'keeps', 'mocking'], ['stupid', 'storm', 'river', 'us', 'tonight'], ['pissed', 'bluetooth', 'headsets', 'battery', 'lasted', 'cells', 'battery', 'gg', 'moto', 'q'], ['hey', 'lets', 'follow', 'wouldnt', 'awesome'], ['omg', 'really', 'sowwy', 'ill', 'p', 'tired', 'morning', 'p', 'lol'], ['enjoy', 'hanami', 'picnic', 'cherry', 'tree', 'park', 'hope', 'weather', 'stays', 'nice'], ['school', '39', 'days', 'exited', 'amazing', 'premier'], ['friday', 'freakin', 'happy', 'today', 'annoying', 'day', 'buuut', 'weekend', 'tgif3'], ['2050', 'hs', 'im', 'still', 'officereally', 'tiredwanna', 'go', 'home'], ['amazing', 'x'], ['lol', 'going', '12am', 'isnt', 'easy', 'used'], ['wan', 'na', 'jet', 'mirage', 'couldnt', 'get', 'hawaii', 'either', 'someday', 'much', 'love', 'thewockeez', 'supercr3w'], ['youre', 'welcome', 'cutiepie', 'kiddo', 'picture', 'btw', 'love', 'shades'], ['thankfully', 'face', 'shows', 'photoshoots'], ['oh', 'noes', 'hope', 'feel', 'better', 'soon', 'head', 'sympathizes'], ['haha', 'yea', 'feel', 'like', 'taken', 'wrong', 'direction', 'used', 'cool', 'place', 'mess'], ['rofl', 'u', 'hahaha', 'lem', 'tell', 'salman', 'munir', 'p', 'p'], ['feels', 'cousin', 'monkey', 'httpplurkcompx23pa'], ['writing', 'essay', 'college', 'writing', 'boring'], ['im', 'straining', 'hear', 'hard', 'way'], ['grant', 'hey', 'donna', 'lovely', 'see', 'twitter'], ['happy', 'mothers', 'day', 'mom'], ['loved', 'happy', 'birthday', 'said', 'sounded', 'like', 'mixture', 'john', 'lennon', 'chrissie', 'hynde', 'janis', 'joplin'], ['hahayay', 'im', 'cured'], ['hoping', 'one', 'day', 'able', 'go', 'dates', '26', 'year', 'old', 'boyfriend', 'without', 'parents'], ['anyone', 'awake', 'oh', 'god', 'dying', 'want', 'go', 'sleeeeeeeeeeeeeeeeeeeeeeeeeeeeeeeeeeeeeeeeeeeeeeeeeeeeeeeeeeep'], ['host', 'next', 'logies', 'laughed', 'bit', 'really'], ['read', 'book', 'called', 'gamer', 'girl', 'wasnt', 'bad'], ['like', 'youre', 'stuff', 'strange', 'voicemails', 'httpbitlyykxms'], ['haha', 'know', 'sorry', 'typos', 'last', 'tweetblehhh', 'ps', 'said', 'sucha', 'cute', 'movie', 'awww'], ['mommas', 'day', 'may', '10th', 'dont', 'forget', 'something', 'nice', 'mommyyy'], ['brief', 'interruption', 'brb', 'goodnight', 'dont', 'catch', 'u', 'later', 'got', 'ta', 'ck', 'something'], ['burned', 'legs', 'x'], ['ooo', 'goddddd', 'vodafone', 'trouble', 'network'], ['caladesi', 'definitely', 'nice', 'peaceful', 'way', 'spend', 'sunday', 'got', 'lil', 'tan'], ['poor', 'lmao', 'stick', 'head', 'window'], ['thelma', 'louise', 'good', 'movie'], ['ahaha', 'thats', 'okay', 'thanks'], ['im', 'sunburnt', 'arms', 'burnt', 'mouth', 'skin', 'coming'], ['windows', '7', 'runningvery', 'happy', 'got', 'sum', 'wicked', 'new', 'features', 'httpbitlyjywnz'], ['good', 'night', 'rob', 'sleep', 'well', 'safe', 'travels', 'tomorrow'], ['really', 'bored', 'today', 'ate', 'bowl', 'ful', 'rasberries', 'grapes', 'im', 'waiting', 'dinner'], ['love', 'life', 'ni', 'night', 'twitter3'], ['would', 'like', 'gaming', 'system'], ['possibly', 'yes'], ['wow', 'hot', 'miserable', 'people', 'probably', 'killing', 'right'], ['oh', 'ok', 'thanks'], ['theres', 'relisting', 'fees', 'dont', 'complete', 'sale', 'sucks'], ['never', 'late', 'need', 'buck', 'ideas', 'stop', 'bunch', 'stuffy', 'old', 'reactionaries'], ['wow', 'effect', 'thanks', 'update'], ['relaxing', 'working', 'mothers', 'day', 'oh', 'well', 'good', 'day', 'hope', 'well'], ['oh', 'ok', 'well', 'im', 'sendin', 'lots', 'love'], ['im', 'depressed', 'pretty', 'day', 'everyone', 'either', 'something', 'cantbleh'], ['excited', 'week', 'trying', 'productive', 'monday', 'trying', 'hard'], ['know', 'extremely', 'happy', 'wouldnt', 'change', 'world', 'dont', 'want', 'anybody', 'else'], ['thanks', 'jk', 'love', 'ya', 'death'], ['sadd', 'last', 'night', 'fl', 'going', 'back', 'ar', 'tomorrow'], ['watching', 'body', 'liesgood', 'film'], ['feeling', 'bad', 'profile', 'pic'], ['listening', 'busted', '3am', 'miss'], ['move', 'anywhere', 'long', 'freaking', 'dishwasher', 'despise', 'dishes'], ['nothing', 'evening', 'missing', 'lifestory'], ['neck', 'hurts', 'lot'], ['hey', 'r', 'u', 'back', 'la', 'right', 'nowwhat', 'ur', 'favorite', 'part', 'bout', 'europe', 'ive', 'never', 'country', 'xcept', 'canada', 'xo', 'jenna'], ['love', 'video', 'da', 'funk', 'daft', 'punk'], ['ready', 'saddenning', 'depressing', 'dullful', 'upsetting', 'dreadful', 'weekend'], ['ok', 'hit', 'hay', 'thank'], ['prom', 'ha', 'chinese', 'iced', 'chai', 'old', 'school', 'pokemon', 'good', 'night'], ['walking', 'streets', 'harlem', 'home', 'sweet', 'home'], ['totally', 'awesome', 'seeing', 'rebooted', 'crew', 'nice'], ['ugh', 'miserable', 'looking', 'day', '54', 'degrees', 'summer', 'go'], ['nomore', 'adventure', 'time'], ['brah', 'u', 'happy'], ['jersey', 'weather', 'good', 'charity', 'drive'], ['workk', 'yay']]\n"
          ]
        }
      ]
    },
    {
      "cell_type": "code",
      "source": [
        "w2v_model = Word2Vec(sentences, vector_size=100, window=5, min_count=5, workers=4)\n",
        "w2v_model.train(sentences, total_examples=w2v_model.corpus_count,epochs=w2v_model.epochs)"
      ],
      "metadata": {
        "colab": {
          "base_uri": "https://localhost:8080/"
        },
        "id": "w_XPtKJO6onT",
        "outputId": "20c4bdd5-791a-48d8-b8c1-1c5d9f04419f"
      },
      "execution_count": 102,
      "outputs": [
        {
          "output_type": "stream",
          "name": "stderr",
          "text": [
            "WARNING:gensim.models.word2vec:Effective 'alpha' higher than previous training cycles\n"
          ]
        },
        {
          "output_type": "execute_result",
          "data": {
            "text/plain": [
              "(27426, 63550)"
            ]
          },
          "metadata": {},
          "execution_count": 102
        }
      ]
    },
    {
      "cell_type": "code",
      "source": [
        "import numpy as np\n",
        "\n",
        "def vectorize(sentence):\n",
        "    words = sentence.split()\n",
        "    words_vecs = [w2v_model.wv[word] for word in words if word in w2v_model.wv]\n",
        "    if len(words_vecs) == 0:\n",
        "        return np.zeros(100)\n",
        "    words_vecs = np.array(words_vecs)\n",
        "    return words_vecs.mean(axis=0)"
      ],
      "metadata": {
        "id": "sxAlFw9C63ME"
      },
      "execution_count": 103,
      "outputs": []
    },
    {
      "cell_type": "code",
      "source": [
        "X_train = np.array([vectorize(sentence) for sentence in X_train])\n",
        "X_test = np.array([vectorize(sentence) for sentence in X_test])"
      ],
      "metadata": {
        "id": "d3zkwVyN9NWs"
      },
      "execution_count": 104,
      "outputs": []
    },
    {
      "cell_type": "markdown",
      "source": [
        "#6. Train a classification model\n",
        "\n",
        "Train a classification model such as logistic regression, random forests, or support vector machines using the vectorised training data and the sentiment labels."
      ],
      "metadata": {
        "id": "jQzOtEYe-mEw"
      }
    },
    {
      "cell_type": "code",
      "source": [
        "from sklearn.linear_model import LogisticRegression\n",
        "\n",
        "clf = LogisticRegression()\n",
        "clf.fit(X_train, y_train)"
      ],
      "metadata": {
        "colab": {
          "base_uri": "https://localhost:8080/",
          "height": 75
        },
        "id": "h88QHyto-jPw",
        "outputId": "06e84f2a-85bf-494a-8058-6fbb4fefae2d"
      },
      "execution_count": 105,
      "outputs": [
        {
          "output_type": "execute_result",
          "data": {
            "text/plain": [
              "LogisticRegression()"
            ],
            "text/html": [
              "<style>#sk-container-id-2 {color: black;background-color: white;}#sk-container-id-2 pre{padding: 0;}#sk-container-id-2 div.sk-toggleable {background-color: white;}#sk-container-id-2 label.sk-toggleable__label {cursor: pointer;display: block;width: 100%;margin-bottom: 0;padding: 0.3em;box-sizing: border-box;text-align: center;}#sk-container-id-2 label.sk-toggleable__label-arrow:before {content: \"▸\";float: left;margin-right: 0.25em;color: #696969;}#sk-container-id-2 label.sk-toggleable__label-arrow:hover:before {color: black;}#sk-container-id-2 div.sk-estimator:hover label.sk-toggleable__label-arrow:before {color: black;}#sk-container-id-2 div.sk-toggleable__content {max-height: 0;max-width: 0;overflow: hidden;text-align: left;background-color: #f0f8ff;}#sk-container-id-2 div.sk-toggleable__content pre {margin: 0.2em;color: black;border-radius: 0.25em;background-color: #f0f8ff;}#sk-container-id-2 input.sk-toggleable__control:checked~div.sk-toggleable__content {max-height: 200px;max-width: 100%;overflow: auto;}#sk-container-id-2 input.sk-toggleable__control:checked~label.sk-toggleable__label-arrow:before {content: \"▾\";}#sk-container-id-2 div.sk-estimator input.sk-toggleable__control:checked~label.sk-toggleable__label {background-color: #d4ebff;}#sk-container-id-2 div.sk-label input.sk-toggleable__control:checked~label.sk-toggleable__label {background-color: #d4ebff;}#sk-container-id-2 input.sk-hidden--visually {border: 0;clip: rect(1px 1px 1px 1px);clip: rect(1px, 1px, 1px, 1px);height: 1px;margin: -1px;overflow: hidden;padding: 0;position: absolute;width: 1px;}#sk-container-id-2 div.sk-estimator {font-family: monospace;background-color: #f0f8ff;border: 1px dotted black;border-radius: 0.25em;box-sizing: border-box;margin-bottom: 0.5em;}#sk-container-id-2 div.sk-estimator:hover {background-color: #d4ebff;}#sk-container-id-2 div.sk-parallel-item::after {content: \"\";width: 100%;border-bottom: 1px solid gray;flex-grow: 1;}#sk-container-id-2 div.sk-label:hover label.sk-toggleable__label {background-color: #d4ebff;}#sk-container-id-2 div.sk-serial::before {content: \"\";position: absolute;border-left: 1px solid gray;box-sizing: border-box;top: 0;bottom: 0;left: 50%;z-index: 0;}#sk-container-id-2 div.sk-serial {display: flex;flex-direction: column;align-items: center;background-color: white;padding-right: 0.2em;padding-left: 0.2em;position: relative;}#sk-container-id-2 div.sk-item {position: relative;z-index: 1;}#sk-container-id-2 div.sk-parallel {display: flex;align-items: stretch;justify-content: center;background-color: white;position: relative;}#sk-container-id-2 div.sk-item::before, #sk-container-id-2 div.sk-parallel-item::before {content: \"\";position: absolute;border-left: 1px solid gray;box-sizing: border-box;top: 0;bottom: 0;left: 50%;z-index: -1;}#sk-container-id-2 div.sk-parallel-item {display: flex;flex-direction: column;z-index: 1;position: relative;background-color: white;}#sk-container-id-2 div.sk-parallel-item:first-child::after {align-self: flex-end;width: 50%;}#sk-container-id-2 div.sk-parallel-item:last-child::after {align-self: flex-start;width: 50%;}#sk-container-id-2 div.sk-parallel-item:only-child::after {width: 0;}#sk-container-id-2 div.sk-dashed-wrapped {border: 1px dashed gray;margin: 0 0.4em 0.5em 0.4em;box-sizing: border-box;padding-bottom: 0.4em;background-color: white;}#sk-container-id-2 div.sk-label label {font-family: monospace;font-weight: bold;display: inline-block;line-height: 1.2em;}#sk-container-id-2 div.sk-label-container {text-align: center;}#sk-container-id-2 div.sk-container {/* jupyter's `normalize.less` sets `[hidden] { display: none; }` but bootstrap.min.css set `[hidden] { display: none !important; }` so we also need the `!important` here to be able to override the default hidden behavior on the sphinx rendered scikit-learn.org. See: https://github.com/scikit-learn/scikit-learn/issues/21755 */display: inline-block !important;position: relative;}#sk-container-id-2 div.sk-text-repr-fallback {display: none;}</style><div id=\"sk-container-id-2\" class=\"sk-top-container\"><div class=\"sk-text-repr-fallback\"><pre>LogisticRegression()</pre><b>In a Jupyter environment, please rerun this cell to show the HTML representation or trust the notebook. <br />On GitHub, the HTML representation is unable to render, please try loading this page with nbviewer.org.</b></div><div class=\"sk-container\" hidden><div class=\"sk-item\"><div class=\"sk-estimator sk-toggleable\"><input class=\"sk-toggleable__control sk-hidden--visually\" id=\"sk-estimator-id-2\" type=\"checkbox\" checked><label for=\"sk-estimator-id-2\" class=\"sk-toggleable__label sk-toggleable__label-arrow\">LogisticRegression</label><div class=\"sk-toggleable__content\"><pre>LogisticRegression()</pre></div></div></div></div></div>"
            ]
          },
          "metadata": {},
          "execution_count": 105
        }
      ]
    },
    {
      "cell_type": "markdown",
      "source": [
        "#7. Evaluate the model\n",
        "\n",
        "Evaluate the performance of the classification model on the testing set with the accuracy, precision, recall and F1 score.\n"
      ],
      "metadata": {
        "id": "0RQyH4nG-wyI"
      }
    },
    {
      "cell_type": "code",
      "source": [
        "from sklearn.metrics import accuracy_score, precision_score, recall_score, f1_score\n",
        "\n",
        "y_pred = clf.predict(X_test)\n",
        "print('Accuracy:', accuracy_score(y_test, y_pred))\n",
        "print('Precision:', precision_score(y_test, y_pred, pos_label=1.0))\n",
        "print('Recall:', recall_score(y_test, y_pred, pos_label=1.0))\n",
        "print('F1 score:', f1_score(y_test, y_pred, pos_label=1.0))"
      ],
      "metadata": {
        "colab": {
          "base_uri": "https://localhost:8080/"
        },
        "id": "fSC3Ghpz-rea",
        "outputId": "70f5fd64-abb0-431a-977c-8276fd1acc22"
      },
      "execution_count": 108,
      "outputs": [
        {
          "output_type": "stream",
          "name": "stdout",
          "text": [
            "Accuracy: 0.5629453681710214\n",
            "Precision: 0.5792880258899676\n",
            "Recall: 0.7682403433476395\n",
            "F1 score: 0.6605166051660516\n"
          ]
        }
      ]
    },
    {
      "cell_type": "code",
      "source": [],
      "metadata": {
        "id": "RucB1b9i9jVe"
      },
      "execution_count": null,
      "outputs": []
    }
  ]
}