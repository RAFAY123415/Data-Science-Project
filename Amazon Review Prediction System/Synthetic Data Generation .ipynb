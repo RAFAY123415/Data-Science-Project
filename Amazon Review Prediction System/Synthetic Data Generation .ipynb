{
 "cells": [
  {
   "cell_type": "markdown",
   "id": "1fd0a6c0",
   "metadata": {},
   "source": [
    "## Synthetic Data Generation Amazon Reviews "
   ]
  },
  {
   "cell_type": "markdown",
   "id": "6a69c5bf",
   "metadata": {},
   "source": [
    "The purpose of the Faker library in this code is to generate synthetic and realistic-looking data, particularly in the context of creating fake reviews . Faker provides a convenient way to generate various types of fake data, such as names, addresses, paragraphs, and words. In this code, it is specifically used to create realistic-sounding paragraphs for the reviews. By combining these generated paragraphs with carefully selected product-related keywords, the code simulates Amazon product reviews that contain specific aspects or features, as defined in the aspects_keywords dictionary.\n",
    "\n",
    "The primary objective of the entire code is to generate synthetic data for training or testing an NLP (Natural Language Processing) model related to Amazon product reviews. It defines aspects such as 'Aesthetics,' 'Durability,' 'Ease of Use,' and others, each associated with a set of keywords. The generate_synthetic_data function uses Faker to create unique and diverse review texts, ensuring that each generated review corresponds to a specific aspect based on the presence of associated keywords. The resulting synthetic data, stored in a Pandas DataFrame, can be used to train or evaluate the performance of an NLP model in classifying reviews based on predefined aspects. The generated data includes a variety of aspects to simulate the diversity found in real-world product reviews.\n",
    "\n",
    "\n"
   ]
  },
  {
   "cell_type": "code",
   "execution_count": 4,
   "id": "64803beb",
   "metadata": {},
   "outputs": [],
   "source": [
    "#!pip install faker #package version faker-20.0.3"
   ]
  },
  {
   "cell_type": "markdown",
   "id": "38a70251",
   "metadata": {},
   "source": [
    "##### Importing libraries"
   ]
  },
  {
   "cell_type": "code",
   "execution_count": 5,
   "id": "ede83387",
   "metadata": {},
   "outputs": [],
   "source": [
    "import pandas as pd\n",
    "from faker import Faker\n",
    "import random"
   ]
  },
  {
   "cell_type": "code",
   "execution_count": null,
   "id": "a63f3011",
   "metadata": {},
   "outputs": [],
   "source": [
    "# Initialize Faker\n",
    "fake = Faker()\n",
    "\n",
    "# Define aspects and corresponding keywords\n",
    "aspects_keywords = {\n",
    "    'Aesthetics': ['crisp', 'beautiful', 'wrinkled'],\n",
    "    'Ease of Reprocessing': ['wash', 'clean', 'charge'],\n",
    "    'Durability': ['wear', 'died', 'resistant'],\n",
    "    'Use Efficiency': ['time', 'fast, long'],\n",
    "    'Performance': ['hold', 'well', 'glitch'],\n",
    "    'Adaptability': ['versatile', 'outside', 'suitable'],\n",
    "    'Ergonomics': ['comfortable', 'easy', 'awkward'],\n",
    "    'Ease of Storage': ['store', 'fold', 'small'],\n",
    "    'Ease of Use': ['use', 'easy', 'convenient'],\n",
    "    'Interference': ['loud', 'taste', 'smell'],\n",
    "    'Safety': ['safe', 'drop', 'burn'],\n",
    "    'Price': ['expensive', 'cheap', 'cost']\n",
    "}\n",
    "\n",
    "# Updated product_keywords list for Amazon product reviews\n",
    "product_keywords = [\n",
    "    'Excellent', 'High-quality', 'Durable', 'Efficient', 'Impressive', 'Versatile',\n",
    "    'Comfortable', 'User-friendly', 'Compact', 'Sleek', 'Convenient', 'Innovative',\n",
    "    'Sturdy', 'Reliable', 'Outstanding', 'Attractive', 'Easy-to-use', 'Affordable',\n",
    "    'Premium', 'Satisfying', 'Elegant', 'Superior', 'Exceptional', 'Satisfactory',\n",
    "    'Pleasurable', 'Top-notch', 'Fantastic', 'Value-for-money', 'Satisfying',\n",
    "    'Well-designed', 'Smooth', 'Functional', 'Amazing', 'Great', 'Good', 'Quality',\n",
    "    'Perfect', 'Satisfied', 'Recommended', 'Happy', 'Pleased', 'Worth', 'Awesome',\n",
    "    'loud', 'taste', 'smell'\n",
    "]\n",
    "\n",
    "# Keep track of generated reviews to avoid duplicates\n",
    "generated_reviews = set()\n",
    "\n",
    "# Function to assign aspect labels based on keywords\n",
    "def assign_aspect_label(review_text):\n",
    "    for aspect, keywords in aspects_keywords.items():\n",
    "        if any(keyword in review_text.lower() for keyword in keywords):\n",
    "            return aspect\n",
    "    return None\n",
    "\n",
    "# Function to generate synthetic data\n",
    "def generate_synthetic_data(num_rows):\n",
    "    data = {'Review': [], 'Aspect': []}\n",
    "\n",
    "    for _ in range(num_rows):\n",
    "        \n",
    "        # Generate unique review text with product-related keywords\n",
    "        while True:\n",
    "            review_text = fake.paragraph(nb_sentences=3)\n",
    "            review_text += ' '.join(fake.words(nb=random.randint(2, 5), ext_word_list=product_keywords))\n",
    "\n",
    "            aspect_label = assign_aspect_label(review_text)\n",
    "            if aspect_label is not None:\n",
    "                break\n",
    "\n",
    "        # Append to the data dictionary\n",
    "        data['Review'].append(review_text)\n",
    "        data['Aspect'].append(aspect_label)\n",
    "\n",
    "    # Create a DataFrame from the data dictionary\n",
    "    df = pd.DataFrame(data)\n",
    "    return df\n",
    "\n",
    "# Generate synthetic data with at least 90000 rows\n",
    "synthetic_data = generate_synthetic_data(num_rows=90000)\n",
    "\n"
   ]
  },
  {
   "cell_type": "code",
   "execution_count": null,
   "id": "0e188e0f",
   "metadata": {},
   "outputs": [],
   "source": [
    "# Display the first few rows of the synthetic data\n",
    "synthetic_data.head()\n",
    "synthetic_data.to_csv('Amazon_Synthetic_Training_Data.csv',index=False)"
   ]
  }
 ],
 "metadata": {
  "kernelspec": {
   "display_name": "Python 3 (ipykernel)",
   "language": "python",
   "name": "python3"
  },
  "language_info": {
   "codemirror_mode": {
    "name": "ipython",
    "version": 3
   },
   "file_extension": ".py",
   "mimetype": "text/x-python",
   "name": "python",
   "nbconvert_exporter": "python",
   "pygments_lexer": "ipython3",
   "version": "3.9.18"
  }
 },
 "nbformat": 4,
 "nbformat_minor": 5
}
