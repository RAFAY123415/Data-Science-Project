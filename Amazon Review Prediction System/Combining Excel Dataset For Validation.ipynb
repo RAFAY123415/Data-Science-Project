{
 "cells": [
  {
   "cell_type": "markdown",
   "id": "37e4d3e2",
   "metadata": {},
   "source": [
    "##### This jupyter notebook is used for data validation for our bert Model"
   ]
  },
  {
   "cell_type": "markdown",
   "id": "39641dbc",
   "metadata": {},
   "source": [
    "##### Importing libraries "
   ]
  },
  {
   "cell_type": "code",
   "execution_count": 4,
   "id": "52d91f8e",
   "metadata": {},
   "outputs": [],
   "source": [
    "import pandas as pd\n",
    "import numpy as np"
   ]
  },
  {
   "cell_type": "markdown",
   "id": "7195208a",
   "metadata": {},
   "source": [
    "##### Combining Dataset"
   ]
  },
  {
   "cell_type": "code",
   "execution_count": 5,
   "id": "b45e291f",
   "metadata": {},
   "outputs": [],
   "source": [
    "dataset1= pd.read_excel('Content Analysis Data/Babyliss Hairdryer Codes.xlsx')\n",
    "dataset1=dataset1[['Coded Text','Name']]\n",
    "dataset1.rename(columns={'Coded Text': 'Reviews','Name':'Aspect'}, inplace=True)\n",
    "dataset2= pd.read_excel('Content Analysis Data/Bamboo Board Codes.xlsx')\n",
    "dataset2=dataset2[['Coded Text','Name']]\n",
    "dataset2.rename(columns={'Coded Text': 'Reviews','Name':'Aspect'}, inplace=True)\n",
    "dataset2['Aspect'] = dataset2['Aspect'].str.replace('\\(Board\\)','', regex=True)\n",
    "dataset3= pd.read_excel('Content Analysis Data/Bamboo Straw Codes.xlsx')\n",
    "dataset3=dataset3[['Coded Text','Name']]\n",
    "dataset3.rename(columns={'Coded Text': 'Reviews','Name':'Aspect'}, inplace=True)\n",
    "dataset3['Aspect'] = dataset3['Aspect'].str.replace('\\(Straws\\)','', regex=True)\n",
    "dataset4= pd.read_excel('Content Analysis Data/Biodegradable Bags Codes.xlsx')\n",
    "dataset4=dataset4[['Coded Text','Name']]\n",
    "dataset4.rename(columns={'Coded Text': 'Reviews','Name':'Aspect'}, inplace=True)\n",
    "dataset4['Aspect']  = dataset4['Aspect'].str.replace('Bag', '',regex=True)\n",
    "dataset5= pd.read_excel('Content Analysis Data/Biodegradable Pots Codes.xlsx')\n",
    "dataset5=dataset5[['Coded Text','Name']]\n",
    "dataset5.rename(columns={'Coded Text': 'Reviews','Name':'Aspect'}, inplace=True)\n",
    "dataset5['Aspect']  = dataset5['Aspect'].str.replace('Pot','',regex=True)\n",
    "dataset6= pd.read_excel('Content Analysis Data/Biodegradable Sponge Codes.xlsx')\n",
    "dataset6=dataset6[['Coded Text','Name']]\n",
    "dataset6.rename(columns={'Coded Text': 'Reviews','Name':'Aspect'}, inplace=True)\n",
    "dataset7= pd.read_excel('Content Analysis Data/Cloth Napkins Codes.xlsx')\n",
    "dataset7=dataset7[['Coded Text','Name']]\n",
    "dataset7.rename(columns={'Coded Text': 'Reviews','Name':'Aspect'}, inplace=True)\n",
    "dataset8= pd.read_excel('Content Analysis Data/Compostable Cutlery Codes.xlsx')\n",
    "dataset8=dataset8[['Coded Text','Name']]\n",
    "dataset8.rename(columns={'Coded Text': 'Reviews','Name':'Aspect'}, inplace=True)\n",
    "dataset9= pd.read_excel('Content Analysis Data/Cotton Shopping Bags Codes.xlsx')\n",
    "dataset9=dataset9[['Coded Text','Name']]\n",
    "dataset9.rename(columns={'Coded Text': 'Reviews','Name':'Aspect'}, inplace=True)\n",
    "dataset10= pd.read_excel('Content Analysis Data/Ecoflow Showerhead Codes.xlsx')\n",
    "dataset10=dataset10[['Coded Text','Name']]\n",
    "dataset10.rename(columns={'Coded Text': 'Reviews','Name':'Aspect'}, inplace=True)\n",
    "dataset11= pd.read_excel('Content Analysis Data/Eco-friendly Fridge Codes.xlsx')\n",
    "dataset11=dataset11[['Coded Text','Name']]\n",
    "dataset11.rename(columns={'Coded Text': 'Reviews','Name':'Aspect'}, inplace=True)\n",
    "dataset12= pd.read_excel('Content Analysis Data/Eco-Friendly Iron Codes.xlsx')\n",
    "dataset12=dataset12[['Coded Text','Name']]\n",
    "dataset12.rename(columns={'Coded Text': 'Reviews','Name':'Aspect'}, inplace=True)\n",
    "dataset13= pd.read_excel('Content Analysis Data/Eco-Friendly Washing Machine Codes.xlsx')\n",
    "dataset13=dataset13[['Coded Text','Name']]\n",
    "dataset13.rename(columns={'Coded Text': 'Reviews','Name':'Aspect'}, inplace=True)\n",
    "dataset14= pd.read_excel('Content Analysis Data/Fair Trade Towels Codes.xlsx')\n",
    "dataset14=dataset14[['Coded Text','Name']]\n",
    "dataset14.rename(columns={'Coded Text': 'Reviews','Name':'Aspect'}, inplace=True)\n",
    "dataset15= pd.read_excel('Content Analysis Data/Induction Cooktop Codes.xlsx')\n",
    "dataset15=dataset15[['Coded Text','Name']]\n",
    "dataset15.rename(columns={'Coded Text': 'Reviews','Name':'Aspect'}, inplace=True)\n",
    "dataset16= pd.read_excel('Content Analysis Data/LED Bulb Codes.xlsx')\n",
    "dataset16=dataset16[['Coded Text','Name']]\n",
    "dataset16.rename(columns={'Coded Text': 'Reviews','Name':'Aspect'}, inplace=True)\n",
    "dataset17= pd.read_excel('Content Analysis Data/Messenger Bag Codes.xlsx')\n",
    "dataset17=dataset17[['Coded Text','Name']]\n",
    "dataset17.rename(columns={'Coded Text': 'Reviews','Name':'Aspect'}, inplace=True)\n",
    "dataset18= pd.read_excel('Content Analysis Data/Pens Made of Recycled Bottles Codes.xlsx')\n",
    "dataset18=dataset18[['Coded Text','Name']]\n",
    "dataset18.rename(columns={'Coded Text': 'Reviews','Name':'Aspect'}, inplace=True)\n",
    "dataset19= pd.read_excel('Content Analysis Data/Rechargable Batteries Codes.xlsx')\n",
    "dataset19=dataset19[['Coded Text','Name']]\n",
    "dataset19.rename(columns={'Coded Text': 'Reviews','Name':'Aspect'}, inplace=True)\n",
    "dataset20= pd.read_excel('Content Analysis Data/Reclaimed Wood Panels Codes.xlsx')\n",
    "dataset20=dataset20[['Coded Text','Name']]\n",
    "dataset20.rename(columns={'Coded Text': 'Reviews','Name':'Aspect'}, inplace=True)\n",
    "dataset21= pd.read_excel('Content Analysis Data/Recycled Aluminum Foil Codes.xlsx')\n",
    "dataset21=dataset21[['Coded Text','Name']]\n",
    "dataset21.rename(columns={'Coded Text': 'Reviews','Name':'Aspect'}, inplace=True)\n",
    "dataset22= pd.read_excel('Content Analysis Data/Recycled Material Watch Codes.xlsx')\n",
    "dataset22=dataset22[['Coded Text','Name']]\n",
    "dataset22.rename(columns={'Coded Text': 'Reviews','Name':'Aspect'}, inplace=True)\n",
    "dataset23= pd.read_excel('Content Analysis Data/Recycled Matt Codes.xlsx')\n",
    "dataset23=dataset23[['Coded Text','Name']]\n",
    "dataset23.rename(columns={'Coded Text': 'Reviews','Name':'Aspect'}, inplace=True)\n",
    "dataset24= pd.read_excel('Content Analysis Data/Recycled Notebook Codes.xlsx')\n",
    "dataset24=dataset24[['Coded Text','Name']]\n",
    "dataset24.rename(columns={'Coded Text': 'Reviews','Name':'Aspect'}, inplace=True)\n",
    "dataset25= pd.read_excel('Content Analysis Data/Recycled Paper Codes.xlsx')\n",
    "dataset25=dataset25[['Coded Text','Name']]\n",
    "dataset25.rename(columns={'Coded Text': 'Reviews','Name':'Aspect'}, inplace=True)\n",
    "dataset26= pd.read_excel('Content Analysis Data/Recycled Plastic Rug Codes.xlsx')\n",
    "dataset26=dataset26[['Coded Text','Name']]\n",
    "dataset26.rename(columns={'Coded Text': 'Reviews','Name':'Aspect'}, inplace=True)\n",
    "dataset27= pd.read_excel('Content Analysis Data/Recycled Seatbelt Guitar Strap Codes.xlsx')\n",
    "dataset27=dataset27[['Coded Text','Name']]\n",
    "dataset27.rename(columns={'Coded Text': 'Reviews','Name':'Aspect'}, inplace=True)\n",
    "dataset28= pd.read_excel('Content Analysis Data/Recycled Toilet Paper Codes.xlsx')\n",
    "dataset28=dataset28[['Coded Text','Name']]\n",
    "dataset28.rename(columns={'Coded Text': 'Reviews','Name':'Aspect'}, inplace=True)\n",
    "dataset29= pd.read_excel('Content Analysis Data/Recycled Toothbrush Codes.xlsx')\n",
    "dataset29=dataset29[['Coded Text','Name']]\n",
    "dataset29.rename(columns={'Coded Text': 'Reviews','Name':'Aspect'}, inplace=True)\n",
    "dataset30= pd.read_excel('Content Analysis Data/Reusable Babyfood Pouch Codes.xlsx')\n",
    "dataset30=dataset30[['Coded Text','Name']]\n",
    "dataset30.rename(columns={'Coded Text': 'Reviews','Name':'Aspect'}, inplace=True)\n",
    "dataset31= pd.read_excel('Content Analysis Data/Reusable Coffee Filter Codes.xlsx')\n",
    "dataset31=dataset31[['Coded Text','Name']]\n",
    "dataset31.rename(columns={'Coded Text': 'Reviews','Name':'Aspect'}, inplace=True)\n",
    "dataset32= pd.read_excel('Content Analysis Data/Reusable Notebook Codes.xlsx')\n",
    "dataset32=dataset32[['Coded Text','Name']]\n",
    "dataset32.rename(columns={'Coded Text': 'Reviews','Name':'Aspect'}, inplace=True)\n",
    "dataset33= pd.read_excel('Content Analysis Data/Reusable Sandwich Bag Codes.xlsx')\n",
    "dataset33=dataset33[['Coded Text','Name']]\n",
    "dataset33.rename(columns={'Coded Text': 'Reviews','Name':'Aspect'}, inplace=True)\n",
    "dataset34= pd.read_excel('Content Analysis Data/Reusable Sanitary Pads Codes.xlsx')\n",
    "dataset34=dataset34[['Coded Text','Name']]\n",
    "dataset34.rename(columns={'Coded Text': 'Reviews','Name':'Aspect'}, inplace=True)\n",
    "dataset35= pd.read_excel('Content Analysis Data/Reusable Teabags Codes.xlsx')\n",
    "dataset35=dataset35[['Coded Text','Name']]\n",
    "dataset35.rename(columns={'Coded Text': 'Reviews','Name':'Aspect'}, inplace=True)\n",
    "dataset36= pd.read_excel('Content Analysis Data/Reusable Waterbottle Codes.xlsx')\n",
    "dataset36=dataset36[['Coded Text','Name']]\n",
    "dataset36.rename(columns={'Coded Text': 'Reviews','Name':'Aspect'}, inplace=True)\n",
    "dataset37= pd.read_excel('Content Analysis Data/Shower Timer Codes.xlsx')\n",
    "dataset37=dataset37[['Coded Text','Name']]\n",
    "dataset37.rename(columns={'Coded Text': 'Reviews','Name':'Aspect'}, inplace=True)\n",
    "dataset38= pd.read_excel('Content Analysis Data/Solar Candles Codes.xlsx')\n",
    "dataset38=dataset38[['Coded Text','Name']]\n",
    "dataset38.rename(columns={'Coded Text': 'Reviews','Name':'Aspect'}, inplace=True)\n",
    "dataset39= pd.read_excel('Content Analysis Data/Solar Charger Codes.xlsx')\n",
    "dataset39=dataset39[['Coded Text','Name']]\n",
    "dataset39.rename(columns={'Coded Text': 'Reviews','Name':'Aspect'}, inplace=True)\n",
    "dataset40= pd.read_excel('Content Analysis Data/Solar Keyboard Codes.xlsx')\n",
    "dataset40=dataset40[['Coded Text','Name']]\n",
    "dataset40.rename(columns={'Coded Text': 'Reviews','Name':'Aspect'}, inplace=True)\n",
    "dataset41= pd.read_excel('Content Analysis Data/Solar Powered Air Conditioner Codes.xlsx')\n",
    "dataset41=dataset41[['Coded Text','Name']]\n",
    "dataset41.rename(columns={'Coded Text': 'Reviews','Name':'Aspect'}, inplace=True)\n",
    "dataset42= pd.read_excel('Content Analysis Data/Reusable Coffee Cup Codes.xlsx')\n",
    "dataset42=dataset42[['Coded Text','Name']]\n",
    "dataset42.rename(columns={'Coded Text': 'Reviews','Name':'Aspect'}, inplace=True)"
   ]
  },
  {
   "cell_type": "markdown",
   "id": "5f9d4b7f",
   "metadata": {},
   "source": [
    "##### Saving Data into DataFrame "
   ]
  },
  {
   "cell_type": "code",
   "execution_count": 6,
   "id": "2f11af9c",
   "metadata": {},
   "outputs": [],
   "source": [
    "import pandas as pd\n",
    "\n",
    "# Assuming you have DataFrames named dataset1, dataset2, ..., dataset42\n",
    "\n",
    "# Sample code to create and concatenate DataFrames\n",
    "num_datasets = 42\n",
    "dfs = []\n",
    "\n",
    "for i in range(1, num_datasets + 1):\n",
    "    # Assume you have DataFrames named dataset1, dataset2, ..., dataset42\n",
    "    df_name = f'dataset{i}'\n",
    "    current_df = globals()[df_name]  # Get the DataFrame by name\n",
    "    dfs.append(current_df)\n",
    "\n",
    "# Concatenate all DataFrames into a single DataFrame\n",
    "result_df = pd.concat(dfs, ignore_index=True)\n",
    "\n",
    "# Print the concatenated DataFrame"
   ]
  },
  {
   "cell_type": "markdown",
   "id": "df8c9af3",
   "metadata": {},
   "source": [
    "##### Remove Extraspaces from data and make data into lower words"
   ]
  },
  {
   "cell_type": "code",
   "execution_count": 7,
   "id": "4db80465",
   "metadata": {},
   "outputs": [],
   "source": [
    "result_df['Aspect'] = result_df['Aspect'].str.strip().str.lower()"
   ]
  },
  {
   "cell_type": "markdown",
   "id": "8c82aa1b",
   "metadata": {},
   "source": [
    "##### Mapping Data"
   ]
  },
  {
   "cell_type": "code",
   "execution_count": 8,
   "id": "ec3c5628",
   "metadata": {},
   "outputs": [],
   "source": [
    "# Correct specific variations\n",
    "corrections = {\n",
    "    'performence': 'performance',\n",
    "    'misscelaneous': 'miscellaneous',\n",
    "    'ergonomis': 'ergonomics',\n",
    "    'aesthetic': 'aesthetics',\n",
    "    'use efficency': 'use efficiency',\n",
    "    'miscellaenous': 'miscellaneous',\n",
    "    'frequency of use':'ease of use',\n",
    "    'use efficency':'use efficiency',\n",
    "    'ease ofuse':'ease of use',\n",
    "    'frequency of reprocessing':'ease of reprocessing'\n",
    "}\n",
    "\n",
    "result_df['Aspect'] = result_df['Aspect'].replace(corrections)"
   ]
  },
  {
   "cell_type": "markdown",
   "id": "8852ca1f",
   "metadata": {},
   "source": [
    "##### Map the words that are most nearest"
   ]
  },
  {
   "cell_type": "code",
   "execution_count": 9,
   "id": "0545358a",
   "metadata": {},
   "outputs": [],
   "source": [
    "\n",
    "# Mapping dictionary for additional categories\n",
    "additional_category_mapping = {\n",
    "    'miscellaneous': 'aesthetics',\n",
    "    'product feel': 'aesthetics',\n",
    "    'space utilization': 'ease of storage',\n",
    "    'ease of installation': 'ease of use',\n",
    "    'entertainment value': 'performance',\n",
    "    'controlability': 'interference',\n",
    "    'content volume': 'use efficiency',\n",
    "    'stability': 'durability'\n",
    "}\n",
    "\n",
    "# Map the additional categories using the mapping dictionary\n",
    "result_df['Aspect'] = result_df['Aspect'].map(additional_category_mapping).fillna(result_df['Aspect'])\n",
    "\n",
    "# Print the DataFrame with mapped categories\n"
   ]
  },
  {
   "cell_type": "markdown",
   "id": "32f85991",
   "metadata": {},
   "source": [
    "##### Map the Categories in correct Format"
   ]
  },
  {
   "cell_type": "code",
   "execution_count": 10,
   "id": "fc9222e4",
   "metadata": {},
   "outputs": [],
   "source": [
    "import pandas as pd\n",
    "\n",
    "# Mapping dictionary\n",
    "category_mapping = {\n",
    "    'aesthetics': 'Aesthetics',\n",
    "    'ease of reprocessing': 'Ease of Reprocessing',\n",
    "    'durability': 'Durability',\n",
    "    'use efficiency': 'Use Efficiency',\n",
    "    'performance': 'Performance',\n",
    "    'adaptability': 'Adaptability',\n",
    "    'ergonomics': 'Ergonomics',\n",
    "    'ease of storage': 'Ease of Storage',\n",
    "    'ease of use': 'Ease of Use',\n",
    "    'interference': 'Interference',\n",
    "    'safety': 'Safety',\n",
    "    'price': 'Price'\n",
    "}\n",
    "\n",
    "# Map the categories using the mapping dictionary\n",
    "result_df['Aspect'] = result_df['Aspect'].map(category_mapping).fillna(result_df['Aspect'])"
   ]
  },
  {
   "cell_type": "markdown",
   "id": "4bc351ea",
   "metadata": {},
   "source": [
    "##### Drop Nan Values"
   ]
  },
  {
   "cell_type": "code",
   "execution_count": 11,
   "id": "89e932c3",
   "metadata": {},
   "outputs": [],
   "source": [
    "result_df = result_df.dropna(subset=['Reviews'])"
   ]
  },
  {
   "cell_type": "markdown",
   "id": "072f9243",
   "metadata": {},
   "source": [
    "##### Store Data into csv File "
   ]
  },
  {
   "cell_type": "code",
   "execution_count": 13,
   "id": "a4dcb066",
   "metadata": {},
   "outputs": [],
   "source": [
    "result_df.to_csv('Amazon Reviews Validation Data.csv', index=False)"
   ]
  },
  {
   "cell_type": "code",
   "execution_count": null,
   "id": "56906fc3",
   "metadata": {},
   "outputs": [],
   "source": []
  }
 ],
 "metadata": {
  "kernelspec": {
   "display_name": "Python 3 (ipykernel)",
   "language": "python",
   "name": "python3"
  },
  "language_info": {
   "codemirror_mode": {
    "name": "ipython",
    "version": 3
   },
   "file_extension": ".py",
   "mimetype": "text/x-python",
   "name": "python",
   "nbconvert_exporter": "python",
   "pygments_lexer": "ipython3",
   "version": "3.9.18"
  }
 },
 "nbformat": 4,
 "nbformat_minor": 5
}
