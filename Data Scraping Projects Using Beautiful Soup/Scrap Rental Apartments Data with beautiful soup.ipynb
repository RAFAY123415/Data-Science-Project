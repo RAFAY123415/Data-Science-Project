{
 "cells": [
  {
   "cell_type": "code",
   "execution_count": 10,
   "id": "e7d7e3ab",
   "metadata": {},
   "outputs": [],
   "source": [
    "import requests\n",
    "from bs4 import BeautifulSoup\n",
    "import csv"
   ]
  },
  {
   "cell_type": "code",
   "execution_count": 16,
   "id": "4823a757",
   "metadata": {},
   "outputs": [],
   "source": [
    "url='https://www.pararius.com/apartments/amsterdam?ac=1'"
   ]
  },
  {
   "cell_type": "code",
   "execution_count": 17,
   "id": "b9a2802c",
   "metadata": {},
   "outputs": [],
   "source": [
    "page=requests.get(url)"
   ]
  },
  {
   "cell_type": "code",
   "execution_count": 18,
   "id": "0460641b",
   "metadata": {},
   "outputs": [],
   "source": [
    "soup=BeautifulSoup(page.content,'html.parser')"
   ]
  },
  {
   "cell_type": "code",
   "execution_count": 20,
   "id": "21f3c5e4",
   "metadata": {},
   "outputs": [
    {
     "data": {
      "text/plain": [
       "<!DOCTYPE html>\n",
       "\n",
       "<html>\n",
       "<head>\n",
       "<script defer=\"\" src=\"/cgi-bin/fl/static/fl.min.js?393cda3b\"></script>\n",
       "<style>\n",
       "\t@font-face {\n",
       "\t\tfont-family: 'Noto Serif';\n",
       "\t\tfont-style: normal;\n",
       "\t\tfont-weight: 400;\n",
       "\t\tsrc: url('https://static.fairlane.cloud/fonts/noto-serif-v21-latin-regular.eot'); /* IE9 Compat Modes */\n",
       "\t\tsrc: local(''),\n",
       "\t\t\turl('https://static.fairlane.cloud/fonts/noto-serif-v21-latin-regular.eot?#iefix') format('embedded-opentype'), /* IE6-IE8 */\n",
       "\t\t\turl('https://static.fairlane.cloud/fonts/noto-serif-v21-latin-regular.woff2') format('woff2'), /* Super Modern Browsers */\n",
       "\t\t\turl('https://static.fairlane.cloud/fonts/noto-serif-v21-latin-regular.woff') format('woff'), /* Modern Browsers */\n",
       "\t\t\turl('https://static.fairlane.cloud/fonts/noto-serif-v21-latin-regular.ttf') format('truetype'), /* Safari, Android, iOS */\n",
       "\t\t\turl('https://static.fairlane.cloud/fonts/noto-serif-v21-latin-regular.svg#NotoSerif') format('svg'); /* Legacy iOS */\n",
       "\t}\n",
       "\tbody{\n",
       "\t\tfont-family: 'Noto Serif', serif;\n",
       "\t\tbackground-color: #white;\n",
       "\t}\n",
       "\tnoscript {\n",
       "\t\tcolor: red;\n",
       "\t}\n",
       "\t.text-box{\n",
       "\t\tcolor: #black;\n",
       "\t\ttext-align: center;\n",
       "\t\ttext-decoration: none;\n",
       "\t\tdisplay: inline-block;\n",
       "\t\tfont-size: 12px;\n",
       "\t\tmargin: 4px 2px;\n",
       "\t\tcursor: pointer;\n",
       "\t\tdisplay: flex;\n",
       "\t\tflex-direction: column;\n",
       "\t\tjustify-content: center;\n",
       "\t\talign-items: center;\n",
       "\t}\n",
       "\n",
       "\t.container{\n",
       "\t\theight: 100%;\n",
       "\t\twidth: 40px;\n",
       "\t\tmargin: 20px auto;\n",
       "\t}\n",
       "\n",
       "\t.vc {\n",
       "\t\tposition: absolute;\n",
       "\t\ttop: 50%;\n",
       "\t\tleft: 50%;\n",
       "\t\t-moz-transform: translateX(-50%) translateY(-50%);\n",
       "\t\t-webkit-transform: translateX(-50%) translateY(-50%);\n",
       "\t\ttransform: translateX(-50%) translateY(-50%);}\n",
       "\t.box{\n",
       "\t\twidth: 15px;\n",
       "\t\theight: 15px;\n",
       "\t\tbackground-color: #123356;\n",
       "\t\tdisplay: inline-block;\n",
       "\t\tanimation: pulse 0.6s ease-in infinite alternate;\n",
       "\t}\n",
       "\t.box2, .box3{\n",
       "\t\tanimation-delay: 0.6s;\n",
       "\t}\n",
       "\n",
       "\t@Keyframes pulse{\n",
       "\t\t100%{\n",
       "\t\t\topacity: 0;\n",
       "\t\t}\n",
       "\t}\n",
       "\t@media only screen and (max-device-width: 480px) {\n",
       "\t.text-box{\n",
       "\t\tfont-size: 20px;\n",
       "\t}\n",
       "\tbutton {\n",
       "\t\tfont-size: 20px;\n",
       "\t}\n",
       "\t</style>\n",
       "<meta content=\"no-cache\" http-equiv=\"Cache-control\"/>\n",
       "<meta content=\"max-age=0\" http-equiv=\"cache-control\"/>\n",
       "<meta content=\"no-cache\" http-equiv=\"cache-control\"/>\n",
       "<meta content=\"-1\" http-equiv=\"expires\"/>\n",
       "<meta content=\"Tue, 01 Jan 1980 11:00:00 GMT\" http-equiv=\"expires\"/>\n",
       "<meta content=\"no-cache\" http-equiv=\"pragma\"/>\n",
       "</head>\n",
       "\n",
       "<body>\n",
       "<div class=\"vc\">\n",
       "<div class=\"text-box\">\n",
       "<img src=\"https://static.fairlane.cloud/FAIRLANE_LOGO_WOORD_DEF.png\" style=\"width:200px;\"/>\n",
       "<div class=\"container\">\n",
       "<div class=\"box box1\"></div>\n",
       "<div class=\"box box2\"></div>\n",
       "<div class=\"box box3\"></div>\n",
       "<div class=\"box box4\"></div>\n",
       "</div>\n",
       "<noscript>\n",
       "<h1> www.pararius.com requires JavaScript. Please enable JavaScript and refresh this page. </h1>\n",
       "</noscript>\n",
       "<h2>\n",
       "\t\t\tChecking your browser before accessing www.pararius.com.\n",
       "\t\t\t</h2>\n",
       "<h3>\n",
       "\t\t\t\tThis process is automatic. Your browser will redirect to your requested content shortly.\n",
       "\t\t\t\tPlease allow up to 5 secondsâ€¦\n",
       "\t\t\t</h3>\n",
       "</div>\n",
       "<noscript>\n",
       "<h1> This page requires JavaScript. Please enable JavaScript and refresh this page. </h1>\n",
       "</noscript>\n",
       "</div>\n",
       "</body>\n",
       "<script>\n",
       "\tif(!navigator.cookieEnabled) {\n",
       "\t\tdocument.getElementsByClassName(\"text-box\")[0].innerHTML += `<h3 style='color: red;'> Please enable cookies and refresh this page. </h3>`\n",
       "\t}\n",
       "\t</script>\n",
       "</html>"
      ]
     },
     "execution_count": 20,
     "metadata": {},
     "output_type": "execute_result"
    }
   ],
   "source": [
    "soup"
   ]
  },
  {
   "cell_type": "code",
   "execution_count": 19,
   "id": "62027f27",
   "metadata": {},
   "outputs": [],
   "source": [
    "lists=soup.find_all('section',class_=\"listing-search-item\")"
   ]
  },
  {
   "cell_type": "code",
   "execution_count": 15,
   "id": "65bcd414",
   "metadata": {},
   "outputs": [
    {
     "data": {
      "text/plain": [
       "[]"
      ]
     },
     "execution_count": 15,
     "metadata": {},
     "output_type": "execute_result"
    }
   ],
   "source": [
    "lists"
   ]
  },
  {
   "cell_type": "code",
   "execution_count": 17,
   "id": "e0b6cc12",
   "metadata": {},
   "outputs": [
    {
     "name": "stdout",
     "output_type": "stream",
     "text": [
      "['Apartment Wolbrantskerkweg', '1069 DA Amsterdam (Osdorp-Midden)', '€2,495 per month', '132 m²', '3 rooms']\n",
      "['Apartment Hagedoornplein', '1031 BV Amsterdam (Volewijck)', '€2,995 per month', '140 m²', '4 rooms']\n",
      "['Apartment Derde Wittenburgerdwarsstraat 99', '1018 KR Amsterdam (Oostelijke Eilanden/Kadijken)', '€2,090 per month', '60 m²', '3 rooms']\n",
      "['Apartment Lindenstraat 1 1', '1015 KV Amsterdam (Jordaan)', '€1,550 per month', '45 m²', '2 rooms']\n",
      "['Apartment Jan Boterenbroodstraat 76', '1019 GK Amsterdam (Oostelijk Havengebied)', '€2,000 per month', '70 m²', '3 rooms']\n",
      "['Apartment Prinsengracht 411 I', '1016 HM Amsterdam (Grachtengordel-West)', '€2,450 per month', '86 m²', '2 rooms']\n",
      "['Apartment Kinkerstraat 60 I', '1053 DZ Amsterdam (Da Costabuurt)', '€1,995 per month', '40 m²', '2 rooms']\n",
      "['Apartment Griseldestraat 11 II', '1055 AR Amsterdam (Erasmuspark)', '€1,550 per month', '51 m²', '2 rooms']\n",
      "['Apartment Prinsengracht', '1016 HW Amsterdam (Jordaan)', '€2,750 per month', '62 m²', '2 rooms']\n",
      "['Apartment Schaepmanstraat', '1051 JJ Amsterdam (Staatsliedenbuurt)', '€1,700 per month', '58 m²', '3 rooms']\n",
      "['Apartment Kerkstraat', '1017 HW Amsterdam (Grachtengordel-Zuid)', '€3,500 per month', '120 m²', '3 rooms']\n",
      "['Apartment Ank van der Moerstraat 31 D', '1065 LH Amsterdam (Slotervaart Zuid)', '€1,395 per month', '30 m²', '2 rooms']\n",
      "['Apartment Woestduinstraat 3 2', '1058 SX Amsterdam (Hoofddorppleinbuurt)', '€1,950 per month', '65 m²', '2 rooms']\n",
      "['Apartment Rooseveltlaan', '1078 NP Amsterdam (Scheldebuurt)', '€1,750 per month', '55 m²', '2 rooms']\n",
      "['Apartment Prinsengracht 447 B', '1016 HN Amsterdam (Grachtengordel-West)', '€2,450 per month', '70 m²', '2 rooms']\n",
      "['Apartment Marco Polostraat', '1057 WG Amsterdam (Hoofdweg e.o.)', '€3,300 per month', '117 m²', '4 rooms']\n",
      "['Apartment Vleutenstraat 94', '1106 CX Amsterdam (Gein)', '€1,650 per month', '71 m²', '3 rooms']\n",
      "['Apartment Reguliersdwarsstraat 100 A', '1017 BN Amsterdam (Grachtengordel-Zuid)', '€2,950 per month', '102 m²', '3 rooms']\n",
      "['Apartment Karel du Jardinstraat', '1072 SK Amsterdam (Nieuwe Pijp)', '€2,450 per month', '55 m²', '3 rooms']\n",
      "['Apartment Ennemaborg', '1082 ST Amsterdam (Buitenveldert-West)', '€1,800 per month', '100 m²', '3 rooms']\n",
      "['Apartment Pieter van der Doesstraat', '1056 VK Amsterdam (Geuzenbuurt)', '€2,900 per month', '90 m²', '5 rooms']\n",
      "['Apartment Johan Hofmanstraat', '1069 KD Amsterdam (Osdorp-Midden)', '€2,350 per month', '160 m²', '4 rooms']\n",
      "['Apartment Nachtwachtlaan', '1058 ER Amsterdam (Overtoomse Veld)', '€1,850 per month', '60 m²', '2 rooms']\n",
      "['Apartment Tweede Oosterparkstraat', '1091 HT Amsterdam (Oosterparkbuurt)', '€1,045 per month', '35 m²', '1 room']\n",
      "['Project: Q-Residences | Quartz - APPARTEMENT H–G LUXE', '1081 AB Amsterdam (Buitenveldert-West)', '€1,900 - €1,925 per month', '74 m²', '3 rooms']\n",
      "['Project: Q-Residences | Quartz - APPARTEMENT H–F’ LUXE', '1081 AB Amsterdam (Buitenveldert-West)', '€1,950 - €2,000 per month', '77 m²', '3 rooms']\n",
      "['Project: Q-Residences | Quartz - APPARTEMENT H–I’ LUXE', '1081 AB Amsterdam (Buitenveldert-West)', '€2,790 - €2,850 per month', '107 m²', '4 rooms']\n",
      "['Project: Q-Residences | Quartz - APPARTEMENT H–F LUXE', '1081 AB Amsterdam (Buitenveldert-West)', '€1,950 - €2,000 per month', '77 m²', '3 rooms']\n",
      "['Project: Q-Residences | Quartz - APPARTEMENT H–I EXCLUSIEF', '1081 AB Amsterdam (Buitenveldert-West)', '€3,225 per month', '107 m²', '4 rooms']\n",
      "['Project: Q-Residences | Quartz - APPARTEMENT H–I’ EXCLUSIEF', '1081 AB Amsterdam (Buitenveldert-West)', '€3,225 per month', '107 m²', '4 rooms']\n",
      "['Project: Q-Residences | Quartz - APPARTEMENT H–A’ LUXE', '1081 AB Amsterdam (Buitenveldert-West)', '€1,650 - €1,675 per month', '68 m²', '3 rooms']\n",
      "['Project: Q-Residences | Quartz - APPARTEMENT H–G’ LUXE', '1081 AB Amsterdam (Buitenveldert-West)', '€1,900 - €1,925 per month', '74 m²', '3 rooms']\n"
     ]
    }
   ],
   "source": [
    "header = ['Title', 'Location', 'Price', 'Area','Rooms']\n",
    "\n",
    "with open('apartmentdata.csv', 'w', encoding='UTF8',newline='') as f:\n",
    "    writer = csv.writer(f)\n",
    "    writer.writerow(header)\n",
    "    for i in lists :\n",
    "            title=i.find('a',class_=\"listing-search-item__link--title\").text.replace('\\n','').strip()\n",
    "            location=i.find('div',class_=\"listing-search-item__sub-title\").text.replace('\\n','').strip()\n",
    "            price=i.find('div',class_=\"listing-search-item__price\").text.replace('\\n','').strip()\n",
    "            area=i.find('li',class_=\"illustrated-features__item--surface-area\").text.replace('\\n','').strip()\n",
    "            rooms=i.find('li',class_=\"illustrated-features__item--number-of-rooms\").text.replace('\\n','').strip()\n",
    "            info=[title,location,price,area,rooms]\n",
    "            print(info)\n",
    "            writer.writerow(info)\n",
    "\n"
   ]
  },
  {
   "cell_type": "code",
   "execution_count": null,
   "id": "f2a49e92",
   "metadata": {},
   "outputs": [],
   "source": []
  }
 ],
 "metadata": {
  "kernelspec": {
   "display_name": "Python 3 (ipykernel)",
   "language": "python",
   "name": "python3"
  },
  "language_info": {
   "codemirror_mode": {
    "name": "ipython",
    "version": 3
   },
   "file_extension": ".py",
   "mimetype": "text/x-python",
   "name": "python",
   "nbconvert_exporter": "python",
   "pygments_lexer": "ipython3",
   "version": "3.9.15"
  }
 },
 "nbformat": 4,
 "nbformat_minor": 5
}
