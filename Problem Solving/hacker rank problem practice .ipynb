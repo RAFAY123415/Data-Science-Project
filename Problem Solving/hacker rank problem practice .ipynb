{
 "cells": [
  {
   "cell_type": "markdown",
   "metadata": {},
   "source": [
    "# Find out the maximum length string in the list"
   ]
  },
  {
   "cell_type": "code",
   "execution_count": 6,
   "metadata": {},
   "outputs": [
    {
     "name": "stdout",
     "output_type": "stream",
     "text": [
      "The name of string is mamdasmdsamdmsd,The length of string is 15,The element index is 4\n"
     ]
    }
   ],
   "source": [
    "abc=['abcddd','abcdaed','jjkhkhkhk','lalalala','mamdasmdsamdmsd']\n",
    "len_=0\n",
    "for find_maximum_len in abc :\n",
    "    if len(find_maximum_len)>len_ :\n",
    "        store_element=find_maximum_len\n",
    "        len_=len(find_maximum_len)\n",
    "        element_index=abc.index(find_maximum_len)\n",
    "        \n",
    "        \n",
    "print(f\"The name of string is {store_element},The length of string is {len_},The element index is{element_index}\")"
   ]
  },
  {
   "cell_type": "markdown",
   "metadata": {},
   "source": [
    "# Reverse a number using recursion"
   ]
  },
  {
   "cell_type": "code",
   "execution_count": 1,
   "metadata": {},
   "outputs": [
    {
     "name": "stdout",
     "output_type": "stream",
     "text": [
      "Enter number: 457\n",
      "Reverse of 457 is 754\n"
     ]
    }
   ],
   "source": [
    "\n",
    "def reverse(n, r):\n",
    "    if n==0:\n",
    "        return r\n",
    "    else:\n",
    "        return reverse(n//10, r*10 + n%10)\n",
    "\n",
    "# Read number\n",
    "number = int(input(\"Enter number: \"))\n",
    "\n",
    "# Function call\n",
    "reversed_number = reverse(number,0)\n",
    "\n",
    "# Display output\n",
    "print(\"Reverse of %d is %d\" %(number, reversed_number))"
   ]
  },
  {
   "cell_type": "markdown",
   "metadata": {},
   "source": [
    "#### Reverse a digit"
   ]
  },
  {
   "cell_type": "code",
   "execution_count": 31,
   "metadata": {},
   "outputs": [
    {
     "name": "stdout",
     "output_type": "stream",
     "text": [
      "Enter number: 7676\n",
      "6\n",
      "767\n",
      "67\n",
      "76\n",
      "676\n",
      "7\n",
      "6767\n",
      "0\n",
      "The reverse of the number: 6767\n"
     ]
    }
   ],
   "source": [
    "n = int(input(\"Enter number: \"))  \n",
    "  \n",
    "reverse = 0  \n",
    "  \n",
    "while(n>0):  \n",
    "    digit = n%10\n",
    "    reverse = reverse*10+digit\n",
    "    print(reverse)\n",
    "    n=n//10\n",
    "    print(n)\n",
    "print(\"The reverse of the number:\",reverse)  "
   ]
  },
  {
   "cell_type": "markdown",
   "metadata": {},
   "source": [
    "#### Write a program in Python to check if a sequence is a Palindrome.\n"
   ]
  },
  {
   "cell_type": "code",
   "execution_count": 9,
   "metadata": {},
   "outputs": [
    {
     "name": "stdout",
     "output_type": "stream",
     "text": [
      "not palidrom\n"
     ]
    }
   ],
   "source": [
    "def palidromnumber() :\n",
    "    number='243'\n",
    "    number2=number[::-1]\n",
    "    if number==number2 :\n",
    "        print('Palidrom')\n",
    "    else :\n",
    "        print('not palidrom')\n",
    "\n",
    "palidromnumber()"
   ]
  },
  {
   "cell_type": "markdown",
   "metadata": {},
   "source": [
    "#### Write a program to produce Fibonacci series in Python.\n",
    "#### Fn = Fn-1 + Fn-2, where n > 1."
   ]
  },
  {
   "cell_type": "code",
   "execution_count": 9,
   "metadata": {},
   "outputs": [
    {
     "name": "stdout",
     "output_type": "stream",
     "text": [
      "0\n",
      "1\n",
      "1\n",
      "2\n",
      "3\n",
      "5\n",
      "8\n",
      "13\n",
      "21\n",
      "34\n"
     ]
    }
   ],
   "source": [
    "def fabonacci (seriesnumber) :\n",
    "    n,n1=0,1\n",
    "    count=0\n",
    "    if seriesnumber==0 :\n",
    "        return seriesnumber \n",
    "    if seriesnumber==1 :\n",
    "        return n\n",
    "    else :\n",
    "        while(count<seriesnumber) :\n",
    "            print(n)\n",
    "            nth=n+n1\n",
    "            n=n1\n",
    "            n1=nth\n",
    "            count=count+1\n",
    "\n",
    "fabonacci (10)"
   ]
  },
  {
   "cell_type": "markdown",
   "metadata": {},
   "source": [
    "# Python program to display the Fibonacci sequence using recursion\n"
   ]
  },
  {
   "cell_type": "code",
   "execution_count": null,
   "metadata": {},
   "outputs": [],
   "source": [
    "# Python program to display the Fibonacci sequence\n",
    "\n",
    "def recur_fibo(n):\n",
    "   if n <= 1:\n",
    "       return n\n",
    "   else:\n",
    "       return(recur_fibo(n-1) + recur_fibo(n-2))\n",
    "\n",
    "nterms = 10\n",
    "\n",
    "# check if the number of terms is valid\n",
    "if nterms <= 0:\n",
    "   print(\"Plese enter a positive integer\")\n",
    "else:\n",
    "   print(\"Fibonacci sequence:\")\n",
    "   for i in range(nterms):\n",
    "       print(recur_fibo(i))"
   ]
  },
  {
   "cell_type": "markdown",
   "metadata": {},
   "source": [
    "#### Check weather a number is prime or not"
   ]
  },
  {
   "cell_type": "code",
   "execution_count": 28,
   "metadata": {},
   "outputs": [
    {
     "name": "stdout",
     "output_type": "stream",
     "text": [
      "prime number 2\n",
      "prime number 3\n",
      "prime number 5\n",
      "prime number 7\n",
      "prime number 11\n",
      "prime number 13\n",
      "prime number 17\n",
      "prime number 19\n"
     ]
    }
   ],
   "source": [
    "count=0\n",
    "for i in range(2,20) :\n",
    "    for j in range(2,20) :\n",
    "        if i%j==0 :\n",
    "            count=count+1\n",
    "    if count==1 :\n",
    "        print('prime number',i)\n",
    "    count=0"
   ]
  },
  {
   "cell_type": "code",
   "execution_count": 5,
   "metadata": {},
   "outputs": [
    {
     "name": "stdout",
     "output_type": "stream",
     "text": [
      "9  is a Prime Number!\n"
     ]
    }
   ],
   "source": [
    "from math import sqrt\n",
    "\n",
    "# Number to be checked for prime\n",
    "n = 9\n",
    "\n",
    "flag = 0\n",
    "\n",
    "if(n > 1):\n",
    "\tfor k in range(2, int(sqrt(n)) + 1):\n",
    "\t\tif (n % k == 0):\n",
    "\t\t\tflag = 1\n",
    "\t\tbreak\n",
    "\tif (flag == 0):\n",
    "\t\tprint(n,\" is a Prime Number!\")\n",
    "\telse:\n",
    "\t\tprint(n,\" is Not a Prime Number!\")\n",
    "else:\n",
    "\tprint(n,\" is Not a Prime Number!\")"
   ]
  },
  {
   "cell_type": "markdown",
   "metadata": {},
   "source": [
    "#### Find the maximum and minimum number from an array"
   ]
  },
  {
   "cell_type": "code",
   "execution_count": 13,
   "metadata": {},
   "outputs": [
    {
     "name": "stdout",
     "output_type": "stream",
     "text": [
      "THE MAXIMUM NUMBER 9\n",
      "THE MINIMUM NUMBER 0\n"
     ]
    }
   ],
   "source": [
    "list_=[2,6,1,4,9,7,9,9,0]\n",
    "maximum=list_[0]\n",
    "minimum=list_[0]\n",
    "for j in range(1,len(list_)) :\n",
    "    if list_[j]>maximum :\n",
    "            maximum=list_[j]\n",
    "    if list_[j]<minimum :\n",
    "            minimum=list_[j]\n",
    "\n",
    "                   \n",
    "                   \n",
    "print('THE MAXIMUM NUMBER',maximum)  \n",
    "print('THE MINIMUM NUMBER',minimum)        "
   ]
  },
  {
   "cell_type": "markdown",
   "metadata": {},
   "source": [
    "#### Find nth Maximum Number from an array"
   ]
  },
  {
   "cell_type": "code",
   "execution_count": 17,
   "metadata": {},
   "outputs": [
    {
     "name": "stdout",
     "output_type": "stream",
     "text": [
      "6\n"
     ]
    }
   ],
   "source": [
    "list_=[2,6,1,4,9,7,9,9,0]\n",
    "\n",
    "maximum2=[]\n",
    "\n",
    "for i in range(0,3) :\n",
    "    maximum1=list_[0]\n",
    "    for j in range(1,len(list_)) :\n",
    "        if list_[j] in maximum2 :\n",
    "            continue\n",
    "        elif list_[j]>maximum1 :\n",
    "            maximum1=list_[j]\n",
    "    maximum2.append(maximum1)\n",
    "\n",
    "                   \n",
    "                   \n",
    "print(maximum1)  "
   ]
  },
  {
   "cell_type": "markdown",
   "metadata": {},
   "source": [
    "#### Find Factorial"
   ]
  },
  {
   "cell_type": "code",
   "execution_count": 49,
   "metadata": {},
   "outputs": [
    {
     "name": "stdout",
     "output_type": "stream",
     "text": [
      "The factorial of 2 is 2\n"
     ]
    }
   ],
   "source": [
    "# Factorial of a number using recursion\n",
    "\n",
    "def recur_factorial(n):\n",
    "   if n == 1:\n",
    "       return n\n",
    "   else:\n",
    "       return n*recur_factorial(n-1)\n",
    "\n",
    "num = 2\n",
    "\n",
    "# check if the number is negative\n",
    "if num < 0:\n",
    "   print(\"Sorry, factorial does not exist for negative numbers\")\n",
    "elif num == 0:\n",
    "   print(\"The factorial of 0 is 1\")\n",
    "else:\n",
    "   print(\"The factorial of\", num, \"is\", recur_factorial(num))"
   ]
  },
  {
   "cell_type": "markdown",
   "metadata": {},
   "source": [
    "# REMOVE THE DUPLICATES FROM THE ARRAY"
   ]
  },
  {
   "cell_type": "code",
   "execution_count": 42,
   "metadata": {},
   "outputs": [
    {
     "name": "stdout",
     "output_type": "stream",
     "text": [
      "THE ARRAY CONTAINING NON DUPLICATE NUMBERS [2, 1, 5, 6, 7]\n"
     ]
    }
   ],
   "source": [
    "arr=[2,1,1,1,1,5,5,5,6,6,7,7]\n",
    "key_value={}\n",
    "for i in arr:\n",
    "    key_value[i]=arr.count(i)\n",
    " \n",
    "for i,j in key_value.items() :\n",
    "    if j>1 :\n",
    "        for k in range(0,j-1) :\n",
    "            arr.remove(i)\n",
    "print('THE ARRAY CONTAINING NON DUPLICATE NUMBERS',arr)"
   ]
  },
  {
   "cell_type": "markdown",
   "metadata": {},
   "source": [
    "# Sort a string"
   ]
  },
  {
   "cell_type": "code",
   "execution_count": 1,
   "metadata": {},
   "outputs": [
    {
     "name": "stdout",
     "output_type": "stream",
     "text": [
      "Enter the string : bcv\n",
      "bcv\n"
     ]
    }
   ],
   "source": [
    "string = input(\"Enter the string : \")\n",
    "str_ = list(string)\n",
    "\n",
    "for i in range(0, len(str_)):\n",
    "    for j in range(0, len(str_)):\n",
    "        if(str_[j] > str_[i]):\n",
    "            temp = str_[i]\n",
    "            str_[i] = str_[j]\n",
    "            str_[j] = temp\n",
    "            \n",
    "print(''.join(str_))"
   ]
  },
  {
   "cell_type": "markdown",
   "metadata": {},
   "source": [
    "# MERGE TWO LINKLIST INTO ONE LIST "
   ]
  },
  {
   "cell_type": "code",
   "execution_count": null,
   "metadata": {},
   "outputs": [],
   "source": [
    "def mergeLists(head1, head2):\n",
    "    llist3 = SinglyLinkedListNode(0)      \n",
    "    tail=llist3\n",
    "\n",
    "    while True :\n",
    "        if head1 is None :\n",
    "            tail.next=head2\n",
    "            break\n",
    "        if head2 is None :\n",
    "            tail.next=head1ew\n",
    "            break\n",
    "        if head1.data <= head2.data:\n",
    "            tail.next = head1\n",
    "            head1 = head1.next\n",
    "\n",
    "        else:\n",
    "            tail.next = head2\n",
    "            head2 = head2.next\n",
    "\n",
    "        tail = tail.next\n",
    "        \n",
    "    return llist3.next\n",
    "    "
   ]
  },
  {
   "cell_type": "markdown",
   "metadata": {},
   "source": [
    "# Bubble sort "
   ]
  },
  {
   "cell_type": "code",
   "execution_count": 48,
   "metadata": {},
   "outputs": [
    {
     "name": "stdout",
     "output_type": "stream",
     "text": [
      "[1, 2, 3, 4, 10, 20, 20, 50, 60, 90]\n"
     ]
    }
   ],
   "source": [
    "def bubbleSort(arr): \n",
    "    n = len(arr) \n",
    "  \n",
    "    # Traverse through all array elements \n",
    "    for i in range(n): \n",
    "  \n",
    "        # Last i elements are already in place \n",
    "        for j in range(0, n-1): \n",
    "  \n",
    "            # traverse the array from 0 to n-i-1 \n",
    "            # Swap if the element found is greater \n",
    "            # than the next element \n",
    "            if arr[j] > arr[j+1] : \n",
    "                arr[j], arr[j+1] = arr[j+1], arr[j] \n",
    "    print(arr)\n",
    "                \n",
    "a=[1,20,3,2,90,50,4,60,10,20]\n",
    "\n",
    "bubbleSort(a)"
   ]
  },
  {
   "cell_type": "markdown",
   "metadata": {},
   "source": [
    "# Write a function to sum all the integer elements in a string"
   ]
  },
  {
   "cell_type": "code",
   "execution_count": 24,
   "metadata": {},
   "outputs": [
    {
     "data": {
      "text/plain": [
       "278"
      ]
     },
     "execution_count": 24,
     "metadata": {},
     "output_type": "execute_result"
    }
   ],
   "source": [
    "string_elements=[1,2,3,4,5,6,'abc','abcd',12,245] \n",
    "sum_=0\n",
    "\n",
    "for i in string_elements :\n",
    "    if type(i)==int :\n",
    "        sum_=sum_+i\n",
    "sum_"
   ]
  },
  {
   "cell_type": "markdown",
   "metadata": {},
   "source": [
    "# Find out the Ip address of my system "
   ]
  },
  {
   "cell_type": "code",
   "execution_count": 26,
   "metadata": {},
   "outputs": [
    {
     "name": "stdout",
     "output_type": "stream",
     "text": [
      "Your Computer Name is:DESKTOP-02GO5PU\n",
      "Your Computer IP Address is:192.168.10.4\n"
     ]
    }
   ],
   "source": [
    "# Python Program to Get IP Address\n",
    "import socket\n",
    "hostname = socket.gethostname()\n",
    "IPAddr = socket.gethostbyname(hostname)\n",
    " \n",
    "print(\"Your Computer Name is:\" + hostname)\n",
    "print(\"Your Computer IP Address is:\" + IPAddr)"
   ]
  },
  {
   "cell_type": "code",
   "execution_count": 41,
   "metadata": {},
   "outputs": [
    {
     "data": {
      "text/plain": [
       "[(1, 2), (2, 3), (3, 4), (4, 5), (5, 6)]"
      ]
     },
     "execution_count": 41,
     "metadata": {},
     "output_type": "execute_result"
    }
   ],
   "source": [
    "a=[1,2,3,4,5]\n",
    "b=[2,3,4,5,6]\n",
    "c=list(zip(a,b))\n",
    "c"
   ]
  },
  {
   "cell_type": "markdown",
   "metadata": {},
   "source": [
    "# Reverse an element of the string if the number is greater then 3 "
   ]
  },
  {
   "cell_type": "code",
   "execution_count": 16,
   "metadata": {},
   "outputs": [
    {
     "name": "stdout",
     "output_type": "stream",
     "text": [
      "['abc', 'acd', 'afc', 'mfrc']\n"
     ]
    }
   ],
   "source": [
    "a=[\"abc\" ,\"acd\",\"afc\",\"mrfc\"]\n",
    "b=[]\n",
    "for i in a :\n",
    "    if (len(i) > 3) :\n",
    "        b.append(i[0]+i[1:len(i)-1][::-1]+i[len(i)-1] )\n",
    "        \n",
    "    else :\n",
    "        b.append(i)\n",
    "        \n",
    "print (b)\n",
    "        \n",
    "        \n"
   ]
  },
  {
   "cell_type": "markdown",
   "metadata": {},
   "source": [
    "# Find pair of an integer array whose sum is equal to a given number"
   ]
  },
  {
   "cell_type": "code",
   "execution_count": 11,
   "metadata": {},
   "outputs": [
    {
     "name": "stdout",
     "output_type": "stream",
     "text": [
      "2\n"
     ]
    }
   ],
   "source": [
    "a= [1, 5, 7, -1, 5] \n",
    "\n",
    "k=0\n",
    "summing=4\n",
    "\n",
    "for i in range(0,len(a)) :\n",
    "    for j in range (i+1,len(a)) :\n",
    "        if a[i]+a[j]==summing :\n",
    "            k+=1\n",
    "            \n",
    "print(k)"
   ]
  },
  {
   "cell_type": "markdown",
   "metadata": {},
   "source": [
    "# merge sort using two list "
   ]
  },
  {
   "cell_type": "code",
   "execution_count": 10,
   "metadata": {},
   "outputs": [
    {
     "name": "stdout",
     "output_type": "stream",
     "text": [
      "[2, 2, 2, 2, 2, 2, 2, 2, 2, 2]\n"
     ]
    }
   ],
   "source": [
    "a=[2,2,2,2,2]\n",
    "b=[2,2,2,2,2]\n",
    "c=[]\n",
    "i=0\n",
    "j=0\n",
    "while True :\n",
    "    if len(a)==0 or len(a)==i:\n",
    "        for x in range(j,len(b)) :\n",
    "            c.append(b[x])\n",
    "        break\n",
    "        \n",
    "    if len(b)==0 or len(b)==j:\n",
    "        for x in range(i,len(a)) :\n",
    "            c.append(a[x])\n",
    "        break\n",
    "    \n",
    "        \n",
    "    if a[i]<=b[j] :\n",
    "        c.append(a[i])\n",
    "        i+=1\n",
    "        \n",
    "    else :\n",
    "        c.append(b[j])\n",
    "        j+=1\n",
    "        \n",
    "print(c)\n",
    "        \n",
    "        \n",
    "        "
   ]
  },
  {
   "cell_type": "markdown",
   "metadata": {},
   "source": [
    "# FIND DUPLICATES IN THE ARRAY"
   ]
  },
  {
   "cell_type": "code",
   "execution_count": 50,
   "metadata": {},
   "outputs": [
    {
     "name": "stdout",
     "output_type": "stream",
     "text": [
      "[1, 2, 3, 4, 5, 6]\n",
      "[2, 3, 5, 6]\n"
     ]
    }
   ],
   "source": [
    "a=[1,2,2,3,4,5,6,2,3,3,5,5,5,5,6,6,6,6,6]\n",
    "ab=list(set(a))\n",
    "print(ab)\n",
    "k=0\n",
    "b=[]\n",
    "\n",
    "for i in range(0,len(ab)) :\n",
    "    for j in range (i,len(a)) :\n",
    "        if (a[j]==ab[i]) :\n",
    "            k=k+1\n",
    "            \n",
    "        \n",
    "    if (k>1) :\n",
    "        b.append(ab[i])      \n",
    "            \n",
    "    k=0\n",
    "    \n",
    "print(b)\n",
    "        \n",
    "        \n",
    "\n"
   ]
  },
  {
   "cell_type": "code",
   "execution_count": 28,
   "metadata": {},
   "outputs": [
    {
     "name": "stdout",
     "output_type": "stream",
     "text": [
      "2\n",
      "3\n",
      "5\n",
      "6\n"
     ]
    }
   ],
   "source": [
    "a=[1,2,2,3,4,5,6,2,3,3,5,5,5,5,6,6,6,6,6]\n",
    "b=set(a)\n",
    "for i in b :\n",
    "    if a.count(i)>1 :\n",
    "        print(i)"
   ]
  },
  {
   "cell_type": "markdown",
   "metadata": {},
   "source": [
    "# reverse the list"
   ]
  },
  {
   "cell_type": "code",
   "execution_count": null,
   "metadata": {},
   "outputs": [],
   "source": [
    "ab=[\"hello\",\"world\"]\n",
    "for i in range(0,len(ab)) :\n",
    "    a=ab[i]\n",
    "    a=a[0]+a[1:len(a)-1][::-1]+a[len(a)-1]\n",
    "    print(a,end=\" \")"
   ]
  },
  {
   "cell_type": "code",
   "execution_count": null,
   "metadata": {},
   "outputs": [],
   "source": [
    "ab=[\"hello\",\"world\"]\n",
    "ab[::-1]"
   ]
  },
  {
   "cell_type": "markdown",
   "metadata": {},
   "source": [
    "# number of pantuation in the string"
   ]
  },
  {
   "cell_type": "code",
   "execution_count": null,
   "metadata": {},
   "outputs": [],
   "source": [
    "count = 0;  \n",
    "str = \"Good Morning! Mr. James Potter. Had your breakfast?\";  \n",
    "for i in range (0, len (str)):   \n",
    "    #Checks whether given character is a punctuation mark  \n",
    "    if str[i] in ('!', \",\" ,\"\\'\" ,\";\" ,\"\\\"\", \".\", \"-\" ,\"?\"):  \n",
    "        count = count + 1;  \n",
    "          \n",
    "print (\"Total number of punctuation characters exists in string: \");  \n",
    "print (count)"
   ]
  },
  {
   "cell_type": "markdown",
   "metadata": {},
   "source": [
    "# check both strings are anagram"
   ]
  },
  {
   "cell_type": "code",
   "execution_count": null,
   "metadata": {},
   "outputs": [],
   "source": [
    "a=\"abc\"\n",
    "b=\"bca\"\n",
    "\n",
    "if (len(a)!=len(b)) :\n",
    "    print(\"thay are not anagram\") \n",
    "else :\n",
    "    a=a.lower()\n",
    "    b=b.lower()\n",
    "    a=sorted(a)\n",
    "    b=sorted(b)\n",
    "    if(a==b) :\n",
    "        print(\"they are anagram\")\n",
    "    else :\n",
    "        print(\"they are not\")"
   ]
  },
  {
   "cell_type": "markdown",
   "metadata": {},
   "source": [
    "# No of Elements present in the string"
   ]
  },
  {
   "cell_type": "code",
   "execution_count": 4,
   "metadata": {},
   "outputs": [
    {
     "name": "stdout",
     "output_type": "stream",
     "text": [
      "[['a', 2], ['b', 3]]\n"
     ]
    }
   ],
   "source": [
    "a=\"aabbb\"\n",
    "dic={}\n",
    "g=[]\n",
    "\n",
    "for i in a :\n",
    "    dic[i]=a.count(i)\n",
    "    \n",
    "\n",
    "for i,j in dic.items() :\n",
    "    g.append([i,j])\n",
    "\n",
    "print(g)"
   ]
  },
  {
   "cell_type": "markdown",
   "metadata": {},
   "source": [
    "# Union of sets elements"
   ]
  },
  {
   "cell_type": "code",
   "execution_count": null,
   "metadata": {},
   "outputs": [],
   "source": [
    "set1 = {\"a\", \"b\" , \"c\"}\n",
    "set2 = {1, 2, 3}\n",
    "\n",
    "set3 = set1.union(set2)\n",
    "set4=list(set3)\n",
    "print(set3)"
   ]
  },
  {
   "cell_type": "markdown",
   "metadata": {},
   "source": [
    "# Intersect of sets element"
   ]
  },
  {
   "cell_type": "code",
   "execution_count": null,
   "metadata": {},
   "outputs": [],
   "source": [
    "input1 = {1, 5, 10, 20, 40, 80}\n",
    "input2 = {6, 7, 20, 80, 100}\n",
    "input3 = {3, 4, 15, 20, 30, 70, 80, 120}\n",
    "\n",
    "\n",
    "input4=input1.intersection(input2)\n",
    "input5=input4.intersection(input3)"
   ]
  },
  {
   "cell_type": "code",
   "execution_count": null,
   "metadata": {},
   "outputs": [],
   "source": [
    "input5"
   ]
  },
  {
   "cell_type": "code",
   "execution_count": null,
   "metadata": {},
   "outputs": [],
   "source": [
    "a=[1, 2, 3, -4, -1, 4]\n",
    "b=[]\n",
    "c=[]\n",
    "\n",
    "for i in range(0,len(a)) :\n",
    "    if(a[i]<0) :\n",
    "        b.append(a[i])\n",
    "    else :\n",
    "        c.append(a[i])"
   ]
  },
  {
   "cell_type": "code",
   "execution_count": null,
   "metadata": {},
   "outputs": [],
   "source": [
    "b"
   ]
  },
  {
   "cell_type": "code",
   "execution_count": null,
   "metadata": {},
   "outputs": [],
   "source": [
    "c"
   ]
  },
  {
   "cell_type": "code",
   "execution_count": null,
   "metadata": {},
   "outputs": [],
   "source": [
    "\n",
    "\n",
    "a= [-5, -2, 5, 2, 4, 7, 1, 8, 0, -8]\n",
    "b=[]\n",
    "c=[]\n",
    "\n",
    "for i in range(0,len(a)) :\n",
    "    if(a[i]<0) :\n",
    "        b.append(a[i])\n",
    "    else :\n",
    "        c.append(a[i])\n",
    "\n",
    "d=[]\n",
    "\n",
    "i=0\n",
    "j=0\n",
    "k=0\n",
    "\n",
    "d.append(b[i])\n",
    "i=i+1\n",
    "k=k+1\n",
    "\n",
    "while 1 :\n",
    "    \n",
    "    if (len(b)==i or len(b)==0) :\n",
    "        for o in range(j,len(c)) :\n",
    "            d.append(c[o])\n",
    "            k=k+1\n",
    "        break\n",
    "        \n",
    "    if (len(c)==j or len(c)==0) :\n",
    "        for o in range(i,len(i)) :\n",
    "            d.append(c[0])\n",
    "            k=k+1\n",
    "        break\n",
    "    \n",
    "    if d[k-1] < 0 and len(c)!=j :\n",
    "        d.append(c[j])\n",
    "        j=j+1\n",
    "        k=k+1\n",
    "        \n",
    "    \n",
    "        \n",
    "    if d[k-1]>0 and len(b)!=i :\n",
    "        d.append(b[i])\n",
    "        i=i+1\n",
    "        k=k+1\n",
    "        \n",
    "\n",
    "d"
   ]
  },
  {
   "cell_type": "markdown",
   "metadata": {},
   "source": [
    "# output: {-5, 5, -2, 2, -8, 4, 7, 1, 8, 0} \n",
    "\n",
    "\n"
   ]
  },
  {
   "cell_type": "code",
   "execution_count": null,
   "metadata": {},
   "outputs": [],
   "source": []
  },
  {
   "cell_type": "code",
   "execution_count": 5,
   "metadata": {},
   "outputs": [
    {
     "data": {
      "text/plain": [
       "'Geeks for Geeks'"
      ]
     },
     "execution_count": 5,
     "metadata": {},
     "output_type": "execute_result"
    }
   ],
   "source": [
    "' '.join(['Geeks', 'for', 'Geeks'])"
   ]
  },
  {
   "cell_type": "code",
   "execution_count": null,
   "metadata": {},
   "outputs": [],
   "source": [
    "y={1,3,4,5,6}\n",
    "x={1,2,3,4,5,6}\n",
    "a=x.difference(y)"
   ]
  },
  {
   "cell_type": "code",
   "execution_count": null,
   "metadata": {},
   "outputs": [],
   "source": [
    "a"
   ]
  },
  {
   "cell_type": "code",
   "execution_count": null,
   "metadata": {},
   "outputs": [],
   "source": [
    "x = {\"apple\", \"banana\", \"cherry\"}\n",
    "y = {\"google\", \"microsoft\", \"apple\"}\n",
    "\n",
    "z = x.difference(y)\n",
    "\n",
    "print(z)"
   ]
  },
  {
   "cell_type": "code",
   "execution_count": null,
   "metadata": {},
   "outputs": [],
   "source": [
    "  if \"A\" in [\"A\",\"b\",\"c\",\"V\"] :\n",
    "        print(\"true\")\n",
    "else :\n",
    "    print(\"Fasle\")"
   ]
  },
  {
   "cell_type": "code",
   "execution_count": null,
   "metadata": {},
   "outputs": [],
   "source": [
    "a=\"abcdsdsd world\"\n",
    "a=a.split(\" \")\n",
    "print(a)"
   ]
  },
  {
   "cell_type": "code",
   "execution_count": null,
   "metadata": {},
   "outputs": [],
   "source": [
    "a=\"abcdfsdsd\"\n",
    "a=list(a)\n",
    "a"
   ]
  },
  {
   "cell_type": "markdown",
   "metadata": {},
   "source": [
    "# How to find the maximum occurring character in given String? (solution)"
   ]
  },
  {
   "cell_type": "code",
   "execution_count": 27,
   "metadata": {},
   "outputs": [
    {
     "name": "stdout",
     "output_type": "stream",
     "text": [
      "j 46\n"
     ]
    }
   ],
   "source": [
    "a=\"abccccccccjjjjjjjjjjjjjjjjjjjjjjjjjjjjjjjjjjjjjjjjjjjjjjsssssssa \"\n",
    "counting ={}\n",
    "for i in a :\n",
    "    counting[i]=a.count(i)\n",
    "counting\n",
    "maximum=max(counting.values())\n",
    "for i,j in counting.items() :\n",
    "    if j== maximum :\n",
    "        print(i,j)\n",
    "        break\n"
   ]
  },
  {
   "cell_type": "markdown",
   "metadata": {},
   "source": [
    "# COMBINATION AND PERMUTATION"
   ]
  },
  {
   "cell_type": "code",
   "execution_count": null,
   "metadata": {},
   "outputs": [],
   "source": [
    "from itertools import permutations \n",
    "\n",
    "ini_str = str(123)\n",
    "  \n",
    "# Printing initial string \n",
    "print(\"Initial string\", ini_str) \n",
    "  \n",
    "# Finding all permuatation \n",
    "permutation = [''.join(p)  for p in permutations(ini_str)] \n",
    "# Printing result \n",
    "permutation"
   ]
  },
  {
   "cell_type": "code",
   "execution_count": 13,
   "metadata": {},
   "outputs": [
    {
     "name": "stdout",
     "output_type": "stream",
     "text": [
      "(1, 2)\n",
      "(1, 3)\n",
      "(2, 3)\n"
     ]
    }
   ],
   "source": [
    "from itertools import combinations \n",
    "  \n",
    "# Get all combinations of [1, 2, 3] \n",
    "# and length 2 \n",
    "comb = combinations([1, 2, 3], 2) \n",
    "  \n",
    "# Print the obtained combinations \n",
    "for i in list(comb): \n",
    "    print (i) \n",
    "\n"
   ]
  },
  {
   "cell_type": "markdown",
   "metadata": {},
   "source": [
    "# reverse a string"
   ]
  },
  {
   "cell_type": "code",
   "execution_count": 14,
   "metadata": {},
   "outputs": [
    {
     "data": {
      "text/plain": [
       "['d', 'l', 'r', 'o', 'w', 'o', 'l', 'l', 'e', 'h']"
      ]
     },
     "execution_count": 14,
     "metadata": {},
     "output_type": "execute_result"
    }
   ],
   "source": [
    "a=list(\"hello world\")\n",
    "a.remove(' ')\n",
    "\n",
    "\n",
    "j=len(a)-1\n",
    "\n",
    "for i in range(0,len(a)) :\n",
    "    if(i<j) :\n",
    "        a[i],a[j]=a[j],a[i]\n",
    "    j=j-1\n",
    "    \n",
    "a\n",
    "\n",
    "    "
   ]
  },
  {
   "cell_type": "markdown",
   "metadata": {},
   "source": [
    "# convert a list into string when we have different data types present in it"
   ]
  },
  {
   "cell_type": "code",
   "execution_count": 15,
   "metadata": {},
   "outputs": [
    {
     "name": "stdout",
     "output_type": "stream",
     "text": [
      "I want 4 apples and 18 bananas\n"
     ]
    }
   ],
   "source": [
    "s = ['I', 'want', 4, 'apples', 'and', 18, 'bananas'] \n",
    "  \n",
    "# using list comprehension \n",
    "listToStr = ' '.join([str(elem) for elem in s]) \n",
    "  \n",
    "print(listToStr)  "
   ]
  },
  {
   "cell_type": "markdown",
   "metadata": {},
   "source": [
    "# How can a given string be reversed using recursion? (solution)\n"
   ]
  },
  {
   "cell_type": "code",
   "execution_count": 6,
   "metadata": {},
   "outputs": [
    {
     "name": "stdout",
     "output_type": "stream",
     "text": [
      "342\n"
     ]
    }
   ],
   "source": [
    "def reverse(string) :\n",
    "    if len(string)==0 :\n",
    "        return string\n",
    "    else :\n",
    "        return reverse(string[1:]) + string[0]\n",
    "a = str(\"243\")\n",
    "print(reverse(a))"
   ]
  },
  {
   "cell_type": "markdown",
   "metadata": {},
   "source": [
    "# How to Reverse a List using recursion"
   ]
  },
  {
   "cell_type": "code",
   "execution_count": 46,
   "metadata": {},
   "outputs": [
    {
     "data": {
      "text/plain": [
       "[1, 2, 3, 4, 5]"
      ]
     },
     "execution_count": 46,
     "metadata": {},
     "output_type": "execute_result"
    }
   ],
   "source": [
    "def reverse_list(list_) :\n",
    "    if len(list_)==0 :\n",
    "        return []\n",
    "    else :\n",
    "        return [list_.pop()] + reverse_list(list_)  # recusrive case\n",
    "    \n",
    "\n",
    "reverse_list([5,4,3,2,1])"
   ]
  },
  {
   "cell_type": "markdown",
   "metadata": {},
   "source": [
    "# read csv file"
   ]
  },
  {
   "cell_type": "code",
   "execution_count": null,
   "metadata": {},
   "outputs": [],
   "source": [
    "import csv\n",
    "with open(r'C:\\Users\\Admin\\Desktop\\predicting sales.csv','rt')as f :\n",
    "    data=csv.reader(f)\n",
    "    for row in data:\n",
    "        print(row)"
   ]
  },
  {
   "cell_type": "markdown",
   "metadata": {},
   "source": [
    "# convert json to python"
   ]
  },
  {
   "cell_type": "code",
   "execution_count": null,
   "metadata": {},
   "outputs": [],
   "source": [
    "import json\n",
    "x =  '{ \"name\":\"John\", \"age\":30, \"city\":\"New York\"}'\n",
    "print(x,type(x))\n",
    "y=json.loads(x)\n",
    "print(y,type(y))\n"
   ]
  },
  {
   "cell_type": "markdown",
   "metadata": {},
   "source": [
    "# Convert from Python to JSON"
   ]
  },
  {
   "cell_type": "code",
   "execution_count": null,
   "metadata": {},
   "outputs": [],
   "source": [
    "x = {\n",
    "  \"name\": \"John\",\n",
    "  \"age\": 30,\n",
    "  \"city\": \"New York\"\n",
    "}\n",
    "\n",
    "print(x,type(x))\n",
    "y=json.dumps(x,sort_keys=True)\n",
    "print(y,type(y))"
   ]
  },
  {
   "cell_type": "code",
   "execution_count": null,
   "metadata": {},
   "outputs": [],
   "source": [
    "import json\n",
    "import pandas as pd\n",
    "x =  '{ \"name\":\"John\", \"age\":30, \"city\":\"New York\"}'\n",
    "y=json.loads(x)\n",
    "type(y)\n",
    "pd.DataFrame(y,index=True)\n"
   ]
  },
  {
   "cell_type": "code",
   "execution_count": 2,
   "metadata": {},
   "outputs": [
    {
     "name": "stdout",
     "output_type": "stream",
     "text": [
      "[5, 1, 1, 1, 4, 6]\n"
     ]
    }
   ],
   "source": [
    "def reorder(nums):\n",
    "  for i in range(1, len(nums), 2):\n",
    "    nums[i-1], nums[i] = nums[i], nums[i-1]\n",
    "  return nums\n",
    "\n",
    "print(reorder([1, 5, 1, 1, 6, 4]))  # should print [1, 4, 2, 5, 3, 6]"
   ]
  },
  {
   "cell_type": "code",
   "execution_count": 6,
   "metadata": {},
   "outputs": [
    {
     "name": "stdout",
     "output_type": "stream",
     "text": [
      "[2, 1, 3, 1, 3, 2]\n"
     ]
    }
   ],
   "source": [
    "def wiggle_sort(nums):\n",
    "    nums.sort()\n",
    "    mid = len(nums) // 2\n",
    "    left = nums[:mid]\n",
    "    right = nums[mid:]\n",
    "    result = []\n",
    "    for i in range(len(left)):\n",
    "        result.append(right[i])\n",
    "        result.append(left[i])\n",
    "    if len(nums) % 2 == 1:\n",
    "        result.append(right[-1])\n",
    "    return result\n",
    "\n",
    "print(wiggle_sort([1,3,2,2,3,1])) # [1,6,1,5,1,4]"
   ]
  },
  {
   "cell_type": "code",
   "execution_count": 30,
   "metadata": {},
   "outputs": [],
   "source": [
    "def wiggle_sort(nums):\n",
    "    for j in range(len(nums)) :\n",
    "        for i in range(len(nums)-1):\n",
    "            if i % 2 == 0:\n",
    "                if nums[i] < nums[i+1]:\n",
    "                    continue \n",
    "                else :\n",
    "                    nums[i], nums[i+1] = nums[i+1], nums[i]\n",
    "            elif i % 2 == 1:\n",
    "                if nums[i] > nums[i+1]:\n",
    "                    continue\n",
    "                else :\n",
    "                    nums[i], nums[i+1] = nums[i+1], nums[i]\n",
    "        print(nums)\n",
    "    return nums"
   ]
  },
  {
   "cell_type": "code",
   "execution_count": 31,
   "metadata": {},
   "outputs": [
    {
     "name": "stdout",
     "output_type": "stream",
     "text": [
      "[1, 5, 1, 6, 1, 4]\n",
      "[1, 5, 1, 6, 1, 4]\n",
      "[1, 5, 1, 6, 1, 4]\n",
      "[1, 5, 1, 6, 1, 4]\n",
      "[1, 5, 1, 6, 1, 4]\n",
      "[1, 5, 1, 6, 1, 4]\n",
      "[1, 5, 1, 6, 1, 4]\n",
      "[1, 3, 2, 3, 1, 2]\n",
      "[1, 3, 2, 3, 1, 2]\n",
      "[1, 3, 2, 3, 1, 2]\n",
      "[1, 3, 2, 3, 1, 2]\n",
      "[1, 3, 2, 3, 1, 2]\n",
      "[1, 3, 2, 3, 1, 2]\n",
      "[1, 3, 2, 3, 1, 2]\n"
     ]
    }
   ],
   "source": [
    "print(wiggle_sort([1,5,1,1,6,4]))\n",
    "print(wiggle_sort([1,3,2,2,3,1]))"
   ]
  },
  {
   "cell_type": "code",
   "execution_count": 25,
   "metadata": {},
   "outputs": [
    {
     "name": "stdout",
     "output_type": "stream",
     "text": [
      "1\n",
      "2\n",
      "3\n",
      "4\n",
      "1\n"
     ]
    }
   ],
   "source": [
    "nums=[1,2,3,4,1]\n",
    "for i in range (len(nums)) :\n",
    "    print(nums[i])"
   ]
  },
  {
   "cell_type": "code",
   "execution_count": 35,
   "metadata": {},
   "outputs": [
    {
     "name": "stdout",
     "output_type": "stream",
     "text": [
      "Input the array elements: \n",
      "1 5 1 1 6 4\n",
      "Original unsorted array:\n",
      "[1, 5, 1, 1, 6, 4]\n",
      "The said array after applying Wiggle sort:\n",
      "[1, 5, 1, 6, 1, 4]\n"
     ]
    }
   ],
   "source": [
    "\n",
    "def wiggle_sort(arra_nums):\n",
    "    for i, _ in enumerate(arra_nums):\n",
    "        if (i % 2 == 1) == (arra_nums[i - 1] > arra_nums[i]):\n",
    "            arra_nums[i - 1], arra_nums[i] = arra_nums[i], arra_nums[i - 1]\n",
    "\n",
    "    return arra_nums\n",
    "\n",
    "print(\"Input the array elements: \")\n",
    "arra_nums = list(map(int, input().split()))\n",
    "print(\"Original unsorted array:\")\n",
    "print(arra_nums)\n",
    "print(\"The said array after applying Wiggle sort:\")\n",
    "print(wiggle_sort(arra_nums))"
   ]
  },
  {
   "cell_type": "code",
   "execution_count": 37,
   "metadata": {},
   "outputs": [],
   "source": [
    "def wiggleSort(self, nums) :\n",
    "        \"\"\"\n",
    "        Do not return anything, modify nums in-place instead.\n",
    "        \"\"\"\n",
    "        tmp = nums.copy()\n",
    "        tmp.sort()        \n",
    "        n = len(nums)\n",
    "        i, j = 1, n - 1\n",
    "        for _ in range(2): \n",
    "            for k in range(i, n, 2): # when i == 1 then gt elements and when i == 0 then sm elements with jump of 2\n",
    "                nums[k] = tmp[j] # sorted array tmp reverse order values assignment\n",
    "                j -= 1\n",
    "            i -= 1\n",
    "        return tmp"
   ]
  },
  {
   "cell_type": "code",
   "execution_count": 38,
   "metadata": {},
   "outputs": [
    {
     "name": "stdout",
     "output_type": "stream",
     "text": [
      "[1, 5, 1, 6, 1, 4]\n"
     ]
    }
   ],
   "source": [
    "print(wiggle_sort([1,5,1,1,6,4]))\n"
   ]
  },
  {
   "cell_type": "code",
   "execution_count": 44,
   "metadata": {},
   "outputs": [
    {
     "name": "stdout",
     "output_type": "stream",
     "text": [
      "3\n"
     ]
    },
    {
     "ename": "NameError",
     "evalue": "name 'half' is not defined",
     "output_type": "error",
     "traceback": [
      "\u001b[1;31m---------------------------------------------------------------------------\u001b[0m",
      "\u001b[1;31mNameError\u001b[0m                                 Traceback (most recent call last)",
      "\u001b[1;32m~\\AppData\\Local\\Temp\\ipykernel_12696\\3017052570.py\u001b[0m in \u001b[0;36m<module>\u001b[1;34m\u001b[0m\n\u001b[0;32m      6\u001b[0m \u001b[1;33m\u001b[0m\u001b[0m\n\u001b[0;32m      7\u001b[0m \u001b[0mnums\u001b[0m \u001b[1;33m=\u001b[0m \u001b[1;33m[\u001b[0m\u001b[1;36m1\u001b[0m\u001b[1;33m,\u001b[0m\u001b[1;36m5\u001b[0m\u001b[1;33m,\u001b[0m\u001b[1;36m1\u001b[0m\u001b[1;33m,\u001b[0m\u001b[1;36m1\u001b[0m\u001b[1;33m,\u001b[0m\u001b[1;36m6\u001b[0m\u001b[1;33m,\u001b[0m\u001b[1;36m4\u001b[0m\u001b[1;33m]\u001b[0m\u001b[1;33m\u001b[0m\u001b[1;33m\u001b[0m\u001b[0m\n\u001b[1;32m----> 8\u001b[1;33m \u001b[0mreorder\u001b[0m\u001b[1;33m(\u001b[0m\u001b[0mnums\u001b[0m\u001b[1;33m)\u001b[0m\u001b[1;33m\u001b[0m\u001b[1;33m\u001b[0m\u001b[0m\n\u001b[0m\u001b[0;32m      9\u001b[0m \u001b[0mprint\u001b[0m\u001b[1;33m(\u001b[0m\u001b[0mnums\u001b[0m\u001b[1;33m)\u001b[0m  \u001b[1;31m# [1, 6, 1, 5, 1, 4]\u001b[0m\u001b[1;33m\u001b[0m\u001b[1;33m\u001b[0m\u001b[0m\n\u001b[0;32m     10\u001b[0m \u001b[1;33m\u001b[0m\u001b[0m\n",
      "\u001b[1;32m~\\AppData\\Local\\Temp\\ipykernel_12696\\3017052570.py\u001b[0m in \u001b[0;36mreorder\u001b[1;34m(nums)\u001b[0m\n\u001b[0;32m      3\u001b[0m     \u001b[0mhalf_of_num\u001b[0m \u001b[1;33m=\u001b[0m \u001b[0mlen\u001b[0m\u001b[1;33m(\u001b[0m\u001b[0mnums\u001b[0m\u001b[1;33m[\u001b[0m\u001b[1;33m:\u001b[0m\u001b[1;33m:\u001b[0m\u001b[1;36m2\u001b[0m\u001b[1;33m]\u001b[0m\u001b[1;33m)\u001b[0m\u001b[1;33m\u001b[0m\u001b[1;33m\u001b[0m\u001b[0m\n\u001b[0;32m      4\u001b[0m     \u001b[0mprint\u001b[0m\u001b[1;33m(\u001b[0m\u001b[0mhalf_of_num\u001b[0m\u001b[1;33m)\u001b[0m\u001b[1;33m\u001b[0m\u001b[1;33m\u001b[0m\u001b[0m\n\u001b[1;32m----> 5\u001b[1;33m     \u001b[0mnums\u001b[0m\u001b[1;33m[\u001b[0m\u001b[1;33m:\u001b[0m\u001b[1;33m:\u001b[0m\u001b[1;36m2\u001b[0m\u001b[1;33m]\u001b[0m\u001b[1;33m,\u001b[0m \u001b[0mnums\u001b[0m\u001b[1;33m[\u001b[0m\u001b[1;36m1\u001b[0m\u001b[1;33m:\u001b[0m\u001b[1;33m:\u001b[0m\u001b[1;36m2\u001b[0m\u001b[1;33m]\u001b[0m \u001b[1;33m=\u001b[0m \u001b[0mnums\u001b[0m\u001b[1;33m[\u001b[0m\u001b[1;33m:\u001b[0m\u001b[0mhalf\u001b[0m\u001b[1;33m]\u001b[0m\u001b[1;33m[\u001b[0m\u001b[1;33m:\u001b[0m\u001b[1;33m:\u001b[0m\u001b[1;33m-\u001b[0m\u001b[1;36m1\u001b[0m\u001b[1;33m]\u001b[0m\u001b[1;33m,\u001b[0m \u001b[0mnums\u001b[0m\u001b[1;33m[\u001b[0m\u001b[0mhalf\u001b[0m\u001b[1;33m:\u001b[0m\u001b[1;33m]\u001b[0m\u001b[1;33m[\u001b[0m\u001b[1;33m:\u001b[0m\u001b[1;33m:\u001b[0m\u001b[1;33m-\u001b[0m\u001b[1;36m1\u001b[0m\u001b[1;33m]\u001b[0m\u001b[1;33m\u001b[0m\u001b[1;33m\u001b[0m\u001b[0m\n\u001b[0m\u001b[0;32m      6\u001b[0m \u001b[1;33m\u001b[0m\u001b[0m\n\u001b[0;32m      7\u001b[0m \u001b[0mnums\u001b[0m \u001b[1;33m=\u001b[0m \u001b[1;33m[\u001b[0m\u001b[1;36m1\u001b[0m\u001b[1;33m,\u001b[0m\u001b[1;36m5\u001b[0m\u001b[1;33m,\u001b[0m\u001b[1;36m1\u001b[0m\u001b[1;33m,\u001b[0m\u001b[1;36m1\u001b[0m\u001b[1;33m,\u001b[0m\u001b[1;36m6\u001b[0m\u001b[1;33m,\u001b[0m\u001b[1;36m4\u001b[0m\u001b[1;33m]\u001b[0m\u001b[1;33m\u001b[0m\u001b[1;33m\u001b[0m\u001b[0m\n",
      "\u001b[1;31mNameError\u001b[0m: name 'half' is not defined"
     ]
    }
   ],
   "source": [
    "def reorder(nums):\n",
    "    nums.sort()\n",
    "    half_of  = len(nums[::2]) \n",
    "    nums[::2], nums[1::2] = nums[:half][::-1], nums[half:][::-1]\n",
    "\n",
    "nums = [1,5,1,1,6,4]\n",
    "reorder(nums)\n",
    "print(nums)  # [1, 6, 1, 5, 1, 4]\n",
    "\n",
    "nums = [1,3,2,2,3,1]\n",
    "reorder(nums)\n",
    "print(nums)  # [2, 3, 1, 3, 1, 2]\n",
    "\n",
    "nums=[3, 5, 2, 1, 6, 4]\n",
    "reorder(nums)\n",
    "print(nums) #[3, 6, 2, 5, 1, 4]\n",
    "\n",
    "\n",
    "\n"
   ]
  },
  {
   "cell_type": "code",
   "execution_count": null,
   "metadata": {},
   "outputs": [],
   "source": []
  }
 ],
 "metadata": {
  "kernelspec": {
   "display_name": "Python 3 (ipykernel)",
   "language": "python",
   "name": "python3"
  },
  "language_info": {
   "codemirror_mode": {
    "name": "ipython",
    "version": 3
   },
   "file_extension": ".py",
   "mimetype": "text/x-python",
   "name": "python",
   "nbconvert_exporter": "python",
   "pygments_lexer": "ipython3",
   "version": "3.9.12"
  }
 },
 "nbformat": 4,
 "nbformat_minor": 2
}
