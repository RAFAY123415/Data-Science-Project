{
  "nbformat": 4,
  "nbformat_minor": 0,
  "metadata": {
    "colab": {
      "provenance": []
    },
    "kernelspec": {
      "name": "python3",
      "display_name": "Python 3"
    },
    "language_info": {
      "name": "python"
    }
  },
  "cells": [
    {
      "cell_type": "code",
      "execution_count": 1,
      "metadata": {
        "colab": {
          "base_uri": "https://localhost:8080/"
        },
        "id": "uVXl92i6jYRA",
        "outputId": "0cba2e6f-49f1-4705-cdc0-37954766acba"
      },
      "outputs": [
        {
          "output_type": "stream",
          "name": "stdout",
          "text": [
            "\u001b[2K     \u001b[90m━━━━━━━━━━━━━━━━━━━━━━━━━━━━━━━━━━━━━━━━\u001b[0m \u001b[32m70.1/70.1 KB\u001b[0m \u001b[31m1.2 MB/s\u001b[0m eta \u001b[36m0:00:00\u001b[0m\n",
            "\u001b[2K     \u001b[90m━━━━━━━━━━━━━━━━━━━━━━━━━━━━━━━━━━━━━━━━\u001b[0m \u001b[32m1.0/1.0 MB\u001b[0m \u001b[31m11.8 MB/s\u001b[0m eta \u001b[36m0:00:00\u001b[0m\n",
            "\u001b[2K     \u001b[90m━━━━━━━━━━━━━━━━━━━━━━━━━━━━━━━━━━━━━━━\u001b[0m \u001b[32m264.6/264.6 KB\u001b[0m \u001b[31m6.7 MB/s\u001b[0m eta \u001b[36m0:00:00\u001b[0m\n",
            "\u001b[2K     \u001b[90m━━━━━━━━━━━━━━━━━━━━━━━━━━━━━━━━━━━━━━━\u001b[0m \u001b[32m114.2/114.2 KB\u001b[0m \u001b[31m2.1 MB/s\u001b[0m eta \u001b[36m0:00:00\u001b[0m\n",
            "\u001b[2K     \u001b[90m━━━━━━━━━━━━━━━━━━━━━━━━━━━━━━━━━━━━━━━\u001b[0m \u001b[32m158.8/158.8 KB\u001b[0m \u001b[31m7.2 MB/s\u001b[0m eta \u001b[36m0:00:00\u001b[0m\n",
            "\u001b[?25h"
          ]
        }
      ],
      "source": [
        "pip install openai -q\n"
      ]
    },
    {
      "cell_type": "code",
      "source": [
        "import openai\n",
        "openai.api_key = \"Enter your api key\""
      ],
      "metadata": {
        "id": "TdAcShdGjeO-"
      },
      "execution_count": 2,
      "outputs": []
    },
    {
      "cell_type": "code",
      "source": [
        "response = openai.ChatCompletion.create(\n",
        "  model=\"gpt-3.5-turbo\",\n",
        "  messages=[\n",
        "        {\"role\": \"system\", \"content\": \"You are a helpful AI Tutor.\"},\n",
        "        {\"role\": \"user\", \"content\": \"I am Rafay, I want to learn AI\"},\n",
        "        {\"role\": \"assistant\", \"content\": \"Hello, Rafay Thats awesome, what do you want to know aboout AI\"},\n",
        "        {\"role\": \"user\", \"content\": \"What is NLP?\"}\n",
        "    ]\n",
        ")"
      ],
      "metadata": {
        "id": "ejsvzKIWjzzA"
      },
      "execution_count": null,
      "outputs": []
    },
    {
      "cell_type": "code",
      "source": [
        "def update_chat(messages, role, content):\n",
        "  messages.append({\"role\": role, \"content\": content})\n",
        "  return messages"
      ],
      "metadata": {
        "id": "JJOYDrWXj3B-"
      },
      "execution_count": 5,
      "outputs": []
    },
    {
      "cell_type": "code",
      "source": [
        "def get_chatgpt_response(messages):\n",
        "  response = openai.ChatCompletion.create(\n",
        "  model=\"gpt-3.5-turbo\",\n",
        "  messages=messages\n",
        ")\n",
        "  return  response['choices'][0]['message']['content']"
      ],
      "metadata": {
        "id": "r332Gitzj7jL"
      },
      "execution_count": 6,
      "outputs": []
    },
    {
      "cell_type": "code",
      "source": [
        "import pprint\n",
        "\n",
        "messages=[\n",
        "      {\"role\": \"system\", \"content\": \"You are a helpful AI Tutor.\"},\n",
        "      {\"role\": \"user\", \"content\": \"I am Rafay, I want to learn AI\"},\n",
        "      {\"role\": \"assistant\", \"content\": \"Hello, Rafay Thats awesome, what do you want to know aboout AI\"},\n",
        "  ]\n",
        "\n",
        "while True:\n",
        "  pprint.pprint(messages)\n",
        "  user_input = input()\n",
        "  messages = update_chat(messages, \"user\", user_input)\n",
        "  model_response = get_chatgpt_response(messages)\n",
        "  messages = update_chat(messages, \"assistant\", model_response)\n",
        "\n",
        "\n",
        "\n",
        "\n"
      ],
      "metadata": {
        "colab": {
          "base_uri": "https://localhost:8080/"
        },
        "id": "rhwUAFMrkAWa",
        "outputId": "34f4dbe9-e0db-4e34-a8d9-02a57f935758"
      },
      "execution_count": null,
      "outputs": [
        {
          "output_type": "stream",
          "name": "stdout",
          "text": [
            "[{'content': 'You are a helpful AI Tutor.', 'role': 'system'},\n",
            " {'content': 'I am Rafay, I want to learn AI', 'role': 'user'},\n",
            " {'content': 'Hello, Rafay Thats awesome, what do you want to know aboout AI',\n",
            "  'role': 'assistant'}]\n"
          ]
        }
      ]
    }
  ]
}