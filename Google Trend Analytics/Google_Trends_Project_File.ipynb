{
  "cells": [
    {
      "cell_type": "markdown",
      "source": [
        "# Google Trends Dashboard :\n",
        "`The purpose of this project is to Make a Google Trend Dashboard With the Help of Pytrend in order to Analyze Google Trends.`"
      ],
      "metadata": {
        "datalore": {
          "node_id": "sPCmpLi14g13uPFcbdxvbq",
          "type": "MD",
          "hide_input_from_viewers": true,
          "hide_output_from_viewers": true
        },
        "id": "afIg29OQBnlh"
      }
    },
    {
      "cell_type": "markdown",
      "source": [
        "##### `Starting out, frequency can be monthly. We'd like the option to receive trends over time for a specific search term at the country level.`\n"
      ],
      "metadata": {
        "datalore": {
          "node_id": "zxlxYt6qhG9e6jokdoOinx",
          "type": "MD",
          "hide_input_from_viewers": true,
          "hide_output_from_viewers": true
        },
        "id": "8zIj8mZzBnlr"
      }
    },
    {
      "cell_type": "markdown",
      "source": [
        "#### Connect to Google :\n",
        "\n",
        "The first step after installation is to connect Pytrends to Google Trends so that you can send a request and get the information you need. You need to import TrendReq from pytrends to initialize the connection."
      ],
      "metadata": {
        "datalore": {
          "node_id": "eRCQMR1B6ONCQqCSLdXSDE",
          "type": "MD",
          "hide_input_from_viewers": true,
          "hide_output_from_viewers": true
        },
        "id": "kJ739641Bnlt"
      }
    },
    {
      "cell_type": "code",
      "source": [
        "!pip install --upgrade git+https://github.com/GeneralMills/pytrends\n",
        "!pip install pandas\n",
        "!pip install requests\n",
        "!pip install numpy\n",
        "!pip install googletrans==4.0.0-rc1\n",
        "!pip install countryinfo"
      ],
      "execution_count": 3,
      "outputs": [
        {
          "output_type": "stream",
          "name": "stdout",
          "text": [
            "Looking in indexes: https://pypi.org/simple, https://us-python.pkg.dev/colab-wheels/public/simple/\n",
            "Collecting git+https://github.com/GeneralMills/pytrends\n",
            "  Cloning https://github.com/GeneralMills/pytrends to /tmp/pip-req-build-56eznpt0\n",
            "  Running command git clone --filter=blob:none --quiet https://github.com/GeneralMills/pytrends /tmp/pip-req-build-56eznpt0\n",
            "  Resolved https://github.com/GeneralMills/pytrends to commit a9984ffdc9b31d853dde2ab614a77ecbf2bf33a1\n",
            "  Installing build dependencies ... \u001b[?25l\u001b[?25hdone\n",
            "  Getting requirements to build wheel ... \u001b[?25l\u001b[?25hdone\n",
            "  Installing backend dependencies ... \u001b[?25l\u001b[?25hdone\n",
            "  Preparing metadata (pyproject.toml) ... \u001b[?25l\u001b[?25hdone\n",
            "Requirement already satisfied: requests>=2.0 in /usr/local/lib/python3.10/dist-packages (from pytrends==4.9.2) (2.27.1)\n",
            "Requirement already satisfied: pandas>=0.25 in /usr/local/lib/python3.10/dist-packages (from pytrends==4.9.2) (1.5.3)\n",
            "Requirement already satisfied: lxml in /usr/local/lib/python3.10/dist-packages (from pytrends==4.9.2) (4.9.2)\n",
            "Requirement already satisfied: python-dateutil>=2.8.1 in /usr/local/lib/python3.10/dist-packages (from pandas>=0.25->pytrends==4.9.2) (2.8.2)\n",
            "Requirement already satisfied: pytz>=2020.1 in /usr/local/lib/python3.10/dist-packages (from pandas>=0.25->pytrends==4.9.2) (2022.7.1)\n",
            "Requirement already satisfied: numpy>=1.21.0 in /usr/local/lib/python3.10/dist-packages (from pandas>=0.25->pytrends==4.9.2) (1.22.4)\n",
            "Requirement already satisfied: urllib3<1.27,>=1.21.1 in /usr/local/lib/python3.10/dist-packages (from requests>=2.0->pytrends==4.9.2) (1.26.15)\n",
            "Requirement already satisfied: certifi>=2017.4.17 in /usr/local/lib/python3.10/dist-packages (from requests>=2.0->pytrends==4.9.2) (2022.12.7)\n",
            "Requirement already satisfied: charset-normalizer~=2.0.0 in /usr/local/lib/python3.10/dist-packages (from requests>=2.0->pytrends==4.9.2) (2.0.12)\n",
            "Requirement already satisfied: idna<4,>=2.5 in /usr/local/lib/python3.10/dist-packages (from requests>=2.0->pytrends==4.9.2) (2.10)\n",
            "Requirement already satisfied: six>=1.5 in /usr/local/lib/python3.10/dist-packages (from python-dateutil>=2.8.1->pandas>=0.25->pytrends==4.9.2) (1.16.0)\n",
            "Looking in indexes: https://pypi.org/simple, https://us-python.pkg.dev/colab-wheels/public/simple/\n",
            "Requirement already satisfied: pandas in /usr/local/lib/python3.10/dist-packages (1.5.3)\n",
            "Requirement already satisfied: python-dateutil>=2.8.1 in /usr/local/lib/python3.10/dist-packages (from pandas) (2.8.2)\n",
            "Requirement already satisfied: pytz>=2020.1 in /usr/local/lib/python3.10/dist-packages (from pandas) (2022.7.1)\n",
            "Requirement already satisfied: numpy>=1.21.0 in /usr/local/lib/python3.10/dist-packages (from pandas) (1.22.4)\n",
            "Requirement already satisfied: six>=1.5 in /usr/local/lib/python3.10/dist-packages (from python-dateutil>=2.8.1->pandas) (1.16.0)\n",
            "Looking in indexes: https://pypi.org/simple, https://us-python.pkg.dev/colab-wheels/public/simple/\n",
            "Requirement already satisfied: requests in /usr/local/lib/python3.10/dist-packages (2.27.1)\n",
            "Requirement already satisfied: urllib3<1.27,>=1.21.1 in /usr/local/lib/python3.10/dist-packages (from requests) (1.26.15)\n",
            "Requirement already satisfied: certifi>=2017.4.17 in /usr/local/lib/python3.10/dist-packages (from requests) (2022.12.7)\n",
            "Requirement already satisfied: charset-normalizer~=2.0.0 in /usr/local/lib/python3.10/dist-packages (from requests) (2.0.12)\n",
            "Requirement already satisfied: idna<4,>=2.5 in /usr/local/lib/python3.10/dist-packages (from requests) (2.10)\n",
            "Looking in indexes: https://pypi.org/simple, https://us-python.pkg.dev/colab-wheels/public/simple/\n",
            "Requirement already satisfied: numpy in /usr/local/lib/python3.10/dist-packages (1.22.4)\n",
            "Looking in indexes: https://pypi.org/simple, https://us-python.pkg.dev/colab-wheels/public/simple/\n",
            "Requirement already satisfied: googletrans==4.0.0-rc1 in /usr/local/lib/python3.10/dist-packages (4.0.0rc1)\n",
            "Requirement already satisfied: httpx==0.13.3 in /usr/local/lib/python3.10/dist-packages (from googletrans==4.0.0-rc1) (0.13.3)\n",
            "Requirement already satisfied: certifi in /usr/local/lib/python3.10/dist-packages (from httpx==0.13.3->googletrans==4.0.0-rc1) (2022.12.7)\n",
            "Requirement already satisfied: hstspreload in /usr/local/lib/python3.10/dist-packages (from httpx==0.13.3->googletrans==4.0.0-rc1) (2023.1.1)\n",
            "Requirement already satisfied: sniffio in /usr/local/lib/python3.10/dist-packages (from httpx==0.13.3->googletrans==4.0.0-rc1) (1.3.0)\n",
            "Requirement already satisfied: chardet==3.* in /usr/local/lib/python3.10/dist-packages (from httpx==0.13.3->googletrans==4.0.0-rc1) (3.0.4)\n",
            "Requirement already satisfied: idna==2.* in /usr/local/lib/python3.10/dist-packages (from httpx==0.13.3->googletrans==4.0.0-rc1) (2.10)\n",
            "Requirement already satisfied: rfc3986<2,>=1.3 in /usr/local/lib/python3.10/dist-packages (from httpx==0.13.3->googletrans==4.0.0-rc1) (1.5.0)\n",
            "Requirement already satisfied: httpcore==0.9.* in /usr/local/lib/python3.10/dist-packages (from httpx==0.13.3->googletrans==4.0.0-rc1) (0.9.1)\n",
            "Requirement already satisfied: h11<0.10,>=0.8 in /usr/local/lib/python3.10/dist-packages (from httpcore==0.9.*->httpx==0.13.3->googletrans==4.0.0-rc1) (0.9.0)\n",
            "Requirement already satisfied: h2==3.* in /usr/local/lib/python3.10/dist-packages (from httpcore==0.9.*->httpx==0.13.3->googletrans==4.0.0-rc1) (3.2.0)\n",
            "Requirement already satisfied: hyperframe<6,>=5.2.0 in /usr/local/lib/python3.10/dist-packages (from h2==3.*->httpcore==0.9.*->httpx==0.13.3->googletrans==4.0.0-rc1) (5.2.0)\n",
            "Requirement already satisfied: hpack<4,>=3.0 in /usr/local/lib/python3.10/dist-packages (from h2==3.*->httpcore==0.9.*->httpx==0.13.3->googletrans==4.0.0-rc1) (3.0.0)\n",
            "Looking in indexes: https://pypi.org/simple, https://us-python.pkg.dev/colab-wheels/public/simple/\n",
            "Collecting countryinfo\n",
            "  Downloading countryinfo-0.1.2-py3-none-any.whl (602 kB)\n",
            "\u001b[2K     \u001b[90m━━━━━━━━━━━━━━━━━━━━━━━━━━━━━━━━━━━━━━\u001b[0m \u001b[32m602.2/602.2 kB\u001b[0m \u001b[31m11.2 MB/s\u001b[0m eta \u001b[36m0:00:00\u001b[0m\n",
            "\u001b[?25hInstalling collected packages: countryinfo\n",
            "Successfully installed countryinfo-0.1.2\n"
          ]
        }
      ],
      "metadata": {
        "datalore": {
          "node_id": "fshyw83KbeTgagwtKNKU45",
          "type": "CODE",
          "hide_input_from_viewers": true,
          "hide_output_from_viewers": true
        },
        "colab": {
          "base_uri": "https://localhost:8080/"
        },
        "id": "59uP-aBuBnlv",
        "outputId": "af08700b-f862-42ae-9e87-fae6bc0c5f38"
      }
    },
    {
      "cell_type": "code",
      "source": [
        "from pytrends.request import TrendReq\n",
        "import pandas as pd\n",
        "import numpy as np\n",
        "import googletrans\n",
        "from googletrans import Translator\n",
        "import time\n",
        "from countryinfo import CountryInfo\n"
      ],
      "execution_count": 4,
      "outputs": [],
      "metadata": {
        "datalore": {
          "node_id": "AOTARkEHSVjdEgCKW8vWVI",
          "type": "CODE",
          "hide_input_from_viewers": true,
          "hide_output_from_viewers": true
        },
        "id": "i-cvqnPLBnly"
      }
    },
    {
      "cell_type": "code",
      "source": [
        "#{'Andorra': 'AD', 'United Arab Emirates': 'AE', 'Afghanistan': 'AF', 'Antigua and Barbuda': 'AG', 'Anguilla': 'AI', 'Albania': 'AL', 'Armenia': 'AM', 'Netherlands Antilles': 'AN', 'Angola': 'AO', 'Antarctica': 'AQ', 'Argentina': 'AR', 'American Samoa': 'AS', 'Austria': 'AT', 'Australia': 'AU', 'Aruba': 'AW', 'Azerbaijan': 'AZ', 'Bosnia and Herzegovina': 'BA', 'Barbados': 'BB', 'Bangladesh': 'BD', 'Belgium': 'BE', 'Burkina Faso': 'BF', 'Bulgaria': 'BG', 'Bahrain': 'BH', 'Burundi': 'BI', 'Benin': 'BJ', 'Bermuda': 'BM', 'Brunei': 'BN', 'Bolivia': 'BO', 'Brazil': 'BR', 'Bahamas': 'BS', 'Bhutan': 'BT', 'Bouvet Island': 'BV', 'Botswana': 'BW', 'Belarus': 'BY', 'Belize': 'BZ', 'Canada': 'CA', 'Cocos [Keeling] Islands': 'CC', 'Congo [DRC]': 'CD', 'Central African Republic': 'CF', 'Congo [Republic]': 'CG', 'Switzerland': 'CH', \"Côte d'Ivoire\": 'CI', 'Cook Islands': 'CK', 'Chile': 'CL', 'Cameroon': 'CM', 'China': 'CN', 'Colombia': 'CO', 'Costa Rica': 'CR', 'Cuba': 'CU', 'Cape Verde': 'CV', 'Christmas Island': 'CX', 'Cyprus': 'CY', 'Czech Republic': 'CZ', 'Germany': 'DE', 'Djibouti': 'DJ', 'Denmark': 'DK', 'Dominica': 'DM', 'Dominican Republic': 'DO', 'Algeria': 'DZ', 'Ecuador': 'EC', 'Estonia': 'EE', 'Egypt': 'EG', 'Western Sahara': 'EH', 'Eritrea': 'ER', 'Spain': 'ES', 'Ethiopia': 'ET', 'Finland': 'FI', 'Fiji': 'FJ', 'Falkland Islands [Islas Malvinas]': 'FK', 'Micronesia': 'FM', 'Faroe Islands': 'FO', 'France': 'FR', 'Gabon': 'GA', 'United Kingdom': 'GB', 'Grenada': 'GD', 'Georgia': 'GE', 'French Guiana': 'GF', 'Guernsey': 'GG', 'Ghana': 'GH', 'Gibraltar': 'GI', 'Greenland': 'GL', 'Gambia': 'GM', 'Guinea': 'GN', 'Guadeloupe': 'GP', 'Equatorial Guinea': 'GQ', 'Greece': 'GR', 'South Georgia and the South Sandwich Islands': 'GS', 'Guatemala': 'GT', 'Guam': 'GU', 'Guinea-Bissau': 'GW', 'Guyana': 'GY', 'Gaza Strip': 'GZ', 'Hong Kong': 'HK', 'Heard Island and McDonald Islands': 'HM', 'Honduras': 'HN', 'Croatia': 'HR', 'Haiti': 'HT', 'Hungary': 'HU', 'Indonesia': 'ID', 'Ireland': 'IE', 'Israel': 'IL', 'Isle of Man': 'IM', 'India': 'IN', 'British Indian Ocean Territory': 'IO', 'Iraq': 'IQ', 'Iran': 'IR', 'Iceland': 'IS', 'Italy': 'IT', 'Jersey': 'JE', 'Jamaica': 'JM', 'Jordan': 'JO', 'Japan': 'JP', 'Kenya': 'KE', 'Kyrgyzstan': 'KG', 'Cambodia': 'KH', 'Kiribati': 'KI', 'Comoros': 'KM', 'Saint Kitts and Nevis': 'KN', 'North Korea': 'KP', 'South Korea': 'KR', 'Kuwait': 'KW', 'Cayman Islands': 'KY', 'Kazakhstan': 'KZ', 'Laos': 'LA', 'Lebanon': 'LB', 'Saint Lucia': 'LC', 'Liechtenstein': 'LI', 'Sri Lanka': 'LK', 'Liberia': 'LR', 'Lesotho': 'LS', 'Lithuania': 'LT', 'Luxembourg': 'LU', 'Latvia': 'LV', 'Libya': 'LY', 'Morocco': 'MA', 'Monaco': 'MC', 'Moldova': 'MD', 'Montenegro': 'ME', 'Madagascar': 'MG', 'Marshall Islands': 'MH', 'Macedonia [FYROM]': 'MK', 'Mali': 'ML', 'Myanmar [Burma]': 'MM', 'Mongolia': 'MN', 'Macau': 'MO', 'Northern Mariana Islands': 'MP', 'Martinique': 'MQ', 'Mauritania': 'MR', 'Montserrat': 'MS', 'Malta': 'MT', 'Mauritius': 'MU', 'Maldives': 'MV', 'Malawi': 'MW', 'Mexico': 'MX', 'Malaysia': 'MY', 'Mozambique': 'MZ', 'Namibia': np.nan, 'New Caledonia': 'NC', 'Niger': 'NE', 'Norfolk Island': 'NF', 'Nigeria': 'NG', 'Nicaragua': 'NI', 'Netherlands': 'NL', 'Norway': 'NO', 'Nepal': 'NP', 'Nauru': 'NR', 'Niue': 'NU', 'New Zealand': 'NZ', 'Oman': 'OM', 'Panama': 'PA', 'Peru': 'PE', 'French Polynesia': 'PF', 'Papua New Guinea': 'PG', 'Philippines': 'PH', 'Pakistan': 'PK', 'Poland': 'PL', 'Saint Pierre and Miquelon': 'PM', 'Pitcairn Islands': 'PN', 'Puerto Rico': 'PR', 'Palestinian Territories': 'PS', 'Portugal': 'PT', 'Palau': 'PW', 'Paraguay': 'PY', 'Qatar': 'QA', 'Réunion': 'RE', 'Romania': 'RO', 'Serbia': 'RS', 'Russia': 'RU', 'Rwanda': 'RW', 'Saudi Arabia': 'SA', 'Solomon Islands': 'SB', 'Seychelles': 'SC', 'Sudan': 'SD', 'Sweden': 'SE', 'Singapore': 'SG', 'Saint Helena': 'SH', 'Slovenia': 'SI', 'Svalbard and Jan Mayen': 'SJ', 'Slovakia': 'SK', 'Sierra Leone': 'SL', 'San Marino': 'SM', 'Senegal': 'SN', 'Somalia': 'SO', 'Suriname': 'SR', 'São Tomé and Príncipe': 'ST', 'El Salvador': 'SV', 'Syria': 'SY', 'Swaziland': 'SZ', 'Turks and Caicos Islands': 'TC', 'Chad': 'TD', 'French Southern Territories': 'TF', 'Togo': 'TG', 'Thailand': 'TH', 'Tajikistan': 'TJ', 'Tokelau': 'TK', 'Timor-Leste': 'TL', 'Turkmenistan': 'TM', 'Tunisia': 'TN', 'Tonga': 'TO', 'Turkey': 'TR', 'Trinidad and Tobago': 'TT', 'Tuvalu': 'TV', 'Taiwan': 'TW', 'Tanzania': 'TZ', 'Ukraine': 'UA', 'Uganda': 'UG', 'U.S. Minor Outlying Islands': 'UM', 'United States': 'US', 'Uruguay': 'UY', 'Uzbekistan': 'UZ', 'Vatican City': 'VA', 'Saint Vincent and the Grenadines': 'VC', 'Venezuela': 'VE', 'British Virgin Islands': 'VG', 'U.S. Virgin Islands': 'VI', 'Vietnam': 'VN', 'Vanuatu': 'VU', 'Wallis and Futuna': 'WF', 'Samoa': 'WS', 'Kosovo': 'XK', 'Yemen': 'YE', 'Mayotte': 'YT', 'South Africa': 'ZA', 'Zambia': 'ZM', 'Zimbabwe': 'ZW'}"
      ],
      "execution_count": null,
      "outputs": [],
      "metadata": {
        "datalore": {
          "node_id": "z3tuMPOW7deq9kVCUnLfZm",
          "type": "CODE",
          "hide_input_from_viewers": true,
          "hide_output_from_viewers": true
        },
        "id": "dTL8-YO2Bnlz"
      }
    },
    {
      "cell_type": "code",
      "source": [
        "#hl — Preferred language (string defaults to English)\n",
        "#\n",
        "dict_ = {\n",
        "    'United States': 'US',\n",
        "    'China': 'CN',\n",
        "    'Japan': 'JP',\n",
        "    'Germany': 'DE',\n",
        "    'India': 'IN',\n",
        "    'United Kingdom': 'GB',\n",
        "    'France': 'FR',\n",
        "    'Brazil': 'BR',\n",
        "    'Italy': 'IT',\n",
        "    'Canada': 'CA',\n",
        "    'South Korea': 'KR',\n",
        "    'Russia': 'RU',\n",
        "    'Australia': 'AU',\n",
        "    'Spain': 'ES',\n",
        "    'Mexico': 'MX',\n",
        "    'Indonesia': 'ID',\n",
        "    'Netherlands': 'NL',\n",
        "    'Saudi Arabia': 'SA',\n",
        "    'Switzerland': 'CH',\n",
        "    'Turkey': 'TR',\n",
        "    'Taiwan': 'TW',\n",
        "    'Poland': 'PL',\n",
        "    'Sweden': 'SE',\n",
        "    'Belgium': 'BE',\n",
        "    'Thailand': 'TH',\n",
        "    'Iran': 'IR',\n",
        "    'Austria': 'AT',\n",
        "    'Norway': 'NO',\n",
        "    'United Arab Emirates': 'AE',\n",
        "    'Nigeria': 'NG',\n",
        "    'Israel': 'IL',\n",
        "    'South Africa': 'ZA',\n",
        "    'Ireland': 'IE',\n",
        "    'Denmark': 'DK',\n",
        "    'Malaysia': 'MY',\n",
        "    'Singapore': 'SG',\n",
        "    'Philippines': 'PH',\n",
        "    'Colombia': 'CO',\n",
        "    'Pakistan': 'PK',\n",
        "    'Bangladesh': 'BD',\n",
        "    'Egypt': 'EG',\n",
        "    'Finland': 'FI',\n",
        "    'Chile': 'CL',\n",
        "    'Vietnam': 'VN',\n",
        "    'Romania': 'RO',\n",
        "    'Czech Republic': 'CZ',\n",
        "    'Peru': 'PE',\n",
        "    'Greece': 'GR',\n",
        "    'Portugal': 'PT',\n",
        "    'New Zealand': 'NZ',\n",
        "    'Algeria': 'DZ',\n",
        "    'Iraq': 'IQ',\n",
        "    'Qatar': 'QA',\n",
        "    'Kazakhstan': 'KZ',\n",
        "    'Hungary': 'HU',\n",
        "    'Kuwait': 'KW',\n",
        "    'Morocco': 'MA',\n",
        "    'Ukraine': 'UA',\n",
        "    'Puerto Rico': 'PR',\n",
        "    'Ecuador': 'EC',\n",
        "    'Slovakia': 'SK',\n",
        "    'Sri Lanka': 'LK',\n",
        "    'Dominican Republic': 'DO',\n",
        "    'Kenya': 'KE',\n",
        "    'Oman': 'OM',\n",
        "    'Guatemala': 'GT',\n",
        "    'Syria': 'SY',\n",
        "    'Luxembourg': 'LU',\n",
        "    'Panama': 'PA',\n",
        "    'Uruguay': 'UY',\n",
        "    'Croatia': 'HR',\n",
        "    'Bulgaria': 'BG',\n",
        "    'Costa Rica': 'CR',\n",
        "    'Belarus': 'BY',\n",
        "    'Tanzania': 'TZ',\n",
        "    'Lebanon': 'LB',\n",
        "    'Serbia': 'RS',\n",
        "    'Libya': 'LY',\n",
        "    'Uzbekistan': 'UZ',\n",
        "    'Slovenia': 'SI',\n",
        "    'Lithuania': 'LT',\n",
        "    'Ghana': 'GH',\n",
        "    'Democratic Republic of the Congo': 'CD',\n",
        "    'Azerbaijan': 'AZ'\n",
        "}\n",
        "  \n",
        "\n",
        "languages = [\"en\", \"zh-cn\", \"hi\", \"es\", \"ar\"]\n",
        "translator = Translator(service_urls=['translate.google.com'])\n",
        "\n",
        "\n",
        "li=[]\n",
        "\n",
        "def Get_Values(keyword,Timeframe):\n",
        "    for lang in languages :\n",
        "        translation = translator.translate(keyword, dest=lang)\n",
        "        keyword=translation.text\n",
        "        for Country in dict_.keys() :\n",
        "            try :\n",
        "                Country_=dict_[Country]\n",
        "                pytrend = TrendReq(retries=3, backoff_factor=20)\n",
        "                kw_list = [keyword]\n",
        "                pytrend.build_payload(kw_list, timeframe=f'today {Timeframe}', geo=Country_, gprop='')\n",
        "                df=pytrend.interest_over_time().reset_index()\n",
        "                df['Country']=Country\n",
        "                df['Time_Frame']=Timeframe\n",
        "                df['Keyword']=keyword\n",
        "                df['Language']=lang\n",
        "                df.drop(['isPartial'], axis=1,inplace=True)\n",
        "                df.columns=['Date','Searching_Number','Country','Time_Frame','Keyword','Language']\n",
        "                li.append(df)\n",
        "            \n",
        "            except :\n",
        "                continue\n",
        "    df =pd.concat(li, axis=0)\n",
        "    return df \n",
        "\n",
        "\n",
        "# Input the keyword \n",
        "# input the month , year value, \n",
        "#input country like , United States , Afghanistan , Pakistan , India to get value on topic \n",
        "df=Get_Values('Machine learning','3-m')\n",
        "\n",
        "\n",
        "\n",
        "\n"
      ],
      "execution_count": 12,
      "outputs": [],
      "metadata": {
        "datalore": {
          "node_id": "Y1sF1QJZKeonUXzI1YArkK",
          "type": "CODE",
          "hide_input_from_viewers": true,
          "hide_output_from_viewers": true
        },
        "id": "SI1KjGJEBnl2"
      }
    },
    {
      "cell_type": "code",
      "source": [
        "list_=[]\n",
        "for i in df['Country'] :\n",
        "  country = CountryInfo(i)\n",
        "  list_.append(country.info()['region'])\n",
        "\n",
        "df['Regions']=list_"
      ],
      "execution_count": 21,
      "outputs": [],
      "metadata": {
        "datalore": {
          "node_id": "eJho4PjdgMGMsWxQ6Tcb5G",
          "type": "CODE",
          "hide_input_from_viewers": true,
          "hide_output_from_viewers": true
        },
        "id": "8Ol73kwzBnl4"
      }
    },
    {
      "cell_type": "code",
      "source": [
        "df.to_csv('Google_Trends.csv',index=False)"
      ],
      "metadata": {
        "id": "NjKrYgPuWXqm"
      },
      "execution_count": 21,
      "outputs": []
    }
  ],
  "metadata": {
    "kernelspec": {
      "display_name": "Python",
      "language": "python",
      "name": "python"
    },
    "datalore": {
      "computation_mode": "JUPYTER",
      "package_manager": "pip",
      "base_environment": "default",
      "packages": [],
      "report_row_ids": [],
      "version": 3
    },
    "colab": {
      "provenance": []
    }
  },
  "nbformat": 4,
  "nbformat_minor": 0
}