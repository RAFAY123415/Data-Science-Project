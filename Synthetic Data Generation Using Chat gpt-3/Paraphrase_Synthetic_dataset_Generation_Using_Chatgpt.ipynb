{
  "cells": [
    {
      "cell_type": "code",
      "execution_count": 1,
      "metadata": {
        "colab": {
          "base_uri": "https://localhost:8080/"
        },
        "id": "MI-LyNWDSYqW",
        "outputId": "2f6982b6-6e3a-454b-979a-44311d8962fa"
      },
      "outputs": [
        {
          "output_type": "stream",
          "name": "stdout",
          "text": [
            "\u001b[?25l     \u001b[90m━━━━━━━━━━━━━━━━━━━━━━━━━━━━━━━━━━━━━━━━\u001b[0m \u001b[32m0.0/55.5 KB\u001b[0m \u001b[31m?\u001b[0m eta \u001b[36m-:--:--\u001b[0m\r\u001b[2K     \u001b[90m━━━━━━━━━━━━━━━━━━━━━━━━━━━━━━━━━━━━━━━━\u001b[0m \u001b[32m55.5/55.5 KB\u001b[0m \u001b[31m2.5 MB/s\u001b[0m eta \u001b[36m0:00:00\u001b[0m\n",
            "\u001b[?25h  Installing build dependencies ... \u001b[?25l\u001b[?25hdone\n",
            "  Getting requirements to build wheel ... \u001b[?25l\u001b[?25hdone\n",
            "  Installing backend dependencies ... \u001b[?25l\u001b[?25hdone\n",
            "  Preparing metadata (pyproject.toml) ... \u001b[?25l\u001b[?25hdone\n",
            "  Building wheel for openai (pyproject.toml) ... \u001b[?25l\u001b[?25hdone\n"
          ]
        }
      ],
      "source": [
        "!pip install --quiet openai"
      ]
    },
    {
      "cell_type": "code",
      "execution_count": 2,
      "metadata": {
        "id": "XhYVX1DUbjbM"
      },
      "outputs": [],
      "source": [
        "import getpass\n",
        "import openai"
      ]
    },
    {
      "cell_type": "markdown",
      "metadata": {
        "id": "cujvDCIZSzZn"
      },
      "source": [
        "getpass() prompts the user for a password without echoing. The getpass module provides a secure way to handle the password prompts where programs interact with the users via the terminal."
      ]
    },
    {
      "cell_type": "code",
      "execution_count": 3,
      "metadata": {
        "colab": {
          "base_uri": "https://localhost:8080/"
        },
        "id": "fXafw3osSnQd",
        "outputId": "4a62d036-bdcc-4469-8732-19043e0feffa"
      },
      "outputs": [
        {
          "name": "stdout",
          "output_type": "stream",
          "text": [
            "Enter OpenAI API key:··········\n"
          ]
        }
      ],
      "source": [
        "openai.api_key = getpass.getpass(prompt='Enter OpenAI API key:')\n"
      ]
    },
    {
      "cell_type": "code",
      "execution_count": 4,
      "metadata": {
        "id": "zttQGMM2diS-"
      },
      "outputs": [],
      "source": [
        "response = openai.Completion.create(\n",
        "  engine=\"text-davinci-003\",\n",
        "  prompt=\"I am a diverse paraphrasing expert. I will generate many random pairs of original and paraphrased sentences.\\n\\nHere are a few:\\n\\noriginal: Once, a group of frogs was roaming around the forest in search of water.\\nparaphrase:  A gang of frogs was roaming about the woods in search of water once more.\\n\\noriginal:\",\n",
        "  temperature=0.7,\n",
        "  max_tokens=100,\n",
        "  top_p=0.9,\n",
        "  frequency_penalty=0.5,\n",
        "  presence_penalty=0.6,\n",
        "  stop=[\"original\"]\n",
        ")"
      ]
    },
    {
      "cell_type": "code",
      "execution_count": 6,
      "metadata": {
        "colab": {
          "base_uri": "https://localhost:8080/"
        },
        "id": "en3CCtn4ewP9",
        "outputId": "ab113e5c-87ce-43a6-c35e-d5cde5da99cf"
      },
      "outputs": [
        {
          "output_type": "stream",
          "name": "stdout",
          "text": [
            " She had a great idea, but no one was willing to listen.\n",
            "paraphrase: She had a terrific concept, yet nobody was ready to pay attention.\n"
          ]
        }
      ],
      "source": [
        "print(response['choices'][0]['text'])"
      ]
    },
    {
      "cell_type": "code",
      "execution_count": 7,
      "metadata": {
        "id": "Z2GdLVOGfPKC"
      },
      "outputs": [],
      "source": [
        "output_string = response['choices'][0]['text'].strip()\n",
        "Orignal,Paraphrase=output_string.split('\\nparaphrase:')"
      ]
    },
    {
      "cell_type": "code",
      "execution_count": 8,
      "metadata": {
        "id": "yhheMWjThX_8"
      },
      "outputs": [],
      "source": [
        "Orignal,Paraphrase=output_string.split('\\nparaphrase:')"
      ]
    },
    {
      "cell_type": "code",
      "execution_count": 9,
      "metadata": {
        "colab": {
          "base_uri": "https://localhost:8080/"
        },
        "id": "9TXvMioukFjr",
        "outputId": "acf2c6b2-9fd3-457e-925d-5a249af0247e"
      },
      "outputs": [
        {
          "output_type": "stream",
          "name": "stdout",
          "text": [
            "\u001b[2K     \u001b[90m━━━━━━━━━━━━━━━━━━━━━━━━━━━━━━━━━━━━━━━━\u001b[0m \u001b[32m8.3/8.3 MB\u001b[0m \u001b[31m58.7 MB/s\u001b[0m eta \u001b[36m0:00:00\u001b[0m\n",
            "\u001b[2K     \u001b[90m━━━━━━━━━━━━━━━━━━━━━━━━━━━━━━━━━━━━━━━━\u001b[0m \u001b[32m79.0/79.0 KB\u001b[0m \u001b[31m9.1 MB/s\u001b[0m eta \u001b[36m0:00:00\u001b[0m\n",
            "\u001b[2K     \u001b[90m━━━━━━━━━━━━━━━━━━━━━━━━━━━━━━━━━━━━━━\u001b[0m \u001b[32m184.0/184.0 KB\u001b[0m \u001b[31m19.4 MB/s\u001b[0m eta \u001b[36m0:00:00\u001b[0m\n",
            "\u001b[?25h  Preparing metadata (setup.py) ... \u001b[?25l\u001b[?25hdone\n",
            "\u001b[2K     \u001b[90m━━━━━━━━━━━━━━━━━━━━━━━━━━━━━━━━━━━━━━━━\u001b[0m \u001b[32m4.7/4.7 MB\u001b[0m \u001b[31m80.9 MB/s\u001b[0m eta \u001b[36m0:00:00\u001b[0m\n",
            "\u001b[2K     \u001b[90m━━━━━━━━━━━━━━━━━━━━━━━━━━━━━━━━━━━━━━━━\u001b[0m \u001b[32m62.7/62.7 KB\u001b[0m \u001b[31m7.6 MB/s\u001b[0m eta \u001b[36m0:00:00\u001b[0m\n",
            "\u001b[?25h  Building wheel for validators (setup.py) ... \u001b[?25l\u001b[?25hdone\n"
          ]
        }
      ],
      "source": [
        "!pip install --quiet streamlit==1.1.0  \n"
      ]
    },
    {
      "cell_type": "markdown",
      "metadata": {
        "id": "BXWMrxuFkYVi"
      },
      "source": [
        "#### Write app.py file in ipynb using %%writefile app.py\n"
      ]
    },
    {
      "cell_type": "code",
      "execution_count": 31,
      "metadata": {
        "colab": {
          "base_uri": "https://localhost:8080/"
        },
        "id": "jSYsiRggkMBx",
        "outputId": "9b8e57fe-83e5-41e4-c4f4-48cba2b4ac41"
      },
      "outputs": [
        {
          "output_type": "stream",
          "name": "stdout",
          "text": [
            "Overwriting app.py\n"
          ]
        }
      ],
      "source": [
        "%%writefile app.py\n",
        "import pandas as pd\n",
        "import streamlit as st\n",
        "import json\n",
        "import streamlit.components.v1 as components\n",
        "import os\n",
        "import openai\n",
        "import getpass\n",
        "import pandas as pd\n",
        "# Get the api api key through openai api key function\n",
        "openai.api_key  = st.text_input(\"OpenAI API Key\",'',type=\"password\")\n",
        "st.markdown(\"Paraphrase Dataset Generator\", unsafe_allow_html=True)\n",
        "st.write(\"#### Create paraphrase dataset, powered by GPT-3.\")\n",
        "st.write(\"\")\n",
        "if \"original\" not in st.session_state:\n",
        "    st.session_state.original = \"\"\n",
        "if \"paraphrase\" not in st.session_state:\n",
        "    st.session_state.paraphrase = \"\"\n",
        "if \"df\" not in st.session_state:\n",
        "    st.session_state.df = pd.DataFrame(columns=['original','paraphrase'])\n",
        "\n",
        "def getparaphrase():\n",
        "  response = openai.Completion.create(\n",
        "  engine=\"davinci-instruct-beta\",\n",
        "  prompt=\"I am a diverse paraphrasing expert. I will generate many random pairs of original and paraphrased sentences.\\n\\nHere are a few:\\n\\noriginal: Once, a group of frogs was roaming around the forest in search of water.\\nparaphrase:  A gang of frogs was roaming about the woods in search of water once more.\\n\\noriginal:\",\n",
        "  temperature=0.7,\n",
        "  max_tokens=100,\n",
        "  top_p=0.9,\n",
        "  frequency_penalty=0.5,\n",
        "  presence_penalty=0.6,\n",
        "  stop=[\"original\"]\n",
        "  )\n",
        "  output_string = response['choices'][0]['text'].strip()\n",
        "  Orignal,Paraphrase=output_string.split('\\nparaphrase:')\n",
        "  st.session_state.original = Orignal.strip()\n",
        "  st.session_state.paraphrase = Paraphrase.strip()\n",
        "\n",
        "def addtodb():\n",
        "  data = {\n",
        "    'original': st.session_state.original,\n",
        "    'paraphrase': st.session_state.paraphrase\n",
        "    }\n",
        "  st.session_state.df = st.session_state.df.append(data, ignore_index=True)\n",
        "\n",
        "st.button(\"Generate paraphrases\",on_click=getparaphrase)\n",
        "st.button(\"Add to Database\",on_click=addtodb)\n",
        "st.write(\"**Original:** \"+st.session_state.original)\n",
        "st.write(\"**Paraphrase:** \"+st.session_state.paraphrase)\n",
        "  \n",
        "st.dataframe(st.session_state.df)\n",
        "\n",
        "\n",
        "\n"
      ]
    },
    {
      "cell_type": "code",
      "execution_count": 33,
      "metadata": {
        "colab": {
          "base_uri": "https://localhost:8080/"
        },
        "id": "facOnMEflME9",
        "outputId": "f6dc8afc-260d-4457-f9ad-2d7d8264a831"
      },
      "outputs": [
        {
          "output_type": "stream",
          "name": "stdout",
          "text": [
            "2023-02-13 09:25:07.593 INFO    numexpr.utils: NumExpr defaulting to 2 threads.\n",
            "\u001b[K\u001b[?25hnpx: installed 22 in 2.294s\n",
            "your url is: https://gold-news-notice-35-238-187-1.loca.lt\n",
            "\u001b[0m\n",
            "\u001b[34m\u001b[1m  You can now view your Streamlit app in your browser.\u001b[0m\n",
            "\u001b[0m\n",
            "\u001b[34m  Network URL: \u001b[0m\u001b[1mhttp://172.28.0.12:8501\u001b[0m\n",
            "\u001b[34m  External URL: \u001b[0m\u001b[1mhttp://35.238.187.1:8501\u001b[0m\n",
            "\u001b[0m\n",
            "2023-02-13 09:51:54.534 error_code=None error_message=\"You didn't provide an API key. You need to provide your API key in an Authorization header using Bearer auth (i.e. Authorization: Bearer YOUR_KEY), or as the password field (with blank username) if you're accessing the API from your browser and are prompted for a username and password. You can obtain an API key from https://platform.openai.com/account/api-keys.\" error_param=None error_type=invalid_request_error message='OpenAI API error received' stream_error=False\n",
            "2023-02-13 09:51:54.535 Traceback (most recent call last):\n",
            "  File \"/usr/local/lib/python3.8/dist-packages/streamlit/script_runner.py\", line 351, in _run_script\n",
            "    self._session_state.call_callbacks()\n",
            "  File \"/usr/local/lib/python3.8/dist-packages/streamlit/state/session_state.py\", line 462, in call_callbacks\n",
            "    self._new_widget_state.call_callback(wid)\n",
            "  File \"/usr/local/lib/python3.8/dist-packages/streamlit/state/session_state.py\", line 220, in call_callback\n",
            "    callback(*args, **kwargs)\n",
            "  File \"/content/app.py\", line 22, in getparaphrase\n",
            "    response = openai.Completion.create(\n",
            "  File \"/usr/local/lib/python3.8/dist-packages/openai/api_resources/completion.py\", line 25, in create\n",
            "    return super().create(*args, **kwargs)\n",
            "  File \"/usr/local/lib/python3.8/dist-packages/openai/api_resources/abstract/engine_api_resource.py\", line 153, in create\n",
            "    response, _, api_key = requestor.request(\n",
            "  File \"/usr/local/lib/python3.8/dist-packages/openai/api_requestor.py\", line 226, in request\n",
            "    resp, got_stream = self._interpret_response(result, stream)\n",
            "  File \"/usr/local/lib/python3.8/dist-packages/openai/api_requestor.py\", line 619, in _interpret_response\n",
            "    self._interpret_response_line(\n",
            "  File \"/usr/local/lib/python3.8/dist-packages/openai/api_requestor.py\", line 679, in _interpret_response_line\n",
            "    raise self.handle_error_response(\n",
            "openai.error.AuthenticationError: You didn't provide an API key. You need to provide your API key in an Authorization header using Bearer auth (i.e. Authorization: Bearer YOUR_KEY), or as the password field (with blank username) if you're accessing the API from your browser and are prompted for a username and password. You can obtain an API key from https://platform.openai.com/account/api-keys.\n",
            "\n",
            "\u001b[34m  Stopping...\u001b[0m\n",
            "^C\n"
          ]
        }
      ],
      "source": [
        "!streamlit run app.py & npx localtunnel --port 8501\n"
      ]
    }
  ],
  "metadata": {
    "colab": {
      "provenance": []
    },
    "kernelspec": {
      "display_name": "Python 3",
      "name": "python3"
    },
    "language_info": {
      "name": "python"
    }
  },
  "nbformat": 4,
  "nbformat_minor": 0
}